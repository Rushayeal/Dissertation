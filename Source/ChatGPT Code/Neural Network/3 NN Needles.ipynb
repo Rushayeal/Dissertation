{
 "cells": [
  {
   "cell_type": "code",
   "execution_count": 1,
   "metadata": {},
   "outputs": [
    {
     "data": {
      "text/html": [
       "<div>\n",
       "<style scoped>\n",
       "    .dataframe tbody tr th:only-of-type {\n",
       "        vertical-align: middle;\n",
       "    }\n",
       "\n",
       "    .dataframe tbody tr th {\n",
       "        vertical-align: top;\n",
       "    }\n",
       "\n",
       "    .dataframe thead th {\n",
       "        text-align: right;\n",
       "    }\n",
       "</style>\n",
       "<table border=\"1\" class=\"dataframe\">\n",
       "  <thead>\n",
       "    <tr style=\"text-align: right;\">\n",
       "      <th></th>\n",
       "      <th>Date</th>\n",
       "      <th>Month</th>\n",
       "      <th>Quarter</th>\n",
       "      <th>Year</th>\n",
       "      <th>Qty</th>\n",
       "      <th>Product</th>\n",
       "      <th>Category</th>\n",
       "      <th>Pharmacy</th>\n",
       "      <th>Location</th>\n",
       "      <th>Pharmacy 10</th>\n",
       "      <th>...</th>\n",
       "      <th>Brazil, USA, Blank, IE, Zimbabwe, Zurich</th>\n",
       "      <th>Ireland &amp; Northern Ireland</th>\n",
       "      <th>London</th>\n",
       "      <th>NorthEast, Midlands</th>\n",
       "      <th>NorthWest</th>\n",
       "      <th>Outside London M25</th>\n",
       "      <th>Outside London the rest</th>\n",
       "      <th>Scotland, Newcastle</th>\n",
       "      <th>SouthEast</th>\n",
       "      <th>SouthWest</th>\n",
       "    </tr>\n",
       "  </thead>\n",
       "  <tbody>\n",
       "    <tr>\n",
       "      <th>14</th>\n",
       "      <td>1-12-2015</td>\n",
       "      <td>12</td>\n",
       "      <td>4</td>\n",
       "      <td>2015</td>\n",
       "      <td>1</td>\n",
       "      <td>Mesotherapy Needles</td>\n",
       "      <td>Needles</td>\n",
       "      <td>Pharmacy 2</td>\n",
       "      <td>Outside London M25</td>\n",
       "      <td>0</td>\n",
       "      <td>...</td>\n",
       "      <td>0</td>\n",
       "      <td>0</td>\n",
       "      <td>0</td>\n",
       "      <td>0</td>\n",
       "      <td>0</td>\n",
       "      <td>1</td>\n",
       "      <td>0</td>\n",
       "      <td>0</td>\n",
       "      <td>0</td>\n",
       "      <td>0</td>\n",
       "    </tr>\n",
       "    <tr>\n",
       "      <th>39</th>\n",
       "      <td>1-1-2016</td>\n",
       "      <td>1</td>\n",
       "      <td>1</td>\n",
       "      <td>2016</td>\n",
       "      <td>1</td>\n",
       "      <td>Mesotherapy Needles</td>\n",
       "      <td>Needles</td>\n",
       "      <td>Pharmacy 2</td>\n",
       "      <td>NorthWest</td>\n",
       "      <td>0</td>\n",
       "      <td>...</td>\n",
       "      <td>0</td>\n",
       "      <td>0</td>\n",
       "      <td>0</td>\n",
       "      <td>0</td>\n",
       "      <td>1</td>\n",
       "      <td>0</td>\n",
       "      <td>0</td>\n",
       "      <td>0</td>\n",
       "      <td>0</td>\n",
       "      <td>0</td>\n",
       "    </tr>\n",
       "    <tr>\n",
       "      <th>40</th>\n",
       "      <td>1-1-2016</td>\n",
       "      <td>1</td>\n",
       "      <td>1</td>\n",
       "      <td>2016</td>\n",
       "      <td>1</td>\n",
       "      <td>Mesotherapy Needles</td>\n",
       "      <td>Needles</td>\n",
       "      <td>Pharmacy 2</td>\n",
       "      <td>Outside London M25</td>\n",
       "      <td>0</td>\n",
       "      <td>...</td>\n",
       "      <td>0</td>\n",
       "      <td>0</td>\n",
       "      <td>0</td>\n",
       "      <td>0</td>\n",
       "      <td>0</td>\n",
       "      <td>1</td>\n",
       "      <td>0</td>\n",
       "      <td>0</td>\n",
       "      <td>0</td>\n",
       "      <td>0</td>\n",
       "    </tr>\n",
       "    <tr>\n",
       "      <th>41</th>\n",
       "      <td>1-1-2016</td>\n",
       "      <td>1</td>\n",
       "      <td>1</td>\n",
       "      <td>2016</td>\n",
       "      <td>1</td>\n",
       "      <td>Mesotherapy Needles</td>\n",
       "      <td>Needles</td>\n",
       "      <td>Pharmacy 2</td>\n",
       "      <td>Outside London M25</td>\n",
       "      <td>0</td>\n",
       "      <td>...</td>\n",
       "      <td>0</td>\n",
       "      <td>0</td>\n",
       "      <td>0</td>\n",
       "      <td>0</td>\n",
       "      <td>0</td>\n",
       "      <td>1</td>\n",
       "      <td>0</td>\n",
       "      <td>0</td>\n",
       "      <td>0</td>\n",
       "      <td>0</td>\n",
       "    </tr>\n",
       "    <tr>\n",
       "      <th>79</th>\n",
       "      <td>1-2-2016</td>\n",
       "      <td>2</td>\n",
       "      <td>1</td>\n",
       "      <td>2016</td>\n",
       "      <td>1</td>\n",
       "      <td>Mesotherapy Needles</td>\n",
       "      <td>Needles</td>\n",
       "      <td>Pharmacy 2</td>\n",
       "      <td>Scotland, Newcastle</td>\n",
       "      <td>0</td>\n",
       "      <td>...</td>\n",
       "      <td>0</td>\n",
       "      <td>0</td>\n",
       "      <td>0</td>\n",
       "      <td>0</td>\n",
       "      <td>0</td>\n",
       "      <td>0</td>\n",
       "      <td>0</td>\n",
       "      <td>1</td>\n",
       "      <td>0</td>\n",
       "      <td>0</td>\n",
       "    </tr>\n",
       "    <tr>\n",
       "      <th>...</th>\n",
       "      <td>...</td>\n",
       "      <td>...</td>\n",
       "      <td>...</td>\n",
       "      <td>...</td>\n",
       "      <td>...</td>\n",
       "      <td>...</td>\n",
       "      <td>...</td>\n",
       "      <td>...</td>\n",
       "      <td>...</td>\n",
       "      <td>...</td>\n",
       "      <td>...</td>\n",
       "      <td>...</td>\n",
       "      <td>...</td>\n",
       "      <td>...</td>\n",
       "      <td>...</td>\n",
       "      <td>...</td>\n",
       "      <td>...</td>\n",
       "      <td>...</td>\n",
       "      <td>...</td>\n",
       "      <td>...</td>\n",
       "      <td>...</td>\n",
       "    </tr>\n",
       "    <tr>\n",
       "      <th>68074</th>\n",
       "      <td>1-3-2022</td>\n",
       "      <td>3</td>\n",
       "      <td>1</td>\n",
       "      <td>2022</td>\n",
       "      <td>1</td>\n",
       "      <td>Skin Booster Needles</td>\n",
       "      <td>Needles</td>\n",
       "      <td>Pharmacy 3</td>\n",
       "      <td>SouthEast</td>\n",
       "      <td>0</td>\n",
       "      <td>...</td>\n",
       "      <td>0</td>\n",
       "      <td>0</td>\n",
       "      <td>0</td>\n",
       "      <td>0</td>\n",
       "      <td>0</td>\n",
       "      <td>0</td>\n",
       "      <td>0</td>\n",
       "      <td>0</td>\n",
       "      <td>1</td>\n",
       "      <td>0</td>\n",
       "    </tr>\n",
       "    <tr>\n",
       "      <th>68087</th>\n",
       "      <td>1-3-2022</td>\n",
       "      <td>3</td>\n",
       "      <td>1</td>\n",
       "      <td>2022</td>\n",
       "      <td>6</td>\n",
       "      <td>Skin Booster Needles</td>\n",
       "      <td>Needles</td>\n",
       "      <td>Pharmacy 10</td>\n",
       "      <td>Outside London the rest</td>\n",
       "      <td>1</td>\n",
       "      <td>...</td>\n",
       "      <td>0</td>\n",
       "      <td>0</td>\n",
       "      <td>0</td>\n",
       "      <td>0</td>\n",
       "      <td>0</td>\n",
       "      <td>0</td>\n",
       "      <td>1</td>\n",
       "      <td>0</td>\n",
       "      <td>0</td>\n",
       "      <td>0</td>\n",
       "    </tr>\n",
       "    <tr>\n",
       "      <th>68092</th>\n",
       "      <td>1-3-2022</td>\n",
       "      <td>3</td>\n",
       "      <td>1</td>\n",
       "      <td>2022</td>\n",
       "      <td>1</td>\n",
       "      <td>Skin Booster Needles</td>\n",
       "      <td>Needles</td>\n",
       "      <td>Pharmacy 10</td>\n",
       "      <td>Ireland &amp; Northern Ireland</td>\n",
       "      <td>1</td>\n",
       "      <td>...</td>\n",
       "      <td>0</td>\n",
       "      <td>1</td>\n",
       "      <td>0</td>\n",
       "      <td>0</td>\n",
       "      <td>0</td>\n",
       "      <td>0</td>\n",
       "      <td>0</td>\n",
       "      <td>0</td>\n",
       "      <td>0</td>\n",
       "      <td>0</td>\n",
       "    </tr>\n",
       "    <tr>\n",
       "      <th>68130</th>\n",
       "      <td>1-3-2022</td>\n",
       "      <td>3</td>\n",
       "      <td>1</td>\n",
       "      <td>2022</td>\n",
       "      <td>1</td>\n",
       "      <td>Mesotherapy Needles</td>\n",
       "      <td>Needles</td>\n",
       "      <td>Pharmacy 10</td>\n",
       "      <td>Ireland &amp; Northern Ireland</td>\n",
       "      <td>1</td>\n",
       "      <td>...</td>\n",
       "      <td>0</td>\n",
       "      <td>1</td>\n",
       "      <td>0</td>\n",
       "      <td>0</td>\n",
       "      <td>0</td>\n",
       "      <td>0</td>\n",
       "      <td>0</td>\n",
       "      <td>0</td>\n",
       "      <td>0</td>\n",
       "      <td>0</td>\n",
       "    </tr>\n",
       "    <tr>\n",
       "      <th>68154</th>\n",
       "      <td>1-3-2022</td>\n",
       "      <td>3</td>\n",
       "      <td>1</td>\n",
       "      <td>2022</td>\n",
       "      <td>1</td>\n",
       "      <td>Skin Booster Needles</td>\n",
       "      <td>Needles</td>\n",
       "      <td>Pharmacy 10</td>\n",
       "      <td>Ireland &amp; Northern Ireland</td>\n",
       "      <td>1</td>\n",
       "      <td>...</td>\n",
       "      <td>0</td>\n",
       "      <td>1</td>\n",
       "      <td>0</td>\n",
       "      <td>0</td>\n",
       "      <td>0</td>\n",
       "      <td>0</td>\n",
       "      <td>0</td>\n",
       "      <td>0</td>\n",
       "      <td>0</td>\n",
       "      <td>0</td>\n",
       "    </tr>\n",
       "  </tbody>\n",
       "</table>\n",
       "<p>465 rows × 27 columns</p>\n",
       "</div>"
      ],
      "text/plain": [
       "            Date  Month  Quarter  Year  Qty               Product Category  \\\n",
       "14     1-12-2015     12        4  2015    1   Mesotherapy Needles  Needles   \n",
       "39      1-1-2016      1        1  2016    1   Mesotherapy Needles  Needles   \n",
       "40      1-1-2016      1        1  2016    1   Mesotherapy Needles  Needles   \n",
       "41      1-1-2016      1        1  2016    1   Mesotherapy Needles  Needles   \n",
       "79      1-2-2016      2        1  2016    1   Mesotherapy Needles  Needles   \n",
       "...          ...    ...      ...   ...  ...                   ...      ...   \n",
       "68074   1-3-2022      3        1  2022    1  Skin Booster Needles  Needles   \n",
       "68087   1-3-2022      3        1  2022    6  Skin Booster Needles  Needles   \n",
       "68092   1-3-2022      3        1  2022    1  Skin Booster Needles  Needles   \n",
       "68130   1-3-2022      3        1  2022    1   Mesotherapy Needles  Needles   \n",
       "68154   1-3-2022      3        1  2022    1  Skin Booster Needles  Needles   \n",
       "\n",
       "          Pharmacy                    Location  Pharmacy 10  ...  \\\n",
       "14      Pharmacy 2          Outside London M25            0  ...   \n",
       "39      Pharmacy 2                   NorthWest            0  ...   \n",
       "40      Pharmacy 2          Outside London M25            0  ...   \n",
       "41      Pharmacy 2          Outside London M25            0  ...   \n",
       "79      Pharmacy 2         Scotland, Newcastle            0  ...   \n",
       "...            ...                         ...          ...  ...   \n",
       "68074   Pharmacy 3                   SouthEast            0  ...   \n",
       "68087  Pharmacy 10     Outside London the rest            1  ...   \n",
       "68092  Pharmacy 10  Ireland & Northern Ireland            1  ...   \n",
       "68130  Pharmacy 10  Ireland & Northern Ireland            1  ...   \n",
       "68154  Pharmacy 10  Ireland & Northern Ireland            1  ...   \n",
       "\n",
       "       Brazil, USA, Blank, IE, Zimbabwe, Zurich  Ireland & Northern Ireland  \\\n",
       "14                                            0                           0   \n",
       "39                                            0                           0   \n",
       "40                                            0                           0   \n",
       "41                                            0                           0   \n",
       "79                                            0                           0   \n",
       "...                                         ...                         ...   \n",
       "68074                                         0                           0   \n",
       "68087                                         0                           0   \n",
       "68092                                         0                           1   \n",
       "68130                                         0                           1   \n",
       "68154                                         0                           1   \n",
       "\n",
       "       London  NorthEast, Midlands  NorthWest  Outside London M25  \\\n",
       "14          0                    0          0                   1   \n",
       "39          0                    0          1                   0   \n",
       "40          0                    0          0                   1   \n",
       "41          0                    0          0                   1   \n",
       "79          0                    0          0                   0   \n",
       "...       ...                  ...        ...                 ...   \n",
       "68074       0                    0          0                   0   \n",
       "68087       0                    0          0                   0   \n",
       "68092       0                    0          0                   0   \n",
       "68130       0                    0          0                   0   \n",
       "68154       0                    0          0                   0   \n",
       "\n",
       "       Outside London the rest  Scotland, Newcastle  SouthEast  SouthWest  \n",
       "14                           0                    0          0          0  \n",
       "39                           0                    0          0          0  \n",
       "40                           0                    0          0          0  \n",
       "41                           0                    0          0          0  \n",
       "79                           0                    1          0          0  \n",
       "...                        ...                  ...        ...        ...  \n",
       "68074                        0                    0          1          0  \n",
       "68087                        1                    0          0          0  \n",
       "68092                        0                    0          0          0  \n",
       "68130                        0                    0          0          0  \n",
       "68154                        0                    0          0          0  \n",
       "\n",
       "[465 rows x 27 columns]"
      ]
     },
     "execution_count": 1,
     "metadata": {},
     "output_type": "execute_result"
    }
   ],
   "source": [
    "import pandas as pd\n",
    "import matplotlib.pyplot as plt\n",
    "from sklearn.neural_network import MLPRegressor\n",
    "from sklearn.model_selection import RandomizedSearchCV\n",
    "\n",
    "# load the sales data set\n",
    "sales_data = pd.read_csv('../../../Data/SalesData.csv')\n",
    "sales_data.head()\n",
    "\n",
    "sales_data = sales_data[sales_data['Category'] == 'Needles'] \n",
    "\n",
    "\n",
    "pharmacy_onehot = pd.get_dummies(sales_data['Pharmacy'])\n",
    "\n",
    "# concatenate the one-hot encoded categories with the original data\n",
    "sales_data_encoded2 = pd.concat([sales_data, pharmacy_onehot], axis=1)\n",
    "\n",
    "product_onehot = pd.get_dummies(sales_data['Product'])\n",
    "\n",
    "# concatenate the one-hot encoded categories with the original data\n",
    "sales_data_encoded3 = pd.concat([sales_data_encoded2, product_onehot], axis=1)\n",
    "\n",
    "product_onehot = pd.get_dummies(sales_data['Location'])\n",
    "\n",
    "# concatenate the one-hot encoded categories with the original data\n",
    "sales_data_encoded = pd.concat([sales_data_encoded3, product_onehot], axis=1)\n",
    "\n",
    "sales_data_encoded\n"
   ]
  },
  {
   "cell_type": "code",
   "execution_count": 2,
   "metadata": {},
   "outputs": [
    {
     "data": {
      "text/plain": [
       "['Date',\n",
       " 'Month',\n",
       " 'Quarter',\n",
       " 'Year',\n",
       " 'Qty',\n",
       " 'Product',\n",
       " 'Category',\n",
       " 'Pharmacy',\n",
       " 'Location',\n",
       " 'Pharmacy 10',\n",
       " 'Pharmacy 2',\n",
       " 'Pharmacy 3',\n",
       " 'Pharmacy 4',\n",
       " 'Pharmacy 5',\n",
       " 'Pharmacy 9',\n",
       " 'Mesotherapy Needles',\n",
       " 'Skin Booster Needles',\n",
       " 'Brazil, USA, Blank, IE, Zimbabwe, Zurich',\n",
       " 'Ireland & Northern Ireland',\n",
       " 'London',\n",
       " 'NorthEast, Midlands',\n",
       " 'NorthWest',\n",
       " 'Outside London M25',\n",
       " 'Outside London the rest',\n",
       " 'Scotland, Newcastle',\n",
       " 'SouthEast',\n",
       " 'SouthWest']"
      ]
     },
     "execution_count": 2,
     "metadata": {},
     "output_type": "execute_result"
    }
   ],
   "source": [
    "list(sales_data_encoded.columns)"
   ]
  },
  {
   "cell_type": "code",
   "execution_count": 3,
   "metadata": {},
   "outputs": [],
   "source": [
    "# group the data by date and sum the quantities and category columns\n",
    "sales_data_grouped = sales_data_encoded.groupby('Date').agg({\n",
    "    'Qty': 'sum',\n",
    "    'Pharmacy 2' : 'sum',\n",
    "    'Pharmacy 3' : 'sum',\n",
    "    'Pharmacy 4' : 'sum',\n",
    "    'Pharmacy 5' : 'sum',\n",
    "    'Pharmacy 9' : 'sum',\n",
    "    'Pharmacy 10' : 'sum',\n",
    "    'Mesotherapy Needles' : 'sum',\n",
    "    'Skin Booster Needles' : 'sum',\n",
    "    'Brazil, USA, Blank, IE, Zimbabwe, Zurich' : 'sum',\n",
    "    'Ireland & Northern Ireland' : 'sum',\n",
    "    'London' : 'sum',\n",
    "    'NorthEast, Midlands' : 'sum',\n",
    "    'NorthWest' : 'sum',\n",
    "    'Outside London M25' : 'sum',\n",
    "    'Outside London the rest' : 'sum',\n",
    "    'Scotland, Newcastle' : 'sum',\n",
    "    'SouthEast' : 'sum',\n",
    "    'SouthWest' : 'sum'\n",
    "    \t\t\t\t\t\n",
    "})\n",
    "\n",
    "# reset the index to make date a column again\n",
    "sales_data_grouped = sales_data_grouped.reset_index()\n",
    "\n",
    "# create lag features\n",
    "sales_data_lagged = sales_data_grouped.copy()\n",
    "for i in range(1, 8):\n",
    "    sales_data_lagged[f'Qty_lag_{i}'] = sales_data_lagged['Qty'].shift(i)\n",
    "\n",
    "# remove rows with missing values\n",
    "sales_data_lagged.dropna(inplace=True)\n",
    "\n",
    "# split the data into training and testing sets\n",
    "train_size = int(len(sales_data_lagged) * 0.8)\n",
    "train_data = sales_data_lagged[:train_size]\n",
    "test_data = sales_data_lagged[train_size:]\n"
   ]
  },
  {
   "cell_type": "code",
   "execution_count": 4,
   "metadata": {},
   "outputs": [],
   "source": [
    "# train a random forest model\n",
    "\n",
    "# model = RandomForestRegressor(n_estimators=100, max_depth=5)\n",
    "# model.fit(train_data.iloc[:, 2:], train_data['Qty'])\n",
    "\n",
    "activation = ['identity', 'logistic', 'tanh', 'relu']\n",
    "solver = ['lbfgs', 'sgd', 'adam']\n",
    "\n",
    "random_grid_mlpr = {\n",
    "    'activation' : activation,\n",
    "    'solver' : solver\n",
    "}\n",
    "\n",
    "mlpr = MLPRegressor()\n",
    "mlpr_random = RandomizedSearchCV(\n",
    "    estimator=mlpr,\n",
    "    param_distributions=random_grid_mlpr,\n",
    "    n_iter=10,\n",
    "    cv=5,\n",
    "    verbose=5,\n",
    "    random_state=0\n",
    ")"
   ]
  },
  {
   "cell_type": "code",
   "execution_count": 5,
   "metadata": {},
   "outputs": [
    {
     "name": "stdout",
     "output_type": "stream",
     "text": [
      "Fitting 5 folds for each of 10 candidates, totalling 50 fits\n"
     ]
    },
    {
     "name": "stderr",
     "output_type": "stream",
     "text": [
      "c:\\Users\\galea\\anaconda3\\lib\\site-packages\\sklearn\\neural_network\\_multilayer_perceptron.py:559: ConvergenceWarning: lbfgs failed to converge (status=1):\n",
      "STOP: TOTAL NO. of ITERATIONS REACHED LIMIT.\n",
      "\n",
      "Increase the number of iterations (max_iter) or scale the data as shown in:\n",
      "    https://scikit-learn.org/stable/modules/preprocessing.html\n",
      "  self.n_iter_ = _check_optimize_result(\"lbfgs\", opt_res, self.max_iter)\n",
      "c:\\Users\\galea\\anaconda3\\lib\\site-packages\\sklearn\\neural_network\\_multilayer_perceptron.py:559: ConvergenceWarning: lbfgs failed to converge (status=1):\n",
      "STOP: TOTAL NO. of ITERATIONS REACHED LIMIT.\n",
      "\n",
      "Increase the number of iterations (max_iter) or scale the data as shown in:\n",
      "    https://scikit-learn.org/stable/modules/preprocessing.html\n",
      "  self.n_iter_ = _check_optimize_result(\"lbfgs\", opt_res, self.max_iter)\n"
     ]
    },
    {
     "name": "stdout",
     "output_type": "stream",
     "text": [
      "[CV 1/5] END .....activation=tanh, solver=lbfgs;, score=0.229 total time=   0.2s\n",
      "[CV 2/5] END .....activation=tanh, solver=lbfgs;, score=0.411 total time=   0.0s\n"
     ]
    },
    {
     "name": "stderr",
     "output_type": "stream",
     "text": [
      "c:\\Users\\galea\\anaconda3\\lib\\site-packages\\sklearn\\neural_network\\_multilayer_perceptron.py:559: ConvergenceWarning: lbfgs failed to converge (status=1):\n",
      "STOP: TOTAL NO. of ITERATIONS REACHED LIMIT.\n",
      "\n",
      "Increase the number of iterations (max_iter) or scale the data as shown in:\n",
      "    https://scikit-learn.org/stable/modules/preprocessing.html\n",
      "  self.n_iter_ = _check_optimize_result(\"lbfgs\", opt_res, self.max_iter)\n"
     ]
    },
    {
     "name": "stdout",
     "output_type": "stream",
     "text": [
      "[CV 3/5] END .....activation=tanh, solver=lbfgs;, score=0.545 total time=   0.0s\n",
      "[CV 4/5] END .....activation=tanh, solver=lbfgs;, score=0.531 total time=   0.0s\n",
      "[CV 5/5] END .....activation=tanh, solver=lbfgs;, score=0.498 total time=   0.0s\n",
      "[CV 1/5] END ......activation=relu, solver=adam;, score=0.889 total time=   0.0s\n"
     ]
    },
    {
     "name": "stderr",
     "output_type": "stream",
     "text": [
      "c:\\Users\\galea\\anaconda3\\lib\\site-packages\\sklearn\\neural_network\\_multilayer_perceptron.py:702: ConvergenceWarning: Stochastic Optimizer: Maximum iterations (200) reached and the optimization hasn't converged yet.\n",
      "  warnings.warn(\n",
      "c:\\Users\\galea\\anaconda3\\lib\\site-packages\\sklearn\\neural_network\\_multilayer_perceptron.py:702: ConvergenceWarning: Stochastic Optimizer: Maximum iterations (200) reached and the optimization hasn't converged yet.\n",
      "  warnings.warn(\n",
      "c:\\Users\\galea\\anaconda3\\lib\\site-packages\\sklearn\\neural_network\\_multilayer_perceptron.py:702: ConvergenceWarning: Stochastic Optimizer: Maximum iterations (200) reached and the optimization hasn't converged yet.\n",
      "  warnings.warn(\n"
     ]
    },
    {
     "name": "stdout",
     "output_type": "stream",
     "text": [
      "[CV 2/5] END ......activation=relu, solver=adam;, score=0.675 total time=   0.0s\n",
      "[CV 3/5] END ......activation=relu, solver=adam;, score=0.941 total time=   0.0s\n"
     ]
    },
    {
     "name": "stderr",
     "output_type": "stream",
     "text": [
      "c:\\Users\\galea\\anaconda3\\lib\\site-packages\\sklearn\\neural_network\\_multilayer_perceptron.py:702: ConvergenceWarning: Stochastic Optimizer: Maximum iterations (200) reached and the optimization hasn't converged yet.\n",
      "  warnings.warn(\n",
      "c:\\Users\\galea\\anaconda3\\lib\\site-packages\\sklearn\\neural_network\\_multilayer_perceptron.py:702: ConvergenceWarning: Stochastic Optimizer: Maximum iterations (200) reached and the optimization hasn't converged yet.\n",
      "  warnings.warn(\n",
      "c:\\Users\\galea\\anaconda3\\lib\\site-packages\\sklearn\\neural_network\\_multilayer_perceptron.py:702: ConvergenceWarning: Stochastic Optimizer: Maximum iterations (200) reached and the optimization hasn't converged yet.\n",
      "  warnings.warn(\n"
     ]
    },
    {
     "name": "stdout",
     "output_type": "stream",
     "text": [
      "[CV 4/5] END ......activation=relu, solver=adam;, score=0.647 total time=   0.0s\n",
      "[CV 5/5] END ......activation=relu, solver=adam;, score=0.913 total time=   0.0s\n",
      "[CV 1/5] END ..activation=logistic, solver=sgd;, score=-0.504 total time=   0.0s\n"
     ]
    },
    {
     "name": "stderr",
     "output_type": "stream",
     "text": [
      "c:\\Users\\galea\\anaconda3\\lib\\site-packages\\sklearn\\neural_network\\_multilayer_perceptron.py:702: ConvergenceWarning: Stochastic Optimizer: Maximum iterations (200) reached and the optimization hasn't converged yet.\n",
      "  warnings.warn(\n",
      "c:\\Users\\galea\\anaconda3\\lib\\site-packages\\sklearn\\neural_network\\_multilayer_perceptron.py:702: ConvergenceWarning: Stochastic Optimizer: Maximum iterations (200) reached and the optimization hasn't converged yet.\n",
      "  warnings.warn(\n",
      "c:\\Users\\galea\\anaconda3\\lib\\site-packages\\sklearn\\neural_network\\_multilayer_perceptron.py:702: ConvergenceWarning: Stochastic Optimizer: Maximum iterations (200) reached and the optimization hasn't converged yet.\n",
      "  warnings.warn(\n"
     ]
    },
    {
     "name": "stdout",
     "output_type": "stream",
     "text": [
      "[CV 2/5] END ..activation=logistic, solver=sgd;, score=-0.063 total time=   0.0s\n",
      "[CV 3/5] END ...activation=logistic, solver=sgd;, score=0.786 total time=   0.0s\n",
      "[CV 4/5] END ...activation=logistic, solver=sgd;, score=0.873 total time=   0.0s\n"
     ]
    },
    {
     "name": "stderr",
     "output_type": "stream",
     "text": [
      "c:\\Users\\galea\\anaconda3\\lib\\site-packages\\sklearn\\neural_network\\_multilayer_perceptron.py:702: ConvergenceWarning: Stochastic Optimizer: Maximum iterations (200) reached and the optimization hasn't converged yet.\n",
      "  warnings.warn(\n",
      "c:\\Users\\galea\\anaconda3\\lib\\site-packages\\sklearn\\neural_network\\_multilayer_perceptron.py:702: ConvergenceWarning: Stochastic Optimizer: Maximum iterations (200) reached and the optimization hasn't converged yet.\n",
      "  warnings.warn(\n"
     ]
    },
    {
     "name": "stdout",
     "output_type": "stream",
     "text": [
      "[CV 5/5] END ...activation=logistic, solver=sgd;, score=0.590 total time=   0.0s\n",
      "[CV 1/5] END .......activation=relu, solver=sgd;, score=0.178 total time=   0.0s\n",
      "[CV 2/5] END .......activation=relu, solver=sgd;, score=0.020 total time=   0.0s\n",
      "[CV 3/5] END .......activation=relu, solver=sgd;, score=0.475 total time=   0.0s\n",
      "[CV 4/5] END .......activation=relu, solver=sgd;, score=0.729 total time=   0.0s\n",
      "[CV 5/5] END ......activation=relu, solver=sgd;, score=-0.032 total time=   0.0s\n",
      "[CV 1/5] END ..activation=identity, solver=adam;, score=0.911 total time=   0.0s\n"
     ]
    },
    {
     "name": "stderr",
     "output_type": "stream",
     "text": [
      "c:\\Users\\galea\\anaconda3\\lib\\site-packages\\sklearn\\neural_network\\_multilayer_perceptron.py:702: ConvergenceWarning: Stochastic Optimizer: Maximum iterations (200) reached and the optimization hasn't converged yet.\n",
      "  warnings.warn(\n",
      "c:\\Users\\galea\\anaconda3\\lib\\site-packages\\sklearn\\neural_network\\_multilayer_perceptron.py:702: ConvergenceWarning: Stochastic Optimizer: Maximum iterations (200) reached and the optimization hasn't converged yet.\n",
      "  warnings.warn(\n",
      "c:\\Users\\galea\\anaconda3\\lib\\site-packages\\sklearn\\neural_network\\_multilayer_perceptron.py:702: ConvergenceWarning: Stochastic Optimizer: Maximum iterations (200) reached and the optimization hasn't converged yet.\n",
      "  warnings.warn(\n",
      "c:\\Users\\galea\\anaconda3\\lib\\site-packages\\sklearn\\neural_network\\_multilayer_perceptron.py:702: ConvergenceWarning: Stochastic Optimizer: Maximum iterations (200) reached and the optimization hasn't converged yet.\n",
      "  warnings.warn(\n"
     ]
    },
    {
     "name": "stdout",
     "output_type": "stream",
     "text": [
      "[CV 2/5] END ..activation=identity, solver=adam;, score=0.768 total time=   0.0s\n",
      "[CV 3/5] END ..activation=identity, solver=adam;, score=0.968 total time=   0.0s\n",
      "[CV 4/5] END ..activation=identity, solver=adam;, score=0.807 total time=   0.0s\n",
      "[CV 5/5] END ..activation=identity, solver=adam;, score=0.964 total time=   0.0s\n"
     ]
    },
    {
     "name": "stderr",
     "output_type": "stream",
     "text": [
      "c:\\Users\\galea\\anaconda3\\lib\\site-packages\\sklearn\\neural_network\\_multilayer_perceptron.py:702: ConvergenceWarning: Stochastic Optimizer: Maximum iterations (200) reached and the optimization hasn't converged yet.\n",
      "  warnings.warn(\n"
     ]
    },
    {
     "name": "stdout",
     "output_type": "stream",
     "text": [
      "[CV 1/5] END ......activation=tanh, solver=adam;, score=0.069 total time=   0.1s\n"
     ]
    },
    {
     "name": "stderr",
     "output_type": "stream",
     "text": [
      "c:\\Users\\galea\\anaconda3\\lib\\site-packages\\sklearn\\neural_network\\_multilayer_perceptron.py:702: ConvergenceWarning: Stochastic Optimizer: Maximum iterations (200) reached and the optimization hasn't converged yet.\n",
      "  warnings.warn(\n"
     ]
    },
    {
     "name": "stdout",
     "output_type": "stream",
     "text": [
      "[CV 2/5] END ......activation=tanh, solver=adam;, score=0.270 total time=   0.2s\n"
     ]
    },
    {
     "name": "stderr",
     "output_type": "stream",
     "text": [
      "c:\\Users\\galea\\anaconda3\\lib\\site-packages\\sklearn\\neural_network\\_multilayer_perceptron.py:702: ConvergenceWarning: Stochastic Optimizer: Maximum iterations (200) reached and the optimization hasn't converged yet.\n",
      "  warnings.warn(\n",
      "c:\\Users\\galea\\anaconda3\\lib\\site-packages\\sklearn\\neural_network\\_multilayer_perceptron.py:702: ConvergenceWarning: Stochastic Optimizer: Maximum iterations (200) reached and the optimization hasn't converged yet.\n",
      "  warnings.warn(\n"
     ]
    },
    {
     "name": "stdout",
     "output_type": "stream",
     "text": [
      "[CV 3/5] END ......activation=tanh, solver=adam;, score=0.404 total time=   0.1s\n",
      "[CV 4/5] END ......activation=tanh, solver=adam;, score=0.352 total time=   0.0s\n"
     ]
    },
    {
     "name": "stderr",
     "output_type": "stream",
     "text": [
      "c:\\Users\\galea\\anaconda3\\lib\\site-packages\\sklearn\\neural_network\\_multilayer_perceptron.py:702: ConvergenceWarning: Stochastic Optimizer: Maximum iterations (200) reached and the optimization hasn't converged yet.\n",
      "  warnings.warn(\n",
      "c:\\Users\\galea\\anaconda3\\lib\\site-packages\\sklearn\\utils\\extmath.py:152: RuntimeWarning: overflow encountered in matmul\n",
      "  ret = a @ b\n",
      "c:\\Users\\galea\\anaconda3\\lib\\site-packages\\sklearn\\utils\\extmath.py:152: RuntimeWarning: invalid value encountered in matmul\n",
      "  ret = a @ b\n",
      "c:\\Users\\galea\\anaconda3\\lib\\site-packages\\sklearn\\neural_network\\_multilayer_perceptron.py:702: ConvergenceWarning: Stochastic Optimizer: Maximum iterations (200) reached and the optimization hasn't converged yet.\n",
      "  warnings.warn(\n",
      "c:\\Users\\galea\\anaconda3\\lib\\site-packages\\sklearn\\utils\\extmath.py:152: RuntimeWarning: overflow encountered in matmul\n",
      "  ret = a @ b\n",
      "c:\\Users\\galea\\anaconda3\\lib\\site-packages\\sklearn\\utils\\extmath.py:152: RuntimeWarning: invalid value encountered in matmul\n",
      "  ret = a @ b\n",
      "c:\\Users\\galea\\anaconda3\\lib\\site-packages\\sklearn\\neural_network\\_multilayer_perceptron.py:702: ConvergenceWarning: Stochastic Optimizer: Maximum iterations (200) reached and the optimization hasn't converged yet.\n",
      "  warnings.warn(\n",
      "c:\\Users\\galea\\anaconda3\\lib\\site-packages\\sklearn\\neural_network\\_base.py:174: RuntimeWarning: overflow encountered in square\n",
      "  return ((y_true - y_pred) ** 2).mean() / 2\n",
      "c:\\Users\\galea\\anaconda3\\lib\\site-packages\\sklearn\\utils\\extmath.py:152: RuntimeWarning: overflow encountered in matmul\n",
      "  ret = a @ b\n",
      "c:\\Users\\galea\\anaconda3\\lib\\site-packages\\sklearn\\utils\\extmath.py:152: RuntimeWarning: invalid value encountered in matmul\n",
      "  ret = a @ b\n",
      "c:\\Users\\galea\\anaconda3\\lib\\site-packages\\sklearn\\neural_network\\_multilayer_perceptron.py:702: ConvergenceWarning: Stochastic Optimizer: Maximum iterations (200) reached and the optimization hasn't converged yet.\n",
      "  warnings.warn(\n"
     ]
    },
    {
     "name": "stdout",
     "output_type": "stream",
     "text": [
      "[CV 5/5] END ......activation=tanh, solver=adam;, score=0.224 total time=   0.1s\n",
      "[CV 1/5] END .....activation=identity, solver=sgd;, score=nan total time=   0.0s\n",
      "[CV 2/5] END .....activation=identity, solver=sgd;, score=nan total time=   0.0s\n",
      "[CV 3/5] END .....activation=identity, solver=sgd;, score=nan total time=   0.0s\n",
      "[CV 4/5] END .....activation=identity, solver=sgd;, score=nan total time=   0.0s\n"
     ]
    },
    {
     "name": "stderr",
     "output_type": "stream",
     "text": [
      "c:\\Users\\galea\\anaconda3\\lib\\site-packages\\sklearn\\utils\\extmath.py:152: RuntimeWarning: overflow encountered in matmul\n",
      "  ret = a @ b\n",
      "c:\\Users\\galea\\anaconda3\\lib\\site-packages\\sklearn\\utils\\extmath.py:152: RuntimeWarning: invalid value encountered in matmul\n",
      "  ret = a @ b\n",
      "c:\\Users\\galea\\anaconda3\\lib\\site-packages\\sklearn\\neural_network\\_multilayer_perceptron.py:702: ConvergenceWarning: Stochastic Optimizer: Maximum iterations (200) reached and the optimization hasn't converged yet.\n",
      "  warnings.warn(\n",
      "c:\\Users\\galea\\anaconda3\\lib\\site-packages\\sklearn\\neural_network\\_base.py:174: RuntimeWarning: overflow encountered in square\n",
      "  return ((y_true - y_pred) ** 2).mean() / 2\n",
      "c:\\Users\\galea\\anaconda3\\lib\\site-packages\\sklearn\\utils\\extmath.py:152: RuntimeWarning: overflow encountered in matmul\n",
      "  ret = a @ b\n",
      "c:\\Users\\galea\\anaconda3\\lib\\site-packages\\numpy\\core\\_methods.py:178: RuntimeWarning: overflow encountered in reduce\n",
      "  ret = umr_sum(arr, axis, dtype, out, keepdims, where=where)\n",
      "c:\\Users\\galea\\anaconda3\\lib\\site-packages\\sklearn\\utils\\extmath.py:152: RuntimeWarning: invalid value encountered in matmul\n",
      "  ret = a @ b\n",
      "c:\\Users\\galea\\anaconda3\\lib\\site-packages\\sklearn\\neural_network\\_multilayer_perceptron.py:702: ConvergenceWarning: Stochastic Optimizer: Maximum iterations (200) reached and the optimization hasn't converged yet.\n",
      "  warnings.warn(\n"
     ]
    },
    {
     "name": "stdout",
     "output_type": "stream",
     "text": [
      "[CV 5/5] END .....activation=identity, solver=sgd;, score=nan total time=   0.0s\n",
      "[CV 1/5] END .......activation=tanh, solver=sgd;, score=0.072 total time=   0.0s\n",
      "[CV 2/5] END .......activation=tanh, solver=sgd;, score=0.433 total time=   0.0s\n"
     ]
    },
    {
     "name": "stderr",
     "output_type": "stream",
     "text": [
      "c:\\Users\\galea\\anaconda3\\lib\\site-packages\\sklearn\\neural_network\\_multilayer_perceptron.py:702: ConvergenceWarning: Stochastic Optimizer: Maximum iterations (200) reached and the optimization hasn't converged yet.\n",
      "  warnings.warn(\n",
      "c:\\Users\\galea\\anaconda3\\lib\\site-packages\\sklearn\\neural_network\\_multilayer_perceptron.py:702: ConvergenceWarning: Stochastic Optimizer: Maximum iterations (200) reached and the optimization hasn't converged yet.\n",
      "  warnings.warn(\n"
     ]
    },
    {
     "name": "stdout",
     "output_type": "stream",
     "text": [
      "[CV 3/5] END .......activation=tanh, solver=sgd;, score=0.814 total time=   0.0s\n",
      "[CV 4/5] END .......activation=tanh, solver=sgd;, score=0.861 total time=   0.0s\n",
      "[CV 5/5] END .......activation=tanh, solver=sgd;, score=0.556 total time=   0.0s\n"
     ]
    },
    {
     "name": "stderr",
     "output_type": "stream",
     "text": [
      "c:\\Users\\galea\\anaconda3\\lib\\site-packages\\sklearn\\neural_network\\_multilayer_perceptron.py:702: ConvergenceWarning: Stochastic Optimizer: Maximum iterations (200) reached and the optimization hasn't converged yet.\n",
      "  warnings.warn(\n"
     ]
    },
    {
     "name": "stdout",
     "output_type": "stream",
     "text": [
      "[CV 1/5] END .....activation=relu, solver=lbfgs;, score=0.899 total time=   0.0s\n",
      "[CV 2/5] END .....activation=relu, solver=lbfgs;, score=0.805 total time=   0.0s\n"
     ]
    },
    {
     "name": "stderr",
     "output_type": "stream",
     "text": [
      "c:\\Users\\galea\\anaconda3\\lib\\site-packages\\sklearn\\neural_network\\_multilayer_perceptron.py:559: ConvergenceWarning: lbfgs failed to converge (status=1):\n",
      "STOP: TOTAL NO. of ITERATIONS REACHED LIMIT.\n",
      "\n",
      "Increase the number of iterations (max_iter) or scale the data as shown in:\n",
      "    https://scikit-learn.org/stable/modules/preprocessing.html\n",
      "  self.n_iter_ = _check_optimize_result(\"lbfgs\", opt_res, self.max_iter)\n",
      "c:\\Users\\galea\\anaconda3\\lib\\site-packages\\sklearn\\neural_network\\_multilayer_perceptron.py:559: ConvergenceWarning: lbfgs failed to converge (status=1):\n",
      "STOP: TOTAL NO. of ITERATIONS REACHED LIMIT.\n",
      "\n",
      "Increase the number of iterations (max_iter) or scale the data as shown in:\n",
      "    https://scikit-learn.org/stable/modules/preprocessing.html\n",
      "  self.n_iter_ = _check_optimize_result(\"lbfgs\", opt_res, self.max_iter)\n"
     ]
    },
    {
     "name": "stdout",
     "output_type": "stream",
     "text": [
      "[CV 3/5] END .....activation=relu, solver=lbfgs;, score=0.843 total time=   0.0s\n",
      "[CV 4/5] END .....activation=relu, solver=lbfgs;, score=0.686 total time=   0.0s\n"
     ]
    },
    {
     "name": "stderr",
     "output_type": "stream",
     "text": [
      "c:\\Users\\galea\\anaconda3\\lib\\site-packages\\sklearn\\neural_network\\_multilayer_perceptron.py:559: ConvergenceWarning: lbfgs failed to converge (status=1):\n",
      "STOP: TOTAL NO. of ITERATIONS REACHED LIMIT.\n",
      "\n",
      "Increase the number of iterations (max_iter) or scale the data as shown in:\n",
      "    https://scikit-learn.org/stable/modules/preprocessing.html\n",
      "  self.n_iter_ = _check_optimize_result(\"lbfgs\", opt_res, self.max_iter)\n",
      "c:\\Users\\galea\\anaconda3\\lib\\site-packages\\sklearn\\neural_network\\_multilayer_perceptron.py:559: ConvergenceWarning: lbfgs failed to converge (status=1):\n",
      "STOP: TOTAL NO. of ITERATIONS REACHED LIMIT.\n",
      "\n",
      "Increase the number of iterations (max_iter) or scale the data as shown in:\n",
      "    https://scikit-learn.org/stable/modules/preprocessing.html\n",
      "  self.n_iter_ = _check_optimize_result(\"lbfgs\", opt_res, self.max_iter)\n"
     ]
    },
    {
     "name": "stdout",
     "output_type": "stream",
     "text": [
      "[CV 5/5] END .....activation=relu, solver=lbfgs;, score=0.972 total time=   0.2s\n",
      "[CV 1/5] END .activation=logistic, solver=lbfgs;, score=0.054 total time=   0.0s\n"
     ]
    },
    {
     "name": "stderr",
     "output_type": "stream",
     "text": [
      "c:\\Users\\galea\\anaconda3\\lib\\site-packages\\sklearn\\neural_network\\_multilayer_perceptron.py:559: ConvergenceWarning: lbfgs failed to converge (status=1):\n",
      "STOP: TOTAL NO. of ITERATIONS REACHED LIMIT.\n",
      "\n",
      "Increase the number of iterations (max_iter) or scale the data as shown in:\n",
      "    https://scikit-learn.org/stable/modules/preprocessing.html\n",
      "  self.n_iter_ = _check_optimize_result(\"lbfgs\", opt_res, self.max_iter)\n",
      "c:\\Users\\galea\\anaconda3\\lib\\site-packages\\sklearn\\neural_network\\_multilayer_perceptron.py:559: ConvergenceWarning: lbfgs failed to converge (status=1):\n",
      "STOP: TOTAL NO. of ITERATIONS REACHED LIMIT.\n",
      "\n",
      "Increase the number of iterations (max_iter) or scale the data as shown in:\n",
      "    https://scikit-learn.org/stable/modules/preprocessing.html\n",
      "  self.n_iter_ = _check_optimize_result(\"lbfgs\", opt_res, self.max_iter)\n"
     ]
    },
    {
     "name": "stdout",
     "output_type": "stream",
     "text": [
      "[CV 2/5] END activation=logistic, solver=lbfgs;, score=-0.197 total time=   0.1s\n",
      "[CV 3/5] END .activation=logistic, solver=lbfgs;, score=0.519 total time=   0.1s\n"
     ]
    },
    {
     "name": "stderr",
     "output_type": "stream",
     "text": [
      "c:\\Users\\galea\\anaconda3\\lib\\site-packages\\sklearn\\neural_network\\_multilayer_perceptron.py:559: ConvergenceWarning: lbfgs failed to converge (status=1):\n",
      "STOP: TOTAL NO. of ITERATIONS REACHED LIMIT.\n",
      "\n",
      "Increase the number of iterations (max_iter) or scale the data as shown in:\n",
      "    https://scikit-learn.org/stable/modules/preprocessing.html\n",
      "  self.n_iter_ = _check_optimize_result(\"lbfgs\", opt_res, self.max_iter)\n",
      "c:\\Users\\galea\\anaconda3\\lib\\site-packages\\sklearn\\neural_network\\_multilayer_perceptron.py:559: ConvergenceWarning: lbfgs failed to converge (status=1):\n",
      "STOP: TOTAL NO. of ITERATIONS REACHED LIMIT.\n",
      "\n",
      "Increase the number of iterations (max_iter) or scale the data as shown in:\n",
      "    https://scikit-learn.org/stable/modules/preprocessing.html\n",
      "  self.n_iter_ = _check_optimize_result(\"lbfgs\", opt_res, self.max_iter)\n",
      "c:\\Users\\galea\\anaconda3\\lib\\site-packages\\sklearn\\model_selection\\_validation.py:378: FitFailedWarning: \n",
      "5 fits failed out of a total of 50.\n",
      "The score on these train-test partitions for these parameters will be set to nan.\n",
      "If these failures are not expected, you can try to debug them by setting error_score='raise'.\n",
      "\n",
      "Below are more details about the failures:\n",
      "--------------------------------------------------------------------------------\n",
      "5 fits failed with the following error:\n",
      "Traceback (most recent call last):\n",
      "  File \"c:\\Users\\galea\\anaconda3\\lib\\site-packages\\sklearn\\model_selection\\_validation.py\", line 686, in _fit_and_score\n",
      "    estimator.fit(X_train, y_train, **fit_params)\n",
      "  File \"c:\\Users\\galea\\anaconda3\\lib\\site-packages\\sklearn\\neural_network\\_multilayer_perceptron.py\", line 762, in fit\n",
      "    return self._fit(X, y, incremental=False)\n",
      "  File \"c:\\Users\\galea\\anaconda3\\lib\\site-packages\\sklearn\\neural_network\\_multilayer_perceptron.py\", line 448, in _fit\n",
      "    raise ValueError(\n",
      "ValueError: Solver produced non-finite parameter weights. The input data may contain large values and need to be preprocessed.\n",
      "\n",
      "  warnings.warn(some_fits_failed_message, FitFailedWarning)\n",
      "c:\\Users\\galea\\anaconda3\\lib\\site-packages\\sklearn\\model_selection\\_search.py:953: UserWarning: One or more of the test scores are non-finite: [0.44295451 0.8131402  0.33647969 0.2741172  0.88358143 0.2640186\n",
      "        nan 0.54723554 0.84084634 0.342823  ]\n",
      "  warnings.warn(\n",
      "c:\\Users\\galea\\anaconda3\\lib\\site-packages\\sklearn\\neural_network\\_multilayer_perceptron.py:702: ConvergenceWarning: Stochastic Optimizer: Maximum iterations (200) reached and the optimization hasn't converged yet.\n",
      "  warnings.warn(\n"
     ]
    },
    {
     "name": "stdout",
     "output_type": "stream",
     "text": [
      "[CV 4/5] END .activation=logistic, solver=lbfgs;, score=0.908 total time=   0.2s\n",
      "[CV 5/5] END .activation=logistic, solver=lbfgs;, score=0.430 total time=   0.0s\n",
      "RMSE: 10.357305245953382\n",
      "[14.91271385 40.17971253  8.66033828 -3.89116295 11.08322548 18.0661194\n",
      " 28.3258702  34.24143969  1.96846006 15.96330131 73.47786072 55.68146574]\n"
     ]
    },
    {
     "data": {
      "image/png": "[encoded data removed]",
      "text/plain": [
       "<Figure size 432x288 with 1 Axes>"
      ]
     },
     "metadata": {
      "needs_background": "light"
     },
     "output_type": "display_data"
    }
   ],
   "source": [
    "mlpr_random.fit(train_data.iloc[:, 2:], train_data['Qty'])\n",
    "\n",
    "\n",
    "# make predictions for the test data\n",
    "predictions = mlpr_random.predict(test_data.iloc[:, 2:])\n",
    "\n",
    "# calculate the root mean squared error (RMSE) of the predictions\n",
    "rmse = ((predictions - test_data['Qty']) ** 2).mean() ** 0.5\n",
    "print('RMSE:', rmse)\n",
    "\n",
    "print(predictions)\n",
    "\n",
    "sales_data_grouped['predicted_quantity'] = pd.Series(predictions, index=test_data.index)\n",
    "\n",
    "# plot the actual and predicted quantities against date\n",
    "plt.plot(sales_data_grouped['Date'], sales_data_grouped['Qty'], label='Actual')\n",
    "plt.plot(sales_data_grouped['Date'], sales_data_grouped['predicted_quantity'], label='Predicted')\n",
    "plt.xlabel('Date')\n",
    "plt.ylabel('Qty')\n",
    "plt.title('Sales Data Forecasting')\n",
    "plt.legend()\n",
    "plt.show()"
   ]
  },
  {
   "cell_type": "code",
   "execution_count": 6,
   "metadata": {},
   "outputs": [
    {
     "data": {
      "image/png": "[encoded data removed]",
      "text/plain": [
       "<Figure size 432x288 with 1 Axes>"
      ]
     },
     "metadata": {
      "needs_background": "light"
     },
     "output_type": "display_data"
    }
   ],
   "source": [
    "import numpy as np\n",
    "import seaborn as sns\n",
    "from sklearn.metrics import mean_squared_error\n",
    "import math\n",
    "\n",
    "matrix_data = np.column_stack((test_data['Qty'].values, predictions))\n",
    "\n",
    "# calculate the mean squared error\n",
    "mse = mean_squared_error(test_data['Qty'], predictions)\n",
    "rmse = math.sqrt(mse)\n",
    "\n",
    "# plot the matrix using seaborn's heatmap function\n",
    "sns.heatmap(matrix_data, annot=True, fmt='.1f', cmap='coolwarm', linewidths=.5, cbar=False)\n",
    "plt.xlabel('Actual')\n",
    "plt.ylabel('Predicted')\n",
    "plt.title(f'Actual vs. Predicted Sales Data (RMSE={rmse:.2f})')\n",
    "plt.show()"
   ]
  }
 ],
 "metadata": {
  "kernelspec": {
   "display_name": "base",
   "language": "python",
   "name": "python3"
  },
  "language_info": {
   "codemirror_mode": {
    "name": "ipython",
    "version": 3
   },
   "file_extension": ".py",
   "mimetype": "text/x-python",
   "name": "python",
   "nbconvert_exporter": "python",
   "pygments_lexer": "ipython3",
   "version": "3.9.7"
  },
  "orig_nbformat": 4
 },
 "nbformat": 4,
 "nbformat_minor": 2
}
