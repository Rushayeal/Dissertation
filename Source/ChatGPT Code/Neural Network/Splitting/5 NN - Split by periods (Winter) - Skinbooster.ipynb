{
 "cells": [
  {
   "cell_type": "code",
   "execution_count": 1,
   "metadata": {},
   "outputs": [
    {
     "data": {
      "text/html": [
       "<div>\n",
       "<style scoped>\n",
       "    .dataframe tbody tr th:only-of-type {\n",
       "        vertical-align: middle;\n",
       "    }\n",
       "\n",
       "    .dataframe tbody tr th {\n",
       "        vertical-align: top;\n",
       "    }\n",
       "\n",
       "    .dataframe thead th {\n",
       "        text-align: right;\n",
       "    }\n",
       "</style>\n",
       "<table border=\"1\" class=\"dataframe\">\n",
       "  <thead>\n",
       "    <tr style=\"text-align: right;\">\n",
       "      <th></th>\n",
       "      <th>Date</th>\n",
       "      <th>Month</th>\n",
       "      <th>Quarter</th>\n",
       "      <th>Year</th>\n",
       "      <th>Qty</th>\n",
       "      <th>Product</th>\n",
       "      <th>Category</th>\n",
       "      <th>Pharmacy</th>\n",
       "      <th>Location</th>\n",
       "      <th>Pharmacy 1</th>\n",
       "      <th>...</th>\n",
       "      <th>Brazil, USA, Blank, IE, Zimbabwe, Zurich</th>\n",
       "      <th>Ireland &amp; Northern Ireland</th>\n",
       "      <th>London</th>\n",
       "      <th>NorthEast, Midlands</th>\n",
       "      <th>NorthWest</th>\n",
       "      <th>Outside London M25</th>\n",
       "      <th>Outside London the rest</th>\n",
       "      <th>Scotland, Newcastle</th>\n",
       "      <th>SouthEast</th>\n",
       "      <th>SouthWest</th>\n",
       "    </tr>\n",
       "  </thead>\n",
       "  <tbody>\n",
       "    <tr>\n",
       "      <th>0</th>\n",
       "      <td>1-11-2015</td>\n",
       "      <td>11</td>\n",
       "      <td>4</td>\n",
       "      <td>2015</td>\n",
       "      <td>2</td>\n",
       "      <td>Injection 14</td>\n",
       "      <td>Skinbooster</td>\n",
       "      <td>Pharmacy 1</td>\n",
       "      <td>London</td>\n",
       "      <td>1</td>\n",
       "      <td>...</td>\n",
       "      <td>0</td>\n",
       "      <td>0</td>\n",
       "      <td>1</td>\n",
       "      <td>0</td>\n",
       "      <td>0</td>\n",
       "      <td>0</td>\n",
       "      <td>0</td>\n",
       "      <td>0</td>\n",
       "      <td>0</td>\n",
       "      <td>0</td>\n",
       "    </tr>\n",
       "    <tr>\n",
       "      <th>1</th>\n",
       "      <td>1-11-2015</td>\n",
       "      <td>11</td>\n",
       "      <td>4</td>\n",
       "      <td>2015</td>\n",
       "      <td>1</td>\n",
       "      <td>Injection 14</td>\n",
       "      <td>Skinbooster</td>\n",
       "      <td>Pharmacy 1</td>\n",
       "      <td>London</td>\n",
       "      <td>1</td>\n",
       "      <td>...</td>\n",
       "      <td>0</td>\n",
       "      <td>0</td>\n",
       "      <td>1</td>\n",
       "      <td>0</td>\n",
       "      <td>0</td>\n",
       "      <td>0</td>\n",
       "      <td>0</td>\n",
       "      <td>0</td>\n",
       "      <td>0</td>\n",
       "      <td>0</td>\n",
       "    </tr>\n",
       "    <tr>\n",
       "      <th>4</th>\n",
       "      <td>1-11-2015</td>\n",
       "      <td>11</td>\n",
       "      <td>4</td>\n",
       "      <td>2015</td>\n",
       "      <td>4</td>\n",
       "      <td>Injection 14</td>\n",
       "      <td>Skinbooster</td>\n",
       "      <td>Pharmacy 2</td>\n",
       "      <td>NorthEast, Midlands</td>\n",
       "      <td>0</td>\n",
       "      <td>...</td>\n",
       "      <td>0</td>\n",
       "      <td>0</td>\n",
       "      <td>0</td>\n",
       "      <td>1</td>\n",
       "      <td>0</td>\n",
       "      <td>0</td>\n",
       "      <td>0</td>\n",
       "      <td>0</td>\n",
       "      <td>0</td>\n",
       "      <td>0</td>\n",
       "    </tr>\n",
       "    <tr>\n",
       "      <th>15</th>\n",
       "      <td>1-12-2015</td>\n",
       "      <td>12</td>\n",
       "      <td>4</td>\n",
       "      <td>2015</td>\n",
       "      <td>2</td>\n",
       "      <td>Injection 14</td>\n",
       "      <td>Skinbooster</td>\n",
       "      <td>Pharmacy 2</td>\n",
       "      <td>NorthEast, Midlands</td>\n",
       "      <td>0</td>\n",
       "      <td>...</td>\n",
       "      <td>0</td>\n",
       "      <td>0</td>\n",
       "      <td>0</td>\n",
       "      <td>1</td>\n",
       "      <td>0</td>\n",
       "      <td>0</td>\n",
       "      <td>0</td>\n",
       "      <td>0</td>\n",
       "      <td>0</td>\n",
       "      <td>0</td>\n",
       "    </tr>\n",
       "    <tr>\n",
       "      <th>16</th>\n",
       "      <td>1-12-2015</td>\n",
       "      <td>12</td>\n",
       "      <td>4</td>\n",
       "      <td>2015</td>\n",
       "      <td>3</td>\n",
       "      <td>Injection 14</td>\n",
       "      <td>Skinbooster</td>\n",
       "      <td>Pharmacy 2</td>\n",
       "      <td>Outside London M25</td>\n",
       "      <td>0</td>\n",
       "      <td>...</td>\n",
       "      <td>0</td>\n",
       "      <td>0</td>\n",
       "      <td>0</td>\n",
       "      <td>0</td>\n",
       "      <td>0</td>\n",
       "      <td>1</td>\n",
       "      <td>0</td>\n",
       "      <td>0</td>\n",
       "      <td>0</td>\n",
       "      <td>0</td>\n",
       "    </tr>\n",
       "    <tr>\n",
       "      <th>...</th>\n",
       "      <td>...</td>\n",
       "      <td>...</td>\n",
       "      <td>...</td>\n",
       "      <td>...</td>\n",
       "      <td>...</td>\n",
       "      <td>...</td>\n",
       "      <td>...</td>\n",
       "      <td>...</td>\n",
       "      <td>...</td>\n",
       "      <td>...</td>\n",
       "      <td>...</td>\n",
       "      <td>...</td>\n",
       "      <td>...</td>\n",
       "      <td>...</td>\n",
       "      <td>...</td>\n",
       "      <td>...</td>\n",
       "      <td>...</td>\n",
       "      <td>...</td>\n",
       "      <td>...</td>\n",
       "      <td>...</td>\n",
       "      <td>...</td>\n",
       "    </tr>\n",
       "    <tr>\n",
       "      <th>68616</th>\n",
       "      <td>1-3-2022</td>\n",
       "      <td>3</td>\n",
       "      <td>1</td>\n",
       "      <td>2022</td>\n",
       "      <td>5</td>\n",
       "      <td>Injection 10</td>\n",
       "      <td>Skinbooster</td>\n",
       "      <td>Pharmacy 5</td>\n",
       "      <td>Outside London M25</td>\n",
       "      <td>0</td>\n",
       "      <td>...</td>\n",
       "      <td>0</td>\n",
       "      <td>0</td>\n",
       "      <td>0</td>\n",
       "      <td>0</td>\n",
       "      <td>0</td>\n",
       "      <td>1</td>\n",
       "      <td>0</td>\n",
       "      <td>0</td>\n",
       "      <td>0</td>\n",
       "      <td>0</td>\n",
       "    </tr>\n",
       "    <tr>\n",
       "      <th>68617</th>\n",
       "      <td>1-3-2022</td>\n",
       "      <td>3</td>\n",
       "      <td>1</td>\n",
       "      <td>2022</td>\n",
       "      <td>7</td>\n",
       "      <td>Injection 10</td>\n",
       "      <td>Skinbooster</td>\n",
       "      <td>Pharmacy 5</td>\n",
       "      <td>SouthWest</td>\n",
       "      <td>0</td>\n",
       "      <td>...</td>\n",
       "      <td>0</td>\n",
       "      <td>0</td>\n",
       "      <td>0</td>\n",
       "      <td>0</td>\n",
       "      <td>0</td>\n",
       "      <td>0</td>\n",
       "      <td>0</td>\n",
       "      <td>0</td>\n",
       "      <td>0</td>\n",
       "      <td>1</td>\n",
       "    </tr>\n",
       "    <tr>\n",
       "      <th>68618</th>\n",
       "      <td>1-3-2022</td>\n",
       "      <td>3</td>\n",
       "      <td>1</td>\n",
       "      <td>2022</td>\n",
       "      <td>2</td>\n",
       "      <td>Injection 10</td>\n",
       "      <td>Skinbooster</td>\n",
       "      <td>Pharmacy 5</td>\n",
       "      <td>SouthWest</td>\n",
       "      <td>0</td>\n",
       "      <td>...</td>\n",
       "      <td>0</td>\n",
       "      <td>0</td>\n",
       "      <td>0</td>\n",
       "      <td>0</td>\n",
       "      <td>0</td>\n",
       "      <td>0</td>\n",
       "      <td>0</td>\n",
       "      <td>0</td>\n",
       "      <td>0</td>\n",
       "      <td>1</td>\n",
       "    </tr>\n",
       "    <tr>\n",
       "      <th>68619</th>\n",
       "      <td>1-3-2022</td>\n",
       "      <td>3</td>\n",
       "      <td>1</td>\n",
       "      <td>2022</td>\n",
       "      <td>1</td>\n",
       "      <td>Injection 10</td>\n",
       "      <td>Skinbooster</td>\n",
       "      <td>Pharmacy 5</td>\n",
       "      <td>NorthEast, Midlands</td>\n",
       "      <td>0</td>\n",
       "      <td>...</td>\n",
       "      <td>0</td>\n",
       "      <td>0</td>\n",
       "      <td>0</td>\n",
       "      <td>1</td>\n",
       "      <td>0</td>\n",
       "      <td>0</td>\n",
       "      <td>0</td>\n",
       "      <td>0</td>\n",
       "      <td>0</td>\n",
       "      <td>0</td>\n",
       "    </tr>\n",
       "    <tr>\n",
       "      <th>68620</th>\n",
       "      <td>1-3-2022</td>\n",
       "      <td>3</td>\n",
       "      <td>1</td>\n",
       "      <td>2022</td>\n",
       "      <td>3</td>\n",
       "      <td>Injection 10</td>\n",
       "      <td>Skinbooster</td>\n",
       "      <td>Pharmacy 5</td>\n",
       "      <td>London</td>\n",
       "      <td>0</td>\n",
       "      <td>...</td>\n",
       "      <td>0</td>\n",
       "      <td>0</td>\n",
       "      <td>1</td>\n",
       "      <td>0</td>\n",
       "      <td>0</td>\n",
       "      <td>0</td>\n",
       "      <td>0</td>\n",
       "      <td>0</td>\n",
       "      <td>0</td>\n",
       "      <td>0</td>\n",
       "    </tr>\n",
       "  </tbody>\n",
       "</table>\n",
       "<p>3269 rows × 34 columns</p>\n",
       "</div>"
      ],
      "text/plain": [
       "            Date  Month  Quarter  Year  Qty       Product     Category  \\\n",
       "0      1-11-2015     11        4  2015    2  Injection 14  Skinbooster   \n",
       "1      1-11-2015     11        4  2015    1  Injection 14  Skinbooster   \n",
       "4      1-11-2015     11        4  2015    4  Injection 14  Skinbooster   \n",
       "15     1-12-2015     12        4  2015    2  Injection 14  Skinbooster   \n",
       "16     1-12-2015     12        4  2015    3  Injection 14  Skinbooster   \n",
       "...          ...    ...      ...   ...  ...           ...          ...   \n",
       "68616   1-3-2022      3        1  2022    5  Injection 10  Skinbooster   \n",
       "68617   1-3-2022      3        1  2022    7  Injection 10  Skinbooster   \n",
       "68618   1-3-2022      3        1  2022    2  Injection 10  Skinbooster   \n",
       "68619   1-3-2022      3        1  2022    1  Injection 10  Skinbooster   \n",
       "68620   1-3-2022      3        1  2022    3  Injection 10  Skinbooster   \n",
       "\n",
       "         Pharmacy             Location  Pharmacy 1  ...  \\\n",
       "0      Pharmacy 1               London           1  ...   \n",
       "1      Pharmacy 1               London           1  ...   \n",
       "4      Pharmacy 2  NorthEast, Midlands           0  ...   \n",
       "15     Pharmacy 2  NorthEast, Midlands           0  ...   \n",
       "16     Pharmacy 2   Outside London M25           0  ...   \n",
       "...           ...                  ...         ...  ...   \n",
       "68616  Pharmacy 5   Outside London M25           0  ...   \n",
       "68617  Pharmacy 5            SouthWest           0  ...   \n",
       "68618  Pharmacy 5            SouthWest           0  ...   \n",
       "68619  Pharmacy 5  NorthEast, Midlands           0  ...   \n",
       "68620  Pharmacy 5               London           0  ...   \n",
       "\n",
       "       Brazil, USA, Blank, IE, Zimbabwe, Zurich  Ireland & Northern Ireland  \\\n",
       "0                                             0                           0   \n",
       "1                                             0                           0   \n",
       "4                                             0                           0   \n",
       "15                                            0                           0   \n",
       "16                                            0                           0   \n",
       "...                                         ...                         ...   \n",
       "68616                                         0                           0   \n",
       "68617                                         0                           0   \n",
       "68618                                         0                           0   \n",
       "68619                                         0                           0   \n",
       "68620                                         0                           0   \n",
       "\n",
       "       London  NorthEast, Midlands  NorthWest  Outside London M25  \\\n",
       "0           1                    0          0                   0   \n",
       "1           1                    0          0                   0   \n",
       "4           0                    1          0                   0   \n",
       "15          0                    1          0                   0   \n",
       "16          0                    0          0                   1   \n",
       "...       ...                  ...        ...                 ...   \n",
       "68616       0                    0          0                   1   \n",
       "68617       0                    0          0                   0   \n",
       "68618       0                    0          0                   0   \n",
       "68619       0                    1          0                   0   \n",
       "68620       1                    0          0                   0   \n",
       "\n",
       "       Outside London the rest  Scotland, Newcastle  SouthEast  SouthWest  \n",
       "0                            0                    0          0          0  \n",
       "1                            0                    0          0          0  \n",
       "4                            0                    0          0          0  \n",
       "15                           0                    0          0          0  \n",
       "16                           0                    0          0          0  \n",
       "...                        ...                  ...        ...        ...  \n",
       "68616                        0                    0          0          0  \n",
       "68617                        0                    0          0          1  \n",
       "68618                        0                    0          0          1  \n",
       "68619                        0                    0          0          0  \n",
       "68620                        0                    0          0          0  \n",
       "\n",
       "[3269 rows x 34 columns]"
      ]
     },
     "execution_count": 1,
     "metadata": {},
     "output_type": "execute_result"
    }
   ],
   "source": [
    "import pandas as pd\n",
    "import matplotlib.pyplot as plt\n",
    "from sklearn.neural_network import MLPRegressor\n",
    "from sklearn.model_selection import RandomizedSearchCV, GridSearchCV\n",
    "from sklearn.metrics import r2_score, explained_variance_score, max_error, mean_squared_error\n",
    "import numpy as np\n",
    "import seaborn as sns\n",
    "from sklearn.model_selection import train_test_split\n",
    "\n",
    "# load the sales data set\n",
    "sales_data = pd.read_csv('../../../../Data/SalesData.csv')\n",
    "sales_data.head()\n",
    "\n",
    "sales_data = sales_data[sales_data['Category'] == 'Skinbooster'] \n",
    "\n",
    "\n",
    "pharmacy_onehot = pd.get_dummies(sales_data['Pharmacy'])\n",
    "\n",
    "# concatenate the one-hot encoded categories with the original data\n",
    "sales_data_encoded2 = pd.concat([sales_data, pharmacy_onehot], axis=1)\n",
    "\n",
    "product_onehot = pd.get_dummies(sales_data['Product'])\n",
    "\n",
    "# concatenate the one-hot encoded categories with the original data\n",
    "sales_data_encoded3 = pd.concat([sales_data_encoded2, product_onehot], axis=1)\n",
    "\n",
    "product_onehot = pd.get_dummies(sales_data['Location'])\n",
    "\n",
    "# concatenate the one-hot encoded categories with the original data\n",
    "sales_data_encoded = pd.concat([sales_data_encoded3, product_onehot], axis=1)\n",
    "\n",
    "sales_data_encoded\n"
   ]
  },
  {
   "cell_type": "code",
   "execution_count": 2,
   "metadata": {},
   "outputs": [
    {
     "data": {
      "text/plain": [
       "['Date',\n",
       " 'Month',\n",
       " 'Quarter',\n",
       " 'Year',\n",
       " 'Qty',\n",
       " 'Product',\n",
       " 'Category',\n",
       " 'Pharmacy',\n",
       " 'Location',\n",
       " 'Pharmacy 1',\n",
       " 'Pharmacy 10',\n",
       " 'Pharmacy 11',\n",
       " 'Pharmacy 2',\n",
       " 'Pharmacy 3',\n",
       " 'Pharmacy 4',\n",
       " 'Pharmacy 5',\n",
       " 'Pharmacy 6',\n",
       " 'Pharmacy 7',\n",
       " 'Pharmacy 8',\n",
       " 'Pharmacy 9',\n",
       " 'Injection 10',\n",
       " 'Injection 11',\n",
       " 'Injection 14',\n",
       " 'Injection 9',\n",
       " 'Brazil, USA, Blank, IE, Zimbabwe, Zurich',\n",
       " 'Ireland & Northern Ireland',\n",
       " 'London',\n",
       " 'NorthEast, Midlands',\n",
       " 'NorthWest',\n",
       " 'Outside London M25',\n",
       " 'Outside London the rest',\n",
       " 'Scotland, Newcastle',\n",
       " 'SouthEast',\n",
       " 'SouthWest']"
      ]
     },
     "execution_count": 2,
     "metadata": {},
     "output_type": "execute_result"
    }
   ],
   "source": [
    "list(sales_data_encoded.columns)"
   ]
  },
  {
   "cell_type": "code",
   "execution_count": 3,
   "metadata": {},
   "outputs": [],
   "source": [
    "# group the data by date and sum the quantities and category columns\n",
    "sales_data_grouped = sales_data_encoded.groupby('Date').agg({\n",
    "    'Qty': 'sum',\n",
    "    'Pharmacy 1' : 'sum',\n",
    "    'Pharmacy 2' : 'sum',\n",
    "    'Pharmacy 3' : 'sum',\n",
    "    'Pharmacy 4' : 'sum',\n",
    "    'Pharmacy 5' : 'sum',\n",
    "    'Pharmacy 6' : 'sum',\n",
    "    'Pharmacy 7' : 'sum',\n",
    "    'Pharmacy 8' : 'sum',\n",
    "    'Pharmacy 9' : 'sum',\n",
    "    'Pharmacy 10' : 'sum',\n",
    "    'Pharmacy 11' : 'sum',\n",
    "    'Injection 9' :'sum',\n",
    "    'Injection 10' :'sum',\n",
    "    'Injection 11' :'sum',\n",
    "    'Injection 14' :'sum',\n",
    "    'Brazil, USA, Blank, IE, Zimbabwe, Zurich' : 'sum',\n",
    "    'Ireland & Northern Ireland' : 'sum',\n",
    "    'London' : 'sum',\n",
    "    'NorthEast, Midlands' : 'sum',\n",
    "    'NorthWest' : 'sum',\n",
    "    'Outside London M25' : 'sum',\n",
    "    'Outside London the rest' : 'sum',\n",
    "    'Scotland, Newcastle' : 'sum',\n",
    "    'SouthEast' : 'sum',\n",
    "    'SouthWest' : 'sum'\n",
    "    \t\t\t\t\t\n",
    "})\n",
    "\n",
    "# reset the index to make date a column again\n",
    "sales_data_grouped = sales_data_grouped.reset_index()\n",
    "\n",
    "# create lag features\n",
    "sales_data_lagged = sales_data_grouped.copy()\n",
    "for i in range(1, 8):\n",
    "    sales_data_lagged[f'Qty_lag_{i}'] = sales_data_lagged['Qty'].shift(i)\n",
    "\n",
    "# print(sales_data_lagged)\n",
    "\n",
    "# remove rows with missing values\n",
    "sales_data_lagged.dropna(inplace=True)\n",
    "\n",
    "sales_data_lagged['Date'] = pd.to_datetime(sales_data_lagged['Date'], format='%d-%m-%Y')\n",
    "\n",
    "\n",
    "#X_train, X_test, y_train, y_test = train_test_split(sales_data_lagged.loc[:,sales_data_lagged.columns!='Qty'], sales_data_lagged.loc[:,['Date', 'Qty']], test_size=0.2, random_state=42)\n",
    "X = sales_data_lagged.loc[(sales_data_lagged['Date'] < '2019-10-01')]\n",
    "y = sales_data_lagged.loc[(sales_data_lagged['Date'] >= '2019-10-01') & (sales_data_lagged['Date']<= '2019-12-01')]\n",
    "\n",
    "# X_train, X_test, y_train, y_test = train_test_split(X, y, test_size=0.2, random_state=42)\n",
    "\n",
    "X_train = X.loc[:,X.columns!='Qty']\n",
    "X_test = y.loc[:,y.columns!='Qty']\n",
    "y_train = X.loc[:,X.columns=='Qty']\n",
    "y_test = y.loc[:,y.columns=='Qty']"
   ]
  },
  {
   "cell_type": "code",
   "execution_count": 4,
   "metadata": {},
   "outputs": [
    {
     "data": {
      "text/html": [
       "<div>\n",
       "<style scoped>\n",
       "    .dataframe tbody tr th:only-of-type {\n",
       "        vertical-align: middle;\n",
       "    }\n",
       "\n",
       "    .dataframe tbody tr th {\n",
       "        vertical-align: top;\n",
       "    }\n",
       "\n",
       "    .dataframe thead th {\n",
       "        text-align: right;\n",
       "    }\n",
       "</style>\n",
       "<table border=\"1\" class=\"dataframe\">\n",
       "  <thead>\n",
       "    <tr style=\"text-align: right;\">\n",
       "      <th></th>\n",
       "      <th>Date</th>\n",
       "      <th>Qty</th>\n",
       "      <th>Pharmacy 1</th>\n",
       "      <th>Pharmacy 2</th>\n",
       "      <th>Pharmacy 3</th>\n",
       "      <th>Pharmacy 4</th>\n",
       "      <th>Pharmacy 5</th>\n",
       "      <th>Pharmacy 6</th>\n",
       "      <th>Pharmacy 7</th>\n",
       "      <th>Pharmacy 8</th>\n",
       "      <th>...</th>\n",
       "      <th>Scotland, Newcastle</th>\n",
       "      <th>SouthEast</th>\n",
       "      <th>SouthWest</th>\n",
       "      <th>Qty_lag_1</th>\n",
       "      <th>Qty_lag_2</th>\n",
       "      <th>Qty_lag_3</th>\n",
       "      <th>Qty_lag_4</th>\n",
       "      <th>Qty_lag_5</th>\n",
       "      <th>Qty_lag_6</th>\n",
       "      <th>Qty_lag_7</th>\n",
       "    </tr>\n",
       "  </thead>\n",
       "  <tbody>\n",
       "    <tr>\n",
       "      <th>10</th>\n",
       "      <td>2019-10-01</td>\n",
       "      <td>369</td>\n",
       "      <td>3</td>\n",
       "      <td>29</td>\n",
       "      <td>13</td>\n",
       "      <td>4</td>\n",
       "      <td>25</td>\n",
       "      <td>3</td>\n",
       "      <td>2</td>\n",
       "      <td>3</td>\n",
       "      <td>...</td>\n",
       "      <td>7</td>\n",
       "      <td>9</td>\n",
       "      <td>6</td>\n",
       "      <td>179.0</td>\n",
       "      <td>6.0</td>\n",
       "      <td>28.0</td>\n",
       "      <td>225.0</td>\n",
       "      <td>51.0</td>\n",
       "      <td>236.0</td>\n",
       "      <td>180.0</td>\n",
       "    </tr>\n",
       "    <tr>\n",
       "      <th>17</th>\n",
       "      <td>2019-11-01</td>\n",
       "      <td>405</td>\n",
       "      <td>4</td>\n",
       "      <td>29</td>\n",
       "      <td>11</td>\n",
       "      <td>6</td>\n",
       "      <td>25</td>\n",
       "      <td>3</td>\n",
       "      <td>4</td>\n",
       "      <td>0</td>\n",
       "      <td>...</td>\n",
       "      <td>10</td>\n",
       "      <td>9</td>\n",
       "      <td>10</td>\n",
       "      <td>151.0</td>\n",
       "      <td>13.0</td>\n",
       "      <td>10.0</td>\n",
       "      <td>7.0</td>\n",
       "      <td>319.0</td>\n",
       "      <td>322.0</td>\n",
       "      <td>369.0</td>\n",
       "    </tr>\n",
       "    <tr>\n",
       "      <th>24</th>\n",
       "      <td>2019-12-01</td>\n",
       "      <td>303</td>\n",
       "      <td>2</td>\n",
       "      <td>28</td>\n",
       "      <td>13</td>\n",
       "      <td>3</td>\n",
       "      <td>15</td>\n",
       "      <td>0</td>\n",
       "      <td>2</td>\n",
       "      <td>0</td>\n",
       "      <td>...</td>\n",
       "      <td>6</td>\n",
       "      <td>5</td>\n",
       "      <td>2</td>\n",
       "      <td>104.0</td>\n",
       "      <td>1.0</td>\n",
       "      <td>5.0</td>\n",
       "      <td>5.0</td>\n",
       "      <td>367.0</td>\n",
       "      <td>195.0</td>\n",
       "      <td>405.0</td>\n",
       "    </tr>\n",
       "  </tbody>\n",
       "</table>\n",
       "<p>3 rows × 34 columns</p>\n",
       "</div>"
      ],
      "text/plain": [
       "         Date  Qty  Pharmacy 1  Pharmacy 2  Pharmacy 3  Pharmacy 4  \\\n",
       "10 2019-10-01  369           3          29          13           4   \n",
       "17 2019-11-01  405           4          29          11           6   \n",
       "24 2019-12-01  303           2          28          13           3   \n",
       "\n",
       "    Pharmacy 5  Pharmacy 6  Pharmacy 7  Pharmacy 8  ...  Scotland, Newcastle  \\\n",
       "10          25           3           2           3  ...                    7   \n",
       "17          25           3           4           0  ...                   10   \n",
       "24          15           0           2           0  ...                    6   \n",
       "\n",
       "    SouthEast  SouthWest  Qty_lag_1  Qty_lag_2  Qty_lag_3  Qty_lag_4  \\\n",
       "10          9          6      179.0        6.0       28.0      225.0   \n",
       "17          9         10      151.0       13.0       10.0        7.0   \n",
       "24          5          2      104.0        1.0        5.0        5.0   \n",
       "\n",
       "    Qty_lag_5  Qty_lag_6  Qty_lag_7  \n",
       "10       51.0      236.0      180.0  \n",
       "17      319.0      322.0      369.0  \n",
       "24      367.0      195.0      405.0  \n",
       "\n",
       "[3 rows x 34 columns]"
      ]
     },
     "execution_count": 4,
     "metadata": {},
     "output_type": "execute_result"
    }
   ],
   "source": [
    "y"
   ]
  },
  {
   "cell_type": "code",
   "execution_count": 5,
   "metadata": {},
   "outputs": [],
   "source": [
    "# train an mlp classifier\n",
    "\n",
    "# model = RandomForestRegressor(n_estimators=100, max_depth=5)\n",
    "# model.fit(train_data.iloc[:, 2:], train_data['Qty'])\n",
    "\n",
    "activation = ['identity', 'logistic', 'tanh', 'relu']\n",
    "solver = ['lbfgs', 'sgd', 'adam']\n",
    "\n",
    "random_grid_mlpr = {\n",
    "    'activation' : activation,\n",
    "    'solver' : solver\n",
    "}\n",
    "\n",
    "# mlpr = MLPRegressor()\n",
    "# mlpr_random = RandomizedSearchCV(\n",
    "#     estimator=mlpr,\n",
    "#     param_distributions=random_grid_mlpr,\n",
    "#     n_iter=10,\n",
    "#     cv=5,\n",
    "#     verbose=5,\n",
    "#     random_state=0\n",
    "# )\n",
    "mlpr = MLPRegressor()\n",
    "mlpr_random = GridSearchCV(\n",
    "    estimator=mlpr,\n",
    "    param_grid=random_grid_mlpr,\n",
    "    cv=5,\n",
    "    verbose=5\n",
    ")"
   ]
  },
  {
   "cell_type": "code",
   "execution_count": 6,
   "metadata": {},
   "outputs": [
    {
     "name": "stdout",
     "output_type": "stream",
     "text": [
      "Fitting 5 folds for each of 12 candidates, totalling 60 fits\n"
     ]
    },
    {
     "name": "stderr",
     "output_type": "stream",
     "text": [
      "c:\\Users\\galea\\anaconda3\\lib\\site-packages\\sklearn\\neural_network\\_multilayer_perceptron.py:541: ConvergenceWarning: lbfgs failed to converge (status=1):\n",
      "STOP: TOTAL NO. of ITERATIONS REACHED LIMIT.\n",
      "\n",
      "Increase the number of iterations (max_iter) or scale the data as shown in:\n",
      "    https://scikit-learn.org/stable/modules/preprocessing.html\n",
      "  self.n_iter_ = _check_optimize_result(\"lbfgs\", opt_res, self.max_iter)\n",
      "c:\\Users\\galea\\anaconda3\\lib\\site-packages\\sklearn\\neural_network\\_multilayer_perceptron.py:541: ConvergenceWarning: lbfgs failed to converge (status=1):\n",
      "STOP: TOTAL NO. of ITERATIONS REACHED LIMIT.\n",
      "\n",
      "Increase the number of iterations (max_iter) or scale the data as shown in:\n",
      "    https://scikit-learn.org/stable/modules/preprocessing.html\n",
      "  self.n_iter_ = _check_optimize_result(\"lbfgs\", opt_res, self.max_iter)\n"
     ]
    },
    {
     "name": "stdout",
     "output_type": "stream",
     "text": [
      "[CV 1/5] END .activation=identity, solver=lbfgs;, score=0.891 total time=   0.1s\n",
      "[CV 2/5] END .activation=identity, solver=lbfgs;, score=0.937 total time=   0.1s\n"
     ]
    },
    {
     "name": "stderr",
     "output_type": "stream",
     "text": [
      "c:\\Users\\galea\\anaconda3\\lib\\site-packages\\sklearn\\neural_network\\_multilayer_perceptron.py:541: ConvergenceWarning: lbfgs failed to converge (status=1):\n",
      "STOP: TOTAL NO. of ITERATIONS REACHED LIMIT.\n",
      "\n",
      "Increase the number of iterations (max_iter) or scale the data as shown in:\n",
      "    https://scikit-learn.org/stable/modules/preprocessing.html\n",
      "  self.n_iter_ = _check_optimize_result(\"lbfgs\", opt_res, self.max_iter)\n",
      "c:\\Users\\galea\\anaconda3\\lib\\site-packages\\sklearn\\neural_network\\_multilayer_perceptron.py:541: ConvergenceWarning: lbfgs failed to converge (status=1):\n",
      "STOP: TOTAL NO. of ITERATIONS REACHED LIMIT.\n",
      "\n",
      "Increase the number of iterations (max_iter) or scale the data as shown in:\n",
      "    https://scikit-learn.org/stable/modules/preprocessing.html\n",
      "  self.n_iter_ = _check_optimize_result(\"lbfgs\", opt_res, self.max_iter)\n"
     ]
    },
    {
     "name": "stdout",
     "output_type": "stream",
     "text": [
      "[CV 3/5] END .activation=identity, solver=lbfgs;, score=0.965 total time=   0.1s\n",
      "[CV 4/5] END .activation=identity, solver=lbfgs;, score=0.946 total time=   0.1s\n"
     ]
    },
    {
     "name": "stderr",
     "output_type": "stream",
     "text": [
      "c:\\Users\\galea\\anaconda3\\lib\\site-packages\\sklearn\\neural_network\\_multilayer_perceptron.py:541: ConvergenceWarning: lbfgs failed to converge (status=1):\n",
      "STOP: TOTAL NO. of ITERATIONS REACHED LIMIT.\n",
      "\n",
      "Increase the number of iterations (max_iter) or scale the data as shown in:\n",
      "    https://scikit-learn.org/stable/modules/preprocessing.html\n",
      "  self.n_iter_ = _check_optimize_result(\"lbfgs\", opt_res, self.max_iter)\n",
      "c:\\Users\\galea\\anaconda3\\lib\\site-packages\\sklearn\\utils\\extmath.py:189: RuntimeWarning: overflow encountered in matmul\n",
      "  ret = a @ b\n",
      "c:\\Users\\galea\\anaconda3\\lib\\site-packages\\sklearn\\utils\\extmath.py:189: RuntimeWarning: invalid value encountered in matmul\n",
      "  ret = a @ b\n",
      "c:\\Users\\galea\\anaconda3\\lib\\site-packages\\sklearn\\neural_network\\_multilayer_perceptron.py:684: ConvergenceWarning: Stochastic Optimizer: Maximum iterations (200) reached and the optimization hasn't converged yet.\n",
      "  warnings.warn(\n",
      "c:\\Users\\galea\\anaconda3\\lib\\site-packages\\sklearn\\utils\\extmath.py:189: RuntimeWarning: overflow encountered in matmul\n",
      "  ret = a @ b\n",
      "c:\\Users\\galea\\anaconda3\\lib\\site-packages\\sklearn\\utils\\extmath.py:189: RuntimeWarning: invalid value encountered in matmul\n",
      "  ret = a @ b\n"
     ]
    },
    {
     "name": "stdout",
     "output_type": "stream",
     "text": [
      "[CV 5/5] END .activation=identity, solver=lbfgs;, score=0.816 total time=   0.1s\n",
      "[CV 1/5] END .....activation=identity, solver=sgd;, score=nan total time=   0.0s\n"
     ]
    },
    {
     "name": "stderr",
     "output_type": "stream",
     "text": [
      "c:\\Users\\galea\\anaconda3\\lib\\site-packages\\sklearn\\neural_network\\_multilayer_perceptron.py:684: ConvergenceWarning: Stochastic Optimizer: Maximum iterations (200) reached and the optimization hasn't converged yet.\n",
      "  warnings.warn(\n",
      "c:\\Users\\galea\\anaconda3\\lib\\site-packages\\sklearn\\utils\\extmath.py:189: RuntimeWarning: overflow encountered in matmul\n",
      "  ret = a @ b\n",
      "c:\\Users\\galea\\anaconda3\\lib\\site-packages\\sklearn\\utils\\extmath.py:189: RuntimeWarning: invalid value encountered in matmul\n",
      "  ret = a @ b\n",
      "c:\\Users\\galea\\anaconda3\\lib\\site-packages\\sklearn\\neural_network\\_multilayer_perceptron.py:684: ConvergenceWarning: Stochastic Optimizer: Maximum iterations (200) reached and the optimization hasn't converged yet.\n",
      "  warnings.warn(\n",
      "c:\\Users\\galea\\anaconda3\\lib\\site-packages\\sklearn\\utils\\extmath.py:189: RuntimeWarning: overflow encountered in matmul\n",
      "  ret = a @ b\n",
      "c:\\Users\\galea\\anaconda3\\lib\\site-packages\\sklearn\\utils\\extmath.py:189: RuntimeWarning: invalid value encountered in matmul\n",
      "  ret = a @ b\n",
      "c:\\Users\\galea\\anaconda3\\lib\\site-packages\\sklearn\\neural_network\\_multilayer_perceptron.py:684: ConvergenceWarning: Stochastic Optimizer: Maximum iterations (200) reached and the optimization hasn't converged yet.\n",
      "  warnings.warn(\n",
      "c:\\Users\\galea\\anaconda3\\lib\\site-packages\\sklearn\\utils\\extmath.py:189: RuntimeWarning: overflow encountered in matmul\n",
      "  ret = a @ b\n",
      "c:\\Users\\galea\\anaconda3\\lib\\site-packages\\sklearn\\utils\\extmath.py:189: RuntimeWarning: invalid value encountered in matmul\n",
      "  ret = a @ b\n"
     ]
    },
    {
     "name": "stdout",
     "output_type": "stream",
     "text": [
      "[CV 2/5] END .....activation=identity, solver=sgd;, score=nan total time=   0.0s\n",
      "[CV 3/5] END .....activation=identity, solver=sgd;, score=nan total time=   0.0s\n",
      "[CV 4/5] END .....activation=identity, solver=sgd;, score=nan total time=   0.0s\n"
     ]
    },
    {
     "name": "stderr",
     "output_type": "stream",
     "text": [
      "c:\\Users\\galea\\anaconda3\\lib\\site-packages\\sklearn\\neural_network\\_multilayer_perceptron.py:684: ConvergenceWarning: Stochastic Optimizer: Maximum iterations (200) reached and the optimization hasn't converged yet.\n",
      "  warnings.warn(\n",
      "c:\\Users\\galea\\anaconda3\\lib\\site-packages\\sklearn\\neural_network\\_multilayer_perceptron.py:684: ConvergenceWarning: Stochastic Optimizer: Maximum iterations (200) reached and the optimization hasn't converged yet.\n",
      "  warnings.warn(\n"
     ]
    },
    {
     "name": "stdout",
     "output_type": "stream",
     "text": [
      "[CV 5/5] END .....activation=identity, solver=sgd;, score=nan total time=   0.0s\n",
      "[CV 1/5] END ..activation=identity, solver=adam;, score=0.904 total time=   0.0s\n"
     ]
    },
    {
     "name": "stderr",
     "output_type": "stream",
     "text": [
      "c:\\Users\\galea\\anaconda3\\lib\\site-packages\\sklearn\\neural_network\\_multilayer_perceptron.py:684: ConvergenceWarning: Stochastic Optimizer: Maximum iterations (200) reached and the optimization hasn't converged yet.\n",
      "  warnings.warn(\n",
      "c:\\Users\\galea\\anaconda3\\lib\\site-packages\\sklearn\\neural_network\\_multilayer_perceptron.py:684: ConvergenceWarning: Stochastic Optimizer: Maximum iterations (200) reached and the optimization hasn't converged yet.\n",
      "  warnings.warn(\n"
     ]
    },
    {
     "name": "stdout",
     "output_type": "stream",
     "text": [
      "[CV 2/5] END ..activation=identity, solver=adam;, score=0.991 total time=   0.0s\n",
      "[CV 3/5] END ..activation=identity, solver=adam;, score=0.972 total time=   0.0s\n"
     ]
    },
    {
     "name": "stderr",
     "output_type": "stream",
     "text": [
      "c:\\Users\\galea\\anaconda3\\lib\\site-packages\\sklearn\\neural_network\\_multilayer_perceptron.py:684: ConvergenceWarning: Stochastic Optimizer: Maximum iterations (200) reached and the optimization hasn't converged yet.\n",
      "  warnings.warn(\n",
      "c:\\Users\\galea\\anaconda3\\lib\\site-packages\\sklearn\\neural_network\\_multilayer_perceptron.py:684: ConvergenceWarning: Stochastic Optimizer: Maximum iterations (200) reached and the optimization hasn't converged yet.\n",
      "  warnings.warn(\n"
     ]
    },
    {
     "name": "stdout",
     "output_type": "stream",
     "text": [
      "[CV 4/5] END ..activation=identity, solver=adam;, score=0.951 total time=   0.0s\n",
      "[CV 5/5] END ..activation=identity, solver=adam;, score=0.864 total time=   0.1s\n"
     ]
    },
    {
     "name": "stderr",
     "output_type": "stream",
     "text": [
      "c:\\Users\\galea\\anaconda3\\lib\\site-packages\\sklearn\\neural_network\\_multilayer_perceptron.py:541: ConvergenceWarning: lbfgs failed to converge (status=1):\n",
      "STOP: TOTAL NO. of ITERATIONS REACHED LIMIT.\n",
      "\n",
      "Increase the number of iterations (max_iter) or scale the data as shown in:\n",
      "    https://scikit-learn.org/stable/modules/preprocessing.html\n",
      "  self.n_iter_ = _check_optimize_result(\"lbfgs\", opt_res, self.max_iter)\n"
     ]
    },
    {
     "name": "stdout",
     "output_type": "stream",
     "text": [
      "[CV 1/5] END .activation=logistic, solver=lbfgs;, score=0.378 total time=   0.2s\n"
     ]
    },
    {
     "name": "stderr",
     "output_type": "stream",
     "text": [
      "c:\\Users\\galea\\anaconda3\\lib\\site-packages\\sklearn\\neural_network\\_multilayer_perceptron.py:541: ConvergenceWarning: lbfgs failed to converge (status=1):\n",
      "STOP: TOTAL NO. of ITERATIONS REACHED LIMIT.\n",
      "\n",
      "Increase the number of iterations (max_iter) or scale the data as shown in:\n",
      "    https://scikit-learn.org/stable/modules/preprocessing.html\n",
      "  self.n_iter_ = _check_optimize_result(\"lbfgs\", opt_res, self.max_iter)\n"
     ]
    },
    {
     "name": "stdout",
     "output_type": "stream",
     "text": [
      "[CV 2/5] END .activation=logistic, solver=lbfgs;, score=0.646 total time=   0.4s\n"
     ]
    },
    {
     "name": "stderr",
     "output_type": "stream",
     "text": [
      "c:\\Users\\galea\\anaconda3\\lib\\site-packages\\sklearn\\neural_network\\_multilayer_perceptron.py:541: ConvergenceWarning: lbfgs failed to converge (status=1):\n",
      "STOP: TOTAL NO. of ITERATIONS REACHED LIMIT.\n",
      "\n",
      "Increase the number of iterations (max_iter) or scale the data as shown in:\n",
      "    https://scikit-learn.org/stable/modules/preprocessing.html\n",
      "  self.n_iter_ = _check_optimize_result(\"lbfgs\", opt_res, self.max_iter)\n"
     ]
    },
    {
     "name": "stdout",
     "output_type": "stream",
     "text": [
      "[CV 3/5] END activation=logistic, solver=lbfgs;, score=-0.103 total time=   0.4s\n"
     ]
    },
    {
     "name": "stderr",
     "output_type": "stream",
     "text": [
      "c:\\Users\\galea\\anaconda3\\lib\\site-packages\\sklearn\\neural_network\\_multilayer_perceptron.py:541: ConvergenceWarning: lbfgs failed to converge (status=1):\n",
      "STOP: TOTAL NO. of ITERATIONS REACHED LIMIT.\n",
      "\n",
      "Increase the number of iterations (max_iter) or scale the data as shown in:\n",
      "    https://scikit-learn.org/stable/modules/preprocessing.html\n",
      "  self.n_iter_ = _check_optimize_result(\"lbfgs\", opt_res, self.max_iter)\n"
     ]
    },
    {
     "name": "stdout",
     "output_type": "stream",
     "text": [
      "[CV 4/5] END .activation=logistic, solver=lbfgs;, score=0.276 total time=   0.3s\n"
     ]
    },
    {
     "name": "stderr",
     "output_type": "stream",
     "text": [
      "c:\\Users\\galea\\anaconda3\\lib\\site-packages\\sklearn\\neural_network\\_multilayer_perceptron.py:541: ConvergenceWarning: lbfgs failed to converge (status=1):\n",
      "STOP: TOTAL NO. of ITERATIONS REACHED LIMIT.\n",
      "\n",
      "Increase the number of iterations (max_iter) or scale the data as shown in:\n",
      "    https://scikit-learn.org/stable/modules/preprocessing.html\n",
      "  self.n_iter_ = _check_optimize_result(\"lbfgs\", opt_res, self.max_iter)\n"
     ]
    },
    {
     "name": "stdout",
     "output_type": "stream",
     "text": [
      "[CV 5/5] END activation=logistic, solver=lbfgs;, score=-0.190 total time=   0.4s\n",
      "[CV 1/5] END ...activation=logistic, solver=sgd;, score=0.098 total time=   0.0s\n"
     ]
    },
    {
     "name": "stderr",
     "output_type": "stream",
     "text": [
      "c:\\Users\\galea\\anaconda3\\lib\\site-packages\\sklearn\\neural_network\\_multilayer_perceptron.py:684: ConvergenceWarning: Stochastic Optimizer: Maximum iterations (200) reached and the optimization hasn't converged yet.\n",
      "  warnings.warn(\n"
     ]
    },
    {
     "name": "stdout",
     "output_type": "stream",
     "text": [
      "[CV 2/5] END ..activation=logistic, solver=sgd;, score=-0.151 total time=   0.1s\n",
      "[CV 3/5] END ...activation=logistic, solver=sgd;, score=0.498 total time=   0.0s\n",
      "[CV 4/5] END ...activation=logistic, solver=sgd;, score=0.342 total time=   0.1s\n",
      "[CV 5/5] END ...activation=logistic, solver=sgd;, score=0.406 total time=   0.0s\n"
     ]
    },
    {
     "name": "stderr",
     "output_type": "stream",
     "text": [
      "c:\\Users\\galea\\anaconda3\\lib\\site-packages\\sklearn\\neural_network\\_multilayer_perceptron.py:684: ConvergenceWarning: Stochastic Optimizer: Maximum iterations (200) reached and the optimization hasn't converged yet.\n",
      "  warnings.warn(\n",
      "c:\\Users\\galea\\anaconda3\\lib\\site-packages\\sklearn\\neural_network\\_multilayer_perceptron.py:684: ConvergenceWarning: Stochastic Optimizer: Maximum iterations (200) reached and the optimization hasn't converged yet.\n",
      "  warnings.warn(\n",
      "c:\\Users\\galea\\anaconda3\\lib\\site-packages\\sklearn\\neural_network\\_multilayer_perceptron.py:684: ConvergenceWarning: Stochastic Optimizer: Maximum iterations (200) reached and the optimization hasn't converged yet.\n",
      "  warnings.warn(\n"
     ]
    },
    {
     "name": "stdout",
     "output_type": "stream",
     "text": [
      "[CV 1/5] END .activation=logistic, solver=adam;, score=-0.243 total time=   0.1s\n",
      "[CV 2/5] END .activation=logistic, solver=adam;, score=-0.166 total time=   0.0s\n"
     ]
    },
    {
     "name": "stderr",
     "output_type": "stream",
     "text": [
      "c:\\Users\\galea\\anaconda3\\lib\\site-packages\\sklearn\\neural_network\\_multilayer_perceptron.py:684: ConvergenceWarning: Stochastic Optimizer: Maximum iterations (200) reached and the optimization hasn't converged yet.\n",
      "  warnings.warn(\n",
      "c:\\Users\\galea\\anaconda3\\lib\\site-packages\\sklearn\\neural_network\\_multilayer_perceptron.py:684: ConvergenceWarning: Stochastic Optimizer: Maximum iterations (200) reached and the optimization hasn't converged yet.\n",
      "  warnings.warn(\n"
     ]
    },
    {
     "name": "stdout",
     "output_type": "stream",
     "text": [
      "[CV 3/5] END .activation=logistic, solver=adam;, score=-0.289 total time=   0.0s\n",
      "[CV 4/5] END .activation=logistic, solver=adam;, score=-0.272 total time=   0.0s\n"
     ]
    },
    {
     "name": "stderr",
     "output_type": "stream",
     "text": [
      "c:\\Users\\galea\\anaconda3\\lib\\site-packages\\sklearn\\neural_network\\_multilayer_perceptron.py:684: ConvergenceWarning: Stochastic Optimizer: Maximum iterations (200) reached and the optimization hasn't converged yet.\n",
      "  warnings.warn(\n"
     ]
    },
    {
     "name": "stdout",
     "output_type": "stream",
     "text": [
      "[CV 5/5] END .activation=logistic, solver=adam;, score=-0.505 total time=   0.0s\n"
     ]
    },
    {
     "name": "stderr",
     "output_type": "stream",
     "text": [
      "c:\\Users\\galea\\anaconda3\\lib\\site-packages\\sklearn\\neural_network\\_multilayer_perceptron.py:541: ConvergenceWarning: lbfgs failed to converge (status=1):\n",
      "STOP: TOTAL NO. of ITERATIONS REACHED LIMIT.\n",
      "\n",
      "Increase the number of iterations (max_iter) or scale the data as shown in:\n",
      "    https://scikit-learn.org/stable/modules/preprocessing.html\n",
      "  self.n_iter_ = _check_optimize_result(\"lbfgs\", opt_res, self.max_iter)\n"
     ]
    },
    {
     "name": "stdout",
     "output_type": "stream",
     "text": [
      "[CV 1/5] END .....activation=tanh, solver=lbfgs;, score=0.371 total time=   0.1s\n"
     ]
    },
    {
     "name": "stderr",
     "output_type": "stream",
     "text": [
      "c:\\Users\\galea\\anaconda3\\lib\\site-packages\\sklearn\\neural_network\\_multilayer_perceptron.py:541: ConvergenceWarning: lbfgs failed to converge (status=1):\n",
      "STOP: TOTAL NO. of ITERATIONS REACHED LIMIT.\n",
      "\n",
      "Increase the number of iterations (max_iter) or scale the data as shown in:\n",
      "    https://scikit-learn.org/stable/modules/preprocessing.html\n",
      "  self.n_iter_ = _check_optimize_result(\"lbfgs\", opt_res, self.max_iter)\n"
     ]
    },
    {
     "name": "stdout",
     "output_type": "stream",
     "text": [
      "[CV 2/5] END ....activation=tanh, solver=lbfgs;, score=-0.117 total time=   0.2s\n"
     ]
    },
    {
     "name": "stderr",
     "output_type": "stream",
     "text": [
      "c:\\Users\\galea\\anaconda3\\lib\\site-packages\\sklearn\\neural_network\\_multilayer_perceptron.py:541: ConvergenceWarning: lbfgs failed to converge (status=1):\n",
      "STOP: TOTAL NO. of ITERATIONS REACHED LIMIT.\n",
      "\n",
      "Increase the number of iterations (max_iter) or scale the data as shown in:\n",
      "    https://scikit-learn.org/stable/modules/preprocessing.html\n",
      "  self.n_iter_ = _check_optimize_result(\"lbfgs\", opt_res, self.max_iter)\n"
     ]
    },
    {
     "name": "stdout",
     "output_type": "stream",
     "text": [
      "[CV 3/5] END ....activation=tanh, solver=lbfgs;, score=-0.119 total time=   0.2s\n"
     ]
    },
    {
     "name": "stderr",
     "output_type": "stream",
     "text": [
      "c:\\Users\\galea\\anaconda3\\lib\\site-packages\\sklearn\\neural_network\\_multilayer_perceptron.py:541: ConvergenceWarning: lbfgs failed to converge (status=1):\n",
      "STOP: TOTAL NO. of ITERATIONS REACHED LIMIT.\n",
      "\n",
      "Increase the number of iterations (max_iter) or scale the data as shown in:\n",
      "    https://scikit-learn.org/stable/modules/preprocessing.html\n",
      "  self.n_iter_ = _check_optimize_result(\"lbfgs\", opt_res, self.max_iter)\n"
     ]
    },
    {
     "name": "stdout",
     "output_type": "stream",
     "text": [
      "[CV 4/5] END .....activation=tanh, solver=lbfgs;, score=0.541 total time=   0.2s\n"
     ]
    },
    {
     "name": "stderr",
     "output_type": "stream",
     "text": [
      "c:\\Users\\galea\\anaconda3\\lib\\site-packages\\sklearn\\neural_network\\_multilayer_perceptron.py:541: ConvergenceWarning: lbfgs failed to converge (status=1):\n",
      "STOP: TOTAL NO. of ITERATIONS REACHED LIMIT.\n",
      "\n",
      "Increase the number of iterations (max_iter) or scale the data as shown in:\n",
      "    https://scikit-learn.org/stable/modules/preprocessing.html\n",
      "  self.n_iter_ = _check_optimize_result(\"lbfgs\", opt_res, self.max_iter)\n"
     ]
    },
    {
     "name": "stdout",
     "output_type": "stream",
     "text": [
      "[CV 5/5] END .....activation=tanh, solver=lbfgs;, score=0.444 total time=   0.2s\n",
      "[CV 1/5] END .......activation=tanh, solver=sgd;, score=0.239 total time=   0.0s\n",
      "[CV 2/5] END ......activation=tanh, solver=sgd;, score=-0.111 total time=   0.0s\n",
      "[CV 3/5] END .......activation=tanh, solver=sgd;, score=0.178 total time=   0.0s\n",
      "[CV 4/5] END .......activation=tanh, solver=sgd;, score=0.198 total time=   0.0s\n"
     ]
    },
    {
     "name": "stderr",
     "output_type": "stream",
     "text": [
      "c:\\Users\\galea\\anaconda3\\lib\\site-packages\\sklearn\\neural_network\\_multilayer_perceptron.py:684: ConvergenceWarning: Stochastic Optimizer: Maximum iterations (200) reached and the optimization hasn't converged yet.\n",
      "  warnings.warn(\n",
      "c:\\Users\\galea\\anaconda3\\lib\\site-packages\\sklearn\\neural_network\\_multilayer_perceptron.py:684: ConvergenceWarning: Stochastic Optimizer: Maximum iterations (200) reached and the optimization hasn't converged yet.\n",
      "  warnings.warn(\n"
     ]
    },
    {
     "name": "stdout",
     "output_type": "stream",
     "text": [
      "[CV 5/5] END .......activation=tanh, solver=sgd;, score=0.574 total time=   0.0s\n",
      "[CV 1/5] END .....activation=tanh, solver=adam;, score=-0.204 total time=   0.0s\n"
     ]
    },
    {
     "name": "stderr",
     "output_type": "stream",
     "text": [
      "c:\\Users\\galea\\anaconda3\\lib\\site-packages\\sklearn\\neural_network\\_multilayer_perceptron.py:684: ConvergenceWarning: Stochastic Optimizer: Maximum iterations (200) reached and the optimization hasn't converged yet.\n",
      "  warnings.warn(\n"
     ]
    },
    {
     "name": "stdout",
     "output_type": "stream",
     "text": [
      "[CV 2/5] END .....activation=tanh, solver=adam;, score=-0.144 total time=   0.0s\n"
     ]
    },
    {
     "name": "stderr",
     "output_type": "stream",
     "text": [
      "c:\\Users\\galea\\anaconda3\\lib\\site-packages\\sklearn\\neural_network\\_multilayer_perceptron.py:684: ConvergenceWarning: Stochastic Optimizer: Maximum iterations (200) reached and the optimization hasn't converged yet.\n",
      "  warnings.warn(\n"
     ]
    },
    {
     "name": "stdout",
     "output_type": "stream",
     "text": [
      "[CV 3/5] END .....activation=tanh, solver=adam;, score=-0.295 total time=   0.2s\n"
     ]
    },
    {
     "name": "stderr",
     "output_type": "stream",
     "text": [
      "c:\\Users\\galea\\anaconda3\\lib\\site-packages\\sklearn\\neural_network\\_multilayer_perceptron.py:684: ConvergenceWarning: Stochastic Optimizer: Maximum iterations (200) reached and the optimization hasn't converged yet.\n",
      "  warnings.warn(\n",
      "c:\\Users\\galea\\anaconda3\\lib\\site-packages\\sklearn\\neural_network\\_multilayer_perceptron.py:684: ConvergenceWarning: Stochastic Optimizer: Maximum iterations (200) reached and the optimization hasn't converged yet.\n",
      "  warnings.warn(\n"
     ]
    },
    {
     "name": "stdout",
     "output_type": "stream",
     "text": [
      "[CV 4/5] END .....activation=tanh, solver=adam;, score=-0.276 total time=   0.2s\n",
      "[CV 5/5] END .....activation=tanh, solver=adam;, score=-0.470 total time=   0.0s\n"
     ]
    },
    {
     "name": "stderr",
     "output_type": "stream",
     "text": [
      "c:\\Users\\galea\\anaconda3\\lib\\site-packages\\sklearn\\neural_network\\_multilayer_perceptron.py:541: ConvergenceWarning: lbfgs failed to converge (status=1):\n",
      "STOP: TOTAL NO. of ITERATIONS REACHED LIMIT.\n",
      "\n",
      "Increase the number of iterations (max_iter) or scale the data as shown in:\n",
      "    https://scikit-learn.org/stable/modules/preprocessing.html\n",
      "  self.n_iter_ = _check_optimize_result(\"lbfgs\", opt_res, self.max_iter)\n"
     ]
    },
    {
     "name": "stdout",
     "output_type": "stream",
     "text": [
      "[CV 1/5] END .....activation=relu, solver=lbfgs;, score=0.929 total time=   0.1s\n"
     ]
    },
    {
     "name": "stderr",
     "output_type": "stream",
     "text": [
      "c:\\Users\\galea\\anaconda3\\lib\\site-packages\\sklearn\\neural_network\\_multilayer_perceptron.py:541: ConvergenceWarning: lbfgs failed to converge (status=1):\n",
      "STOP: TOTAL NO. of ITERATIONS REACHED LIMIT.\n",
      "\n",
      "Increase the number of iterations (max_iter) or scale the data as shown in:\n",
      "    https://scikit-learn.org/stable/modules/preprocessing.html\n",
      "  self.n_iter_ = _check_optimize_result(\"lbfgs\", opt_res, self.max_iter)\n"
     ]
    },
    {
     "name": "stdout",
     "output_type": "stream",
     "text": [
      "[CV 2/5] END .....activation=relu, solver=lbfgs;, score=0.935 total time=   0.2s\n"
     ]
    },
    {
     "name": "stderr",
     "output_type": "stream",
     "text": [
      "c:\\Users\\galea\\anaconda3\\lib\\site-packages\\sklearn\\neural_network\\_multilayer_perceptron.py:541: ConvergenceWarning: lbfgs failed to converge (status=1):\n",
      "STOP: TOTAL NO. of ITERATIONS REACHED LIMIT.\n",
      "\n",
      "Increase the number of iterations (max_iter) or scale the data as shown in:\n",
      "    https://scikit-learn.org/stable/modules/preprocessing.html\n",
      "  self.n_iter_ = _check_optimize_result(\"lbfgs\", opt_res, self.max_iter)\n"
     ]
    },
    {
     "name": "stdout",
     "output_type": "stream",
     "text": [
      "[CV 3/5] END .....activation=relu, solver=lbfgs;, score=0.898 total time=   0.1s\n"
     ]
    },
    {
     "name": "stderr",
     "output_type": "stream",
     "text": [
      "c:\\Users\\galea\\anaconda3\\lib\\site-packages\\sklearn\\neural_network\\_multilayer_perceptron.py:541: ConvergenceWarning: lbfgs failed to converge (status=1):\n",
      "STOP: TOTAL NO. of ITERATIONS REACHED LIMIT.\n",
      "\n",
      "Increase the number of iterations (max_iter) or scale the data as shown in:\n",
      "    https://scikit-learn.org/stable/modules/preprocessing.html\n",
      "  self.n_iter_ = _check_optimize_result(\"lbfgs\", opt_res, self.max_iter)\n"
     ]
    },
    {
     "name": "stdout",
     "output_type": "stream",
     "text": [
      "[CV 4/5] END .....activation=relu, solver=lbfgs;, score=0.967 total time=   0.2s\n"
     ]
    },
    {
     "name": "stderr",
     "output_type": "stream",
     "text": [
      "c:\\Users\\galea\\anaconda3\\lib\\site-packages\\sklearn\\neural_network\\_multilayer_perceptron.py:541: ConvergenceWarning: lbfgs failed to converge (status=1):\n",
      "STOP: TOTAL NO. of ITERATIONS REACHED LIMIT.\n",
      "\n",
      "Increase the number of iterations (max_iter) or scale the data as shown in:\n",
      "    https://scikit-learn.org/stable/modules/preprocessing.html\n",
      "  self.n_iter_ = _check_optimize_result(\"lbfgs\", opt_res, self.max_iter)\n",
      "c:\\Users\\galea\\anaconda3\\lib\\site-packages\\sklearn\\neural_network\\_multilayer_perceptron.py:684: ConvergenceWarning: Stochastic Optimizer: Maximum iterations (200) reached and the optimization hasn't converged yet.\n",
      "  warnings.warn(\n"
     ]
    },
    {
     "name": "stdout",
     "output_type": "stream",
     "text": [
      "[CV 5/5] END .....activation=relu, solver=lbfgs;, score=0.912 total time=   0.1s\n",
      "[CV 1/5] END ..activation=relu, solver=sgd;, score=-20868.281 total time=   0.0s\n",
      "[CV 2/5] END activation=relu, solver=sgd;, score=-39386607417924.680 total time=   0.0s\n",
      "[CV 3/5] END ...activation=relu, solver=sgd;, score=-3738.098 total time=   0.0s\n",
      "[CV 4/5] END activation=relu, solver=sgd;, score=-261807570058317888.000 total time=   0.0s\n",
      "[CV 5/5] END activation=relu, solver=sgd;, score=-840875726944443008.000 total time=   0.0s\n",
      "[CV 1/5] END ......activation=relu, solver=adam;, score=0.800 total time=   0.0s\n"
     ]
    },
    {
     "name": "stderr",
     "output_type": "stream",
     "text": [
      "c:\\Users\\galea\\anaconda3\\lib\\site-packages\\sklearn\\neural_network\\_multilayer_perceptron.py:684: ConvergenceWarning: Stochastic Optimizer: Maximum iterations (200) reached and the optimization hasn't converged yet.\n",
      "  warnings.warn(\n",
      "c:\\Users\\galea\\anaconda3\\lib\\site-packages\\sklearn\\neural_network\\_multilayer_perceptron.py:684: ConvergenceWarning: Stochastic Optimizer: Maximum iterations (200) reached and the optimization hasn't converged yet.\n",
      "  warnings.warn(\n",
      "c:\\Users\\galea\\anaconda3\\lib\\site-packages\\sklearn\\neural_network\\_multilayer_perceptron.py:684: ConvergenceWarning: Stochastic Optimizer: Maximum iterations (200) reached and the optimization hasn't converged yet.\n",
      "  warnings.warn(\n"
     ]
    },
    {
     "name": "stdout",
     "output_type": "stream",
     "text": [
      "[CV 2/5] END ......activation=relu, solver=adam;, score=0.874 total time=   0.0s\n",
      "[CV 3/5] END ......activation=relu, solver=adam;, score=0.758 total time=   0.0s\n",
      "[CV 4/5] END ......activation=relu, solver=adam;, score=0.768 total time=   0.0s\n",
      "[CV 5/5] END ......activation=relu, solver=adam;, score=0.891 total time=   0.0s\n"
     ]
    },
    {
     "name": "stderr",
     "output_type": "stream",
     "text": [
      "c:\\Users\\galea\\anaconda3\\lib\\site-packages\\sklearn\\neural_network\\_multilayer_perceptron.py:684: ConvergenceWarning: Stochastic Optimizer: Maximum iterations (200) reached and the optimization hasn't converged yet.\n",
      "  warnings.warn(\n",
      "c:\\Users\\galea\\anaconda3\\lib\\site-packages\\sklearn\\model_selection\\_validation.py:378: FitFailedWarning: \n",
      "5 fits failed out of a total of 60.\n",
      "The score on these train-test partitions for these parameters will be set to nan.\n",
      "If these failures are not expected, you can try to debug them by setting error_score='raise'.\n",
      "\n",
      "Below are more details about the failures:\n",
      "--------------------------------------------------------------------------------\n",
      "5 fits failed with the following error:\n",
      "Traceback (most recent call last):\n",
      "  File \"c:\\Users\\galea\\anaconda3\\lib\\site-packages\\sklearn\\model_selection\\_validation.py\", line 686, in _fit_and_score\n",
      "    estimator.fit(X_train, y_train, **fit_params)\n",
      "  File \"c:\\Users\\galea\\anaconda3\\lib\\site-packages\\sklearn\\neural_network\\_multilayer_perceptron.py\", line 747, in fit\n",
      "    return self._fit(X, y, incremental=False)\n",
      "  File \"c:\\Users\\galea\\anaconda3\\lib\\site-packages\\sklearn\\neural_network\\_multilayer_perceptron.py\", line 491, in _fit\n",
      "    raise ValueError(\n",
      "ValueError: Solver produced non-finite parameter weights. The input data may contain large values and need to be preprocessed.\n",
      "\n",
      "  warnings.warn(some_fits_failed_message, FitFailedWarning)\n",
      "c:\\Users\\galea\\anaconda3\\lib\\site-packages\\sklearn\\model_selection\\_search.py:952: UserWarning: One or more of the test scores are non-finite: [ 9.10946682e-01             nan  9.36479849e-01  2.01367768e-01\n",
      "  2.38605879e-01 -2.95080234e-01  2.24032820e-01  2.15785454e-01\n",
      " -2.77769032e-01  9.28342649e-01 -2.20544537e+17  8.17909599e-01]\n",
      "  warnings.warn(\n",
      "c:\\Users\\galea\\anaconda3\\lib\\site-packages\\sklearn\\neural_network\\_multilayer_perceptron.py:684: ConvergenceWarning: Stochastic Optimizer: Maximum iterations (200) reached and the optimization hasn't converged yet.\n",
      "  warnings.warn(\n"
     ]
    }
   ],
   "source": [
    "mlpr_random.fit(X_train.iloc[:, 2:], y_train['Qty'])\n",
    "\n",
    "\n",
    "# make predictions for the test data\n",
    "predictions = mlpr_random.predict(X_test.iloc[:, 2:])"
   ]
  },
  {
   "cell_type": "code",
   "execution_count": 7,
   "metadata": {},
   "outputs": [
    {
     "name": "stdout",
     "output_type": "stream",
     "text": [
      "RMSE: 51.86986558662552\n",
      "MSE: 2690.4829559745986\n",
      "R^2 Score: -0.5081182488646854\n",
      "Explained Variance Score: 0.8460783159584774\n",
      "Max Error: 65.51632574825277\n",
      "[array(['2019-10-01T00:00:00.000000000', '2019-11-01T00:00:00.000000000',\n",
      "       '2019-12-01T00:00:00.000000000'], dtype='datetime64[ns]'), array([369, 405, 303], dtype=int64), array([313.50334003, 339.48367425, 276.55797547])]\n"
     ]
    }
   ],
   "source": [
    "# calculate the root mean squared error (RMSE) of the predictions\n",
    "rmse = ((predictions - y_test['Qty']) ** 2).mean() ** 0.5\n",
    "print('RMSE:', rmse)\n",
    "\n",
    "# calculate the mean squared error\n",
    "mse = mean_squared_error(y_test['Qty'], predictions)\n",
    "print('MSE:', mse)\n",
    "\n",
    "# calculate the r2 score\n",
    "r2_score = r2_score(y_test['Qty'], predictions)\n",
    "print('R^2 Score:', r2_score)\n",
    "\n",
    "# calculate explained variance score\n",
    "explained_variance_score = explained_variance_score(y_test['Qty'], predictions)\n",
    "print('Explained Variance Score:', explained_variance_score)\n",
    "\n",
    "# calculate max error\n",
    "max_error = max_error(y_test['Qty'], predictions)\n",
    "print('Max Error:', max_error)\n",
    "\n",
    "\n",
    "print([X_test['Date'].values, y_test['Qty'].values, predictions])"
   ]
  },
  {
   "cell_type": "code",
   "execution_count": 8,
   "metadata": {},
   "outputs": [
    {
     "data": {
      "image/png": "[encoded data removed]",
      "text/plain": [
       "<Figure size 640x480 with 1 Axes>"
      ]
     },
     "metadata": {},
     "output_type": "display_data"
    }
   ],
   "source": [
    "\n",
    "sales_data_lagged['predicted_quantity'] = pd.Series(predictions, index=y_test.index)\n",
    "sales_data_lagged= sales_data_lagged.sort_values(by=['Date'])\n",
    "\n",
    "# plot the actual and predicted quantities against date\n",
    "plt.plot(sales_data_lagged['Date'], sales_data_lagged['Qty'], label='Actual')\n",
    "plt.plot(sales_data_lagged['Date'], sales_data_lagged['predicted_quantity'], label='Predicted')\n",
    "plt.xlabel('Date')\n",
    "plt.ylabel('Qty')\n",
    "plt.title('Sales Data Forecasting')\n",
    "plt.legend()\n",
    "plt.show()"
   ]
  },
  {
   "cell_type": "code",
   "execution_count": 9,
   "metadata": {},
   "outputs": [
    {
     "data": {
      "text/plain": [
       "{'activation': 'identity', 'solver': 'adam'}"
      ]
     },
     "execution_count": 9,
     "metadata": {},
     "output_type": "execute_result"
    }
   ],
   "source": [
    "mlpr_random.best_params_"
   ]
  },
  {
   "cell_type": "code",
   "execution_count": 10,
   "metadata": {},
   "outputs": [
    {
     "data": {
      "image/png": "[encoded data removed]",
      "text/plain": [
       "<Figure size 640x480 with 1 Axes>"
      ]
     },
     "metadata": {},
     "output_type": "display_data"
    }
   ],
   "source": [
    "matrix_data = np.column_stack((y_test['Qty'].values, predictions))\n",
    "\n",
    "# plot the matrix using seaborn's heatmap function\n",
    "sns.heatmap(matrix_data, annot=True, fmt='.1f', cmap='coolwarm', linewidths=.5, cbar=False)\n",
    "plt.xlabel('Actual')\n",
    "plt.ylabel('Predicted')\n",
    "plt.title(f'Actual vs. Predicted Sales Data (RMSE={rmse:.2f})')\n",
    "plt.show()"
   ]
  }
 ],
 "metadata": {
  "kernelspec": {
   "display_name": "base",
   "language": "python",
   "name": "python3"
  },
  "language_info": {
   "codemirror_mode": {
    "name": "ipython",
    "version": 3
   },
   "file_extension": ".py",
   "mimetype": "text/x-python",
   "name": "python",
   "nbconvert_exporter": "python",
   "pygments_lexer": "ipython3",
   "version": "3.10.9"
  },
  "orig_nbformat": 4
 },
 "nbformat": 4,
 "nbformat_minor": 2
}
