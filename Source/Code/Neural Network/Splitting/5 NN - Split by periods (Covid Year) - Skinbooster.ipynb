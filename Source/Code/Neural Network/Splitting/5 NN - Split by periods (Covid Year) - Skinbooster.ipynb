{
 "cells": [
  {
   "cell_type": "code",
   "execution_count": 1,
   "metadata": {},
   "outputs": [
    {
     "data": {
      "text/html": [
       "<div>\n",
       "<style scoped>\n",
       "    .dataframe tbody tr th:only-of-type {\n",
       "        vertical-align: middle;\n",
       "    }\n",
       "\n",
       "    .dataframe tbody tr th {\n",
       "        vertical-align: top;\n",
       "    }\n",
       "\n",
       "    .dataframe thead th {\n",
       "        text-align: right;\n",
       "    }\n",
       "</style>\n",
       "<table border=\"1\" class=\"dataframe\">\n",
       "  <thead>\n",
       "    <tr style=\"text-align: right;\">\n",
       "      <th></th>\n",
       "      <th>Date</th>\n",
       "      <th>Month</th>\n",
       "      <th>Quarter</th>\n",
       "      <th>Year</th>\n",
       "      <th>Qty</th>\n",
       "      <th>Product</th>\n",
       "      <th>Category</th>\n",
       "      <th>Pharmacy</th>\n",
       "      <th>Location</th>\n",
       "      <th>Pharmacy 1</th>\n",
       "      <th>...</th>\n",
       "      <th>Brazil, USA, Blank, IE, Zimbabwe, Zurich</th>\n",
       "      <th>Ireland &amp; Northern Ireland</th>\n",
       "      <th>London</th>\n",
       "      <th>NorthEast, Midlands</th>\n",
       "      <th>NorthWest</th>\n",
       "      <th>Outside London M25</th>\n",
       "      <th>Outside London the rest</th>\n",
       "      <th>Scotland, Newcastle</th>\n",
       "      <th>SouthEast</th>\n",
       "      <th>SouthWest</th>\n",
       "    </tr>\n",
       "  </thead>\n",
       "  <tbody>\n",
       "    <tr>\n",
       "      <th>0</th>\n",
       "      <td>1-11-2015</td>\n",
       "      <td>11</td>\n",
       "      <td>4</td>\n",
       "      <td>2015</td>\n",
       "      <td>2</td>\n",
       "      <td>Injection 14</td>\n",
       "      <td>Skinbooster</td>\n",
       "      <td>Pharmacy 1</td>\n",
       "      <td>London</td>\n",
       "      <td>1</td>\n",
       "      <td>...</td>\n",
       "      <td>0</td>\n",
       "      <td>0</td>\n",
       "      <td>1</td>\n",
       "      <td>0</td>\n",
       "      <td>0</td>\n",
       "      <td>0</td>\n",
       "      <td>0</td>\n",
       "      <td>0</td>\n",
       "      <td>0</td>\n",
       "      <td>0</td>\n",
       "    </tr>\n",
       "    <tr>\n",
       "      <th>1</th>\n",
       "      <td>1-11-2015</td>\n",
       "      <td>11</td>\n",
       "      <td>4</td>\n",
       "      <td>2015</td>\n",
       "      <td>1</td>\n",
       "      <td>Injection 14</td>\n",
       "      <td>Skinbooster</td>\n",
       "      <td>Pharmacy 1</td>\n",
       "      <td>London</td>\n",
       "      <td>1</td>\n",
       "      <td>...</td>\n",
       "      <td>0</td>\n",
       "      <td>0</td>\n",
       "      <td>1</td>\n",
       "      <td>0</td>\n",
       "      <td>0</td>\n",
       "      <td>0</td>\n",
       "      <td>0</td>\n",
       "      <td>0</td>\n",
       "      <td>0</td>\n",
       "      <td>0</td>\n",
       "    </tr>\n",
       "    <tr>\n",
       "      <th>4</th>\n",
       "      <td>1-11-2015</td>\n",
       "      <td>11</td>\n",
       "      <td>4</td>\n",
       "      <td>2015</td>\n",
       "      <td>4</td>\n",
       "      <td>Injection 14</td>\n",
       "      <td>Skinbooster</td>\n",
       "      <td>Pharmacy 2</td>\n",
       "      <td>NorthEast, Midlands</td>\n",
       "      <td>0</td>\n",
       "      <td>...</td>\n",
       "      <td>0</td>\n",
       "      <td>0</td>\n",
       "      <td>0</td>\n",
       "      <td>1</td>\n",
       "      <td>0</td>\n",
       "      <td>0</td>\n",
       "      <td>0</td>\n",
       "      <td>0</td>\n",
       "      <td>0</td>\n",
       "      <td>0</td>\n",
       "    </tr>\n",
       "    <tr>\n",
       "      <th>15</th>\n",
       "      <td>1-12-2015</td>\n",
       "      <td>12</td>\n",
       "      <td>4</td>\n",
       "      <td>2015</td>\n",
       "      <td>2</td>\n",
       "      <td>Injection 14</td>\n",
       "      <td>Skinbooster</td>\n",
       "      <td>Pharmacy 2</td>\n",
       "      <td>NorthEast, Midlands</td>\n",
       "      <td>0</td>\n",
       "      <td>...</td>\n",
       "      <td>0</td>\n",
       "      <td>0</td>\n",
       "      <td>0</td>\n",
       "      <td>1</td>\n",
       "      <td>0</td>\n",
       "      <td>0</td>\n",
       "      <td>0</td>\n",
       "      <td>0</td>\n",
       "      <td>0</td>\n",
       "      <td>0</td>\n",
       "    </tr>\n",
       "    <tr>\n",
       "      <th>16</th>\n",
       "      <td>1-12-2015</td>\n",
       "      <td>12</td>\n",
       "      <td>4</td>\n",
       "      <td>2015</td>\n",
       "      <td>3</td>\n",
       "      <td>Injection 14</td>\n",
       "      <td>Skinbooster</td>\n",
       "      <td>Pharmacy 2</td>\n",
       "      <td>Outside London M25</td>\n",
       "      <td>0</td>\n",
       "      <td>...</td>\n",
       "      <td>0</td>\n",
       "      <td>0</td>\n",
       "      <td>0</td>\n",
       "      <td>0</td>\n",
       "      <td>0</td>\n",
       "      <td>1</td>\n",
       "      <td>0</td>\n",
       "      <td>0</td>\n",
       "      <td>0</td>\n",
       "      <td>0</td>\n",
       "    </tr>\n",
       "    <tr>\n",
       "      <th>...</th>\n",
       "      <td>...</td>\n",
       "      <td>...</td>\n",
       "      <td>...</td>\n",
       "      <td>...</td>\n",
       "      <td>...</td>\n",
       "      <td>...</td>\n",
       "      <td>...</td>\n",
       "      <td>...</td>\n",
       "      <td>...</td>\n",
       "      <td>...</td>\n",
       "      <td>...</td>\n",
       "      <td>...</td>\n",
       "      <td>...</td>\n",
       "      <td>...</td>\n",
       "      <td>...</td>\n",
       "      <td>...</td>\n",
       "      <td>...</td>\n",
       "      <td>...</td>\n",
       "      <td>...</td>\n",
       "      <td>...</td>\n",
       "      <td>...</td>\n",
       "    </tr>\n",
       "    <tr>\n",
       "      <th>68616</th>\n",
       "      <td>1-3-2022</td>\n",
       "      <td>3</td>\n",
       "      <td>1</td>\n",
       "      <td>2022</td>\n",
       "      <td>5</td>\n",
       "      <td>Injection 10</td>\n",
       "      <td>Skinbooster</td>\n",
       "      <td>Pharmacy 5</td>\n",
       "      <td>Outside London M25</td>\n",
       "      <td>0</td>\n",
       "      <td>...</td>\n",
       "      <td>0</td>\n",
       "      <td>0</td>\n",
       "      <td>0</td>\n",
       "      <td>0</td>\n",
       "      <td>0</td>\n",
       "      <td>1</td>\n",
       "      <td>0</td>\n",
       "      <td>0</td>\n",
       "      <td>0</td>\n",
       "      <td>0</td>\n",
       "    </tr>\n",
       "    <tr>\n",
       "      <th>68617</th>\n",
       "      <td>1-3-2022</td>\n",
       "      <td>3</td>\n",
       "      <td>1</td>\n",
       "      <td>2022</td>\n",
       "      <td>7</td>\n",
       "      <td>Injection 10</td>\n",
       "      <td>Skinbooster</td>\n",
       "      <td>Pharmacy 5</td>\n",
       "      <td>SouthWest</td>\n",
       "      <td>0</td>\n",
       "      <td>...</td>\n",
       "      <td>0</td>\n",
       "      <td>0</td>\n",
       "      <td>0</td>\n",
       "      <td>0</td>\n",
       "      <td>0</td>\n",
       "      <td>0</td>\n",
       "      <td>0</td>\n",
       "      <td>0</td>\n",
       "      <td>0</td>\n",
       "      <td>1</td>\n",
       "    </tr>\n",
       "    <tr>\n",
       "      <th>68618</th>\n",
       "      <td>1-3-2022</td>\n",
       "      <td>3</td>\n",
       "      <td>1</td>\n",
       "      <td>2022</td>\n",
       "      <td>2</td>\n",
       "      <td>Injection 10</td>\n",
       "      <td>Skinbooster</td>\n",
       "      <td>Pharmacy 5</td>\n",
       "      <td>SouthWest</td>\n",
       "      <td>0</td>\n",
       "      <td>...</td>\n",
       "      <td>0</td>\n",
       "      <td>0</td>\n",
       "      <td>0</td>\n",
       "      <td>0</td>\n",
       "      <td>0</td>\n",
       "      <td>0</td>\n",
       "      <td>0</td>\n",
       "      <td>0</td>\n",
       "      <td>0</td>\n",
       "      <td>1</td>\n",
       "    </tr>\n",
       "    <tr>\n",
       "      <th>68619</th>\n",
       "      <td>1-3-2022</td>\n",
       "      <td>3</td>\n",
       "      <td>1</td>\n",
       "      <td>2022</td>\n",
       "      <td>1</td>\n",
       "      <td>Injection 10</td>\n",
       "      <td>Skinbooster</td>\n",
       "      <td>Pharmacy 5</td>\n",
       "      <td>NorthEast, Midlands</td>\n",
       "      <td>0</td>\n",
       "      <td>...</td>\n",
       "      <td>0</td>\n",
       "      <td>0</td>\n",
       "      <td>0</td>\n",
       "      <td>1</td>\n",
       "      <td>0</td>\n",
       "      <td>0</td>\n",
       "      <td>0</td>\n",
       "      <td>0</td>\n",
       "      <td>0</td>\n",
       "      <td>0</td>\n",
       "    </tr>\n",
       "    <tr>\n",
       "      <th>68620</th>\n",
       "      <td>1-3-2022</td>\n",
       "      <td>3</td>\n",
       "      <td>1</td>\n",
       "      <td>2022</td>\n",
       "      <td>3</td>\n",
       "      <td>Injection 10</td>\n",
       "      <td>Skinbooster</td>\n",
       "      <td>Pharmacy 5</td>\n",
       "      <td>London</td>\n",
       "      <td>0</td>\n",
       "      <td>...</td>\n",
       "      <td>0</td>\n",
       "      <td>0</td>\n",
       "      <td>1</td>\n",
       "      <td>0</td>\n",
       "      <td>0</td>\n",
       "      <td>0</td>\n",
       "      <td>0</td>\n",
       "      <td>0</td>\n",
       "      <td>0</td>\n",
       "      <td>0</td>\n",
       "    </tr>\n",
       "  </tbody>\n",
       "</table>\n",
       "<p>3269 rows × 34 columns</p>\n",
       "</div>"
      ],
      "text/plain": [
       "            Date  Month  Quarter  Year  Qty       Product     Category  \\\n",
       "0      1-11-2015     11        4  2015    2  Injection 14  Skinbooster   \n",
       "1      1-11-2015     11        4  2015    1  Injection 14  Skinbooster   \n",
       "4      1-11-2015     11        4  2015    4  Injection 14  Skinbooster   \n",
       "15     1-12-2015     12        4  2015    2  Injection 14  Skinbooster   \n",
       "16     1-12-2015     12        4  2015    3  Injection 14  Skinbooster   \n",
       "...          ...    ...      ...   ...  ...           ...          ...   \n",
       "68616   1-3-2022      3        1  2022    5  Injection 10  Skinbooster   \n",
       "68617   1-3-2022      3        1  2022    7  Injection 10  Skinbooster   \n",
       "68618   1-3-2022      3        1  2022    2  Injection 10  Skinbooster   \n",
       "68619   1-3-2022      3        1  2022    1  Injection 10  Skinbooster   \n",
       "68620   1-3-2022      3        1  2022    3  Injection 10  Skinbooster   \n",
       "\n",
       "         Pharmacy             Location  Pharmacy 1  ...  \\\n",
       "0      Pharmacy 1               London           1  ...   \n",
       "1      Pharmacy 1               London           1  ...   \n",
       "4      Pharmacy 2  NorthEast, Midlands           0  ...   \n",
       "15     Pharmacy 2  NorthEast, Midlands           0  ...   \n",
       "16     Pharmacy 2   Outside London M25           0  ...   \n",
       "...           ...                  ...         ...  ...   \n",
       "68616  Pharmacy 5   Outside London M25           0  ...   \n",
       "68617  Pharmacy 5            SouthWest           0  ...   \n",
       "68618  Pharmacy 5            SouthWest           0  ...   \n",
       "68619  Pharmacy 5  NorthEast, Midlands           0  ...   \n",
       "68620  Pharmacy 5               London           0  ...   \n",
       "\n",
       "       Brazil, USA, Blank, IE, Zimbabwe, Zurich  Ireland & Northern Ireland  \\\n",
       "0                                             0                           0   \n",
       "1                                             0                           0   \n",
       "4                                             0                           0   \n",
       "15                                            0                           0   \n",
       "16                                            0                           0   \n",
       "...                                         ...                         ...   \n",
       "68616                                         0                           0   \n",
       "68617                                         0                           0   \n",
       "68618                                         0                           0   \n",
       "68619                                         0                           0   \n",
       "68620                                         0                           0   \n",
       "\n",
       "       London  NorthEast, Midlands  NorthWest  Outside London M25  \\\n",
       "0           1                    0          0                   0   \n",
       "1           1                    0          0                   0   \n",
       "4           0                    1          0                   0   \n",
       "15          0                    1          0                   0   \n",
       "16          0                    0          0                   1   \n",
       "...       ...                  ...        ...                 ...   \n",
       "68616       0                    0          0                   1   \n",
       "68617       0                    0          0                   0   \n",
       "68618       0                    0          0                   0   \n",
       "68619       0                    1          0                   0   \n",
       "68620       1                    0          0                   0   \n",
       "\n",
       "       Outside London the rest  Scotland, Newcastle  SouthEast  SouthWest  \n",
       "0                            0                    0          0          0  \n",
       "1                            0                    0          0          0  \n",
       "4                            0                    0          0          0  \n",
       "15                           0                    0          0          0  \n",
       "16                           0                    0          0          0  \n",
       "...                        ...                  ...        ...        ...  \n",
       "68616                        0                    0          0          0  \n",
       "68617                        0                    0          0          1  \n",
       "68618                        0                    0          0          1  \n",
       "68619                        0                    0          0          0  \n",
       "68620                        0                    0          0          0  \n",
       "\n",
       "[3269 rows x 34 columns]"
      ]
     },
     "execution_count": 1,
     "metadata": {},
     "output_type": "execute_result"
    }
   ],
   "source": [
    "import pandas as pd\n",
    "import matplotlib.pyplot as plt\n",
    "from sklearn.neural_network import MLPRegressor\n",
    "from sklearn.model_selection import RandomizedSearchCV, GridSearchCV\n",
    "from sklearn.metrics import r2_score, explained_variance_score, max_error, mean_squared_error\n",
    "import numpy as np\n",
    "import seaborn as sns\n",
    "from sklearn.model_selection import train_test_split\n",
    "\n",
    "# load the sales data set\n",
    "sales_data = pd.read_csv('../../../../Data/SalesData.csv')\n",
    "sales_data.head()\n",
    "\n",
    "sales_data = sales_data[sales_data['Category'] == 'Skinbooster'] \n",
    "\n",
    "\n",
    "pharmacy_onehot = pd.get_dummies(sales_data['Pharmacy'])\n",
    "\n",
    "# concatenate the one-hot encoded categories with the original data\n",
    "sales_data_encoded2 = pd.concat([sales_data, pharmacy_onehot], axis=1)\n",
    "\n",
    "product_onehot = pd.get_dummies(sales_data['Product'])\n",
    "\n",
    "# concatenate the one-hot encoded categories with the original data\n",
    "sales_data_encoded3 = pd.concat([sales_data_encoded2, product_onehot], axis=1)\n",
    "\n",
    "product_onehot = pd.get_dummies(sales_data['Location'])\n",
    "\n",
    "# concatenate the one-hot encoded categories with the original data\n",
    "sales_data_encoded = pd.concat([sales_data_encoded3, product_onehot], axis=1)\n",
    "\n",
    "sales_data_encoded\n"
   ]
  },
  {
   "cell_type": "code",
   "execution_count": 2,
   "metadata": {},
   "outputs": [
    {
     "data": {
      "text/plain": [
       "['Date',\n",
       " 'Month',\n",
       " 'Quarter',\n",
       " 'Year',\n",
       " 'Qty',\n",
       " 'Product',\n",
       " 'Category',\n",
       " 'Pharmacy',\n",
       " 'Location',\n",
       " 'Pharmacy 1',\n",
       " 'Pharmacy 10',\n",
       " 'Pharmacy 11',\n",
       " 'Pharmacy 2',\n",
       " 'Pharmacy 3',\n",
       " 'Pharmacy 4',\n",
       " 'Pharmacy 5',\n",
       " 'Pharmacy 6',\n",
       " 'Pharmacy 7',\n",
       " 'Pharmacy 8',\n",
       " 'Pharmacy 9',\n",
       " 'Injection 10',\n",
       " 'Injection 11',\n",
       " 'Injection 14',\n",
       " 'Injection 9',\n",
       " 'Brazil, USA, Blank, IE, Zimbabwe, Zurich',\n",
       " 'Ireland & Northern Ireland',\n",
       " 'London',\n",
       " 'NorthEast, Midlands',\n",
       " 'NorthWest',\n",
       " 'Outside London M25',\n",
       " 'Outside London the rest',\n",
       " 'Scotland, Newcastle',\n",
       " 'SouthEast',\n",
       " 'SouthWest']"
      ]
     },
     "execution_count": 2,
     "metadata": {},
     "output_type": "execute_result"
    }
   ],
   "source": [
    "list(sales_data_encoded.columns)"
   ]
  },
  {
   "cell_type": "code",
   "execution_count": 3,
   "metadata": {},
   "outputs": [],
   "source": [
    "# group the data by date and sum the quantities and category columns\n",
    "sales_data_grouped = sales_data_encoded.groupby('Date').agg({\n",
    "    'Qty': 'sum',\n",
    "    'Pharmacy 1' : 'sum',\n",
    "    'Pharmacy 2' : 'sum',\n",
    "    'Pharmacy 3' : 'sum',\n",
    "    'Pharmacy 4' : 'sum',\n",
    "    'Pharmacy 5' : 'sum',\n",
    "    'Pharmacy 6' : 'sum',\n",
    "    'Pharmacy 7' : 'sum',\n",
    "    'Pharmacy 8' : 'sum',\n",
    "    'Pharmacy 9' : 'sum',\n",
    "    'Pharmacy 10' : 'sum',\n",
    "    'Pharmacy 11' : 'sum',\n",
    "    'Injection 9' :'sum',\n",
    "    'Injection 10' :'sum',\n",
    "    'Injection 11' :'sum',\n",
    "    'Injection 14' :'sum',\n",
    "    'Brazil, USA, Blank, IE, Zimbabwe, Zurich' : 'sum',\n",
    "    'Ireland & Northern Ireland' : 'sum',\n",
    "    'London' : 'sum',\n",
    "    'NorthEast, Midlands' : 'sum',\n",
    "    'NorthWest' : 'sum',\n",
    "    'Outside London M25' : 'sum',\n",
    "    'Outside London the rest' : 'sum',\n",
    "    'Scotland, Newcastle' : 'sum',\n",
    "    'SouthEast' : 'sum',\n",
    "    'SouthWest' : 'sum'\n",
    "    \t\t\t\t\t\n",
    "})\n",
    "\n",
    "# reset the index to make date a column again\n",
    "sales_data_grouped = sales_data_grouped.reset_index()\n",
    "\n",
    "# create lag features\n",
    "sales_data_lagged = sales_data_grouped.copy()\n",
    "for i in range(1, 8):\n",
    "    sales_data_lagged[f'Qty_lag_{i}'] = sales_data_lagged['Qty'].shift(i)\n",
    "\n",
    "# print(sales_data_lagged)\n",
    "\n",
    "# remove rows with missing values\n",
    "sales_data_lagged.dropna(inplace=True)\n",
    "\n",
    "sales_data_lagged['Date'] = pd.to_datetime(sales_data_lagged['Date'], format='%d-%m-%Y')\n",
    "\n",
    "\n",
    "#X_train, X_test, y_train, y_test = train_test_split(sales_data_lagged.loc[:,sales_data_lagged.columns!='Qty'], sales_data_lagged.loc[:,['Date', 'Qty']], test_size=0.2, random_state=42)\n",
    "X = sales_data_lagged.loc[(sales_data_lagged['Date'] < '2020-04-01')]\n",
    "y = sales_data_lagged.loc[(sales_data_lagged['Date'] >= '2020-04-01') & (sales_data_lagged['Date']<= '2021-04-01')]\n",
    "\n",
    "# X_train, X_test, y_train, y_test = train_test_split(X, y, test_size=0.2, random_state=42)\n",
    "\n",
    "X_train = X.loc[:,X.columns!='Qty']\n",
    "X_test = y.loc[:,y.columns!='Qty']\n",
    "y_train = X.loc[:,X.columns=='Qty']\n",
    "y_test = y.loc[:,y.columns=='Qty']"
   ]
  },
  {
   "cell_type": "code",
   "execution_count": 4,
   "metadata": {},
   "outputs": [
    {
     "data": {
      "text/html": [
       "<div>\n",
       "<style scoped>\n",
       "    .dataframe tbody tr th:only-of-type {\n",
       "        vertical-align: middle;\n",
       "    }\n",
       "\n",
       "    .dataframe tbody tr th {\n",
       "        vertical-align: top;\n",
       "    }\n",
       "\n",
       "    .dataframe thead th {\n",
       "        text-align: right;\n",
       "    }\n",
       "</style>\n",
       "<table border=\"1\" class=\"dataframe\">\n",
       "  <thead>\n",
       "    <tr style=\"text-align: right;\">\n",
       "      <th></th>\n",
       "      <th>Date</th>\n",
       "      <th>Qty</th>\n",
       "      <th>Pharmacy 1</th>\n",
       "      <th>Pharmacy 2</th>\n",
       "      <th>Pharmacy 3</th>\n",
       "      <th>Pharmacy 4</th>\n",
       "      <th>Pharmacy 5</th>\n",
       "      <th>Pharmacy 6</th>\n",
       "      <th>Pharmacy 7</th>\n",
       "      <th>Pharmacy 8</th>\n",
       "      <th>...</th>\n",
       "      <th>Scotland, Newcastle</th>\n",
       "      <th>SouthEast</th>\n",
       "      <th>SouthWest</th>\n",
       "      <th>Qty_lag_1</th>\n",
       "      <th>Qty_lag_2</th>\n",
       "      <th>Qty_lag_3</th>\n",
       "      <th>Qty_lag_4</th>\n",
       "      <th>Qty_lag_5</th>\n",
       "      <th>Qty_lag_6</th>\n",
       "      <th>Qty_lag_7</th>\n",
       "    </tr>\n",
       "  </thead>\n",
       "  <tbody>\n",
       "    <tr>\n",
       "      <th>11</th>\n",
       "      <td>2020-10-01</td>\n",
       "      <td>322</td>\n",
       "      <td>7</td>\n",
       "      <td>32</td>\n",
       "      <td>6</td>\n",
       "      <td>5</td>\n",
       "      <td>18</td>\n",
       "      <td>5</td>\n",
       "      <td>2</td>\n",
       "      <td>0</td>\n",
       "      <td>...</td>\n",
       "      <td>12</td>\n",
       "      <td>9</td>\n",
       "      <td>9</td>\n",
       "      <td>369.0</td>\n",
       "      <td>179.0</td>\n",
       "      <td>6.0</td>\n",
       "      <td>28.0</td>\n",
       "      <td>225.0</td>\n",
       "      <td>51.0</td>\n",
       "      <td>236.0</td>\n",
       "    </tr>\n",
       "    <tr>\n",
       "      <th>18</th>\n",
       "      <td>2020-11-01</td>\n",
       "      <td>195</td>\n",
       "      <td>1</td>\n",
       "      <td>18</td>\n",
       "      <td>2</td>\n",
       "      <td>1</td>\n",
       "      <td>13</td>\n",
       "      <td>0</td>\n",
       "      <td>1</td>\n",
       "      <td>0</td>\n",
       "      <td>...</td>\n",
       "      <td>3</td>\n",
       "      <td>5</td>\n",
       "      <td>5</td>\n",
       "      <td>405.0</td>\n",
       "      <td>151.0</td>\n",
       "      <td>13.0</td>\n",
       "      <td>10.0</td>\n",
       "      <td>7.0</td>\n",
       "      <td>319.0</td>\n",
       "      <td>322.0</td>\n",
       "    </tr>\n",
       "    <tr>\n",
       "      <th>25</th>\n",
       "      <td>2020-12-01</td>\n",
       "      <td>271</td>\n",
       "      <td>3</td>\n",
       "      <td>16</td>\n",
       "      <td>5</td>\n",
       "      <td>6</td>\n",
       "      <td>17</td>\n",
       "      <td>2</td>\n",
       "      <td>5</td>\n",
       "      <td>0</td>\n",
       "      <td>...</td>\n",
       "      <td>11</td>\n",
       "      <td>4</td>\n",
       "      <td>8</td>\n",
       "      <td>303.0</td>\n",
       "      <td>104.0</td>\n",
       "      <td>1.0</td>\n",
       "      <td>5.0</td>\n",
       "      <td>5.0</td>\n",
       "      <td>367.0</td>\n",
       "      <td>195.0</td>\n",
       "    </tr>\n",
       "    <tr>\n",
       "      <th>31</th>\n",
       "      <td>2021-02-01</td>\n",
       "      <td>54</td>\n",
       "      <td>0</td>\n",
       "      <td>7</td>\n",
       "      <td>1</td>\n",
       "      <td>0</td>\n",
       "      <td>5</td>\n",
       "      <td>0</td>\n",
       "      <td>0</td>\n",
       "      <td>0</td>\n",
       "      <td>...</td>\n",
       "      <td>0</td>\n",
       "      <td>0</td>\n",
       "      <td>4</td>\n",
       "      <td>281.0</td>\n",
       "      <td>268.0</td>\n",
       "      <td>4.0</td>\n",
       "      <td>11.0</td>\n",
       "      <td>205.0</td>\n",
       "      <td>271.0</td>\n",
       "      <td>303.0</td>\n",
       "    </tr>\n",
       "    <tr>\n",
       "      <th>38</th>\n",
       "      <td>2021-03-01</td>\n",
       "      <td>136</td>\n",
       "      <td>0</td>\n",
       "      <td>15</td>\n",
       "      <td>9</td>\n",
       "      <td>0</td>\n",
       "      <td>8</td>\n",
       "      <td>0</td>\n",
       "      <td>1</td>\n",
       "      <td>0</td>\n",
       "      <td>...</td>\n",
       "      <td>1</td>\n",
       "      <td>11</td>\n",
       "      <td>4</td>\n",
       "      <td>199.0</td>\n",
       "      <td>400.0</td>\n",
       "      <td>7.0</td>\n",
       "      <td>5.0</td>\n",
       "      <td>16.0</td>\n",
       "      <td>327.0</td>\n",
       "      <td>54.0</td>\n",
       "    </tr>\n",
       "    <tr>\n",
       "      <th>44</th>\n",
       "      <td>2020-04-01</td>\n",
       "      <td>14</td>\n",
       "      <td>0</td>\n",
       "      <td>2</td>\n",
       "      <td>0</td>\n",
       "      <td>0</td>\n",
       "      <td>6</td>\n",
       "      <td>0</td>\n",
       "      <td>0</td>\n",
       "      <td>0</td>\n",
       "      <td>...</td>\n",
       "      <td>1</td>\n",
       "      <td>1</td>\n",
       "      <td>2</td>\n",
       "      <td>320.0</td>\n",
       "      <td>14.0</td>\n",
       "      <td>4.0</td>\n",
       "      <td>24.0</td>\n",
       "      <td>354.0</td>\n",
       "      <td>136.0</td>\n",
       "      <td>199.0</td>\n",
       "    </tr>\n",
       "    <tr>\n",
       "      <th>45</th>\n",
       "      <td>2021-04-01</td>\n",
       "      <td>310</td>\n",
       "      <td>1</td>\n",
       "      <td>30</td>\n",
       "      <td>6</td>\n",
       "      <td>4</td>\n",
       "      <td>20</td>\n",
       "      <td>4</td>\n",
       "      <td>3</td>\n",
       "      <td>1</td>\n",
       "      <td>...</td>\n",
       "      <td>16</td>\n",
       "      <td>10</td>\n",
       "      <td>9</td>\n",
       "      <td>14.0</td>\n",
       "      <td>320.0</td>\n",
       "      <td>14.0</td>\n",
       "      <td>4.0</td>\n",
       "      <td>24.0</td>\n",
       "      <td>354.0</td>\n",
       "      <td>136.0</td>\n",
       "    </tr>\n",
       "    <tr>\n",
       "      <th>49</th>\n",
       "      <td>2020-05-01</td>\n",
       "      <td>39</td>\n",
       "      <td>0</td>\n",
       "      <td>5</td>\n",
       "      <td>4</td>\n",
       "      <td>0</td>\n",
       "      <td>0</td>\n",
       "      <td>0</td>\n",
       "      <td>0</td>\n",
       "      <td>0</td>\n",
       "      <td>...</td>\n",
       "      <td>0</td>\n",
       "      <td>0</td>\n",
       "      <td>1</td>\n",
       "      <td>407.0</td>\n",
       "      <td>1.0</td>\n",
       "      <td>19.0</td>\n",
       "      <td>310.0</td>\n",
       "      <td>14.0</td>\n",
       "      <td>320.0</td>\n",
       "      <td>14.0</td>\n",
       "    </tr>\n",
       "    <tr>\n",
       "      <th>55</th>\n",
       "      <td>2020-06-01</td>\n",
       "      <td>65</td>\n",
       "      <td>1</td>\n",
       "      <td>5</td>\n",
       "      <td>2</td>\n",
       "      <td>0</td>\n",
       "      <td>8</td>\n",
       "      <td>1</td>\n",
       "      <td>0</td>\n",
       "      <td>0</td>\n",
       "      <td>...</td>\n",
       "      <td>0</td>\n",
       "      <td>4</td>\n",
       "      <td>2</td>\n",
       "      <td>342.0</td>\n",
       "      <td>2.0</td>\n",
       "      <td>1.0</td>\n",
       "      <td>22.0</td>\n",
       "      <td>372.0</td>\n",
       "      <td>39.0</td>\n",
       "      <td>407.0</td>\n",
       "    </tr>\n",
       "    <tr>\n",
       "      <th>61</th>\n",
       "      <td>2020-07-01</td>\n",
       "      <td>217</td>\n",
       "      <td>1</td>\n",
       "      <td>26</td>\n",
       "      <td>4</td>\n",
       "      <td>3</td>\n",
       "      <td>18</td>\n",
       "      <td>4</td>\n",
       "      <td>4</td>\n",
       "      <td>0</td>\n",
       "      <td>...</td>\n",
       "      <td>8</td>\n",
       "      <td>4</td>\n",
       "      <td>6</td>\n",
       "      <td>245.0</td>\n",
       "      <td>2.0</td>\n",
       "      <td>6.0</td>\n",
       "      <td>14.0</td>\n",
       "      <td>464.0</td>\n",
       "      <td>65.0</td>\n",
       "      <td>342.0</td>\n",
       "    </tr>\n",
       "    <tr>\n",
       "      <th>67</th>\n",
       "      <td>2020-08-01</td>\n",
       "      <td>267</td>\n",
       "      <td>1</td>\n",
       "      <td>30</td>\n",
       "      <td>4</td>\n",
       "      <td>5</td>\n",
       "      <td>27</td>\n",
       "      <td>3</td>\n",
       "      <td>2</td>\n",
       "      <td>0</td>\n",
       "      <td>...</td>\n",
       "      <td>8</td>\n",
       "      <td>8</td>\n",
       "      <td>12</td>\n",
       "      <td>212.0</td>\n",
       "      <td>5.0</td>\n",
       "      <td>10.0</td>\n",
       "      <td>1.0</td>\n",
       "      <td>272.0</td>\n",
       "      <td>217.0</td>\n",
       "      <td>245.0</td>\n",
       "    </tr>\n",
       "    <tr>\n",
       "      <th>72</th>\n",
       "      <td>2020-09-01</td>\n",
       "      <td>223</td>\n",
       "      <td>3</td>\n",
       "      <td>22</td>\n",
       "      <td>10</td>\n",
       "      <td>3</td>\n",
       "      <td>19</td>\n",
       "      <td>2</td>\n",
       "      <td>3</td>\n",
       "      <td>0</td>\n",
       "      <td>...</td>\n",
       "      <td>8</td>\n",
       "      <td>3</td>\n",
       "      <td>6</td>\n",
       "      <td>272.0</td>\n",
       "      <td>5.0</td>\n",
       "      <td>27.0</td>\n",
       "      <td>353.0</td>\n",
       "      <td>267.0</td>\n",
       "      <td>212.0</td>\n",
       "      <td>5.0</td>\n",
       "    </tr>\n",
       "  </tbody>\n",
       "</table>\n",
       "<p>12 rows × 34 columns</p>\n",
       "</div>"
      ],
      "text/plain": [
       "         Date  Qty  Pharmacy 1  Pharmacy 2  Pharmacy 3  Pharmacy 4  \\\n",
       "11 2020-10-01  322           7          32           6           5   \n",
       "18 2020-11-01  195           1          18           2           1   \n",
       "25 2020-12-01  271           3          16           5           6   \n",
       "31 2021-02-01   54           0           7           1           0   \n",
       "38 2021-03-01  136           0          15           9           0   \n",
       "44 2020-04-01   14           0           2           0           0   \n",
       "45 2021-04-01  310           1          30           6           4   \n",
       "49 2020-05-01   39           0           5           4           0   \n",
       "55 2020-06-01   65           1           5           2           0   \n",
       "61 2020-07-01  217           1          26           4           3   \n",
       "67 2020-08-01  267           1          30           4           5   \n",
       "72 2020-09-01  223           3          22          10           3   \n",
       "\n",
       "    Pharmacy 5  Pharmacy 6  Pharmacy 7  Pharmacy 8  ...  Scotland, Newcastle  \\\n",
       "11          18           5           2           0  ...                   12   \n",
       "18          13           0           1           0  ...                    3   \n",
       "25          17           2           5           0  ...                   11   \n",
       "31           5           0           0           0  ...                    0   \n",
       "38           8           0           1           0  ...                    1   \n",
       "44           6           0           0           0  ...                    1   \n",
       "45          20           4           3           1  ...                   16   \n",
       "49           0           0           0           0  ...                    0   \n",
       "55           8           1           0           0  ...                    0   \n",
       "61          18           4           4           0  ...                    8   \n",
       "67          27           3           2           0  ...                    8   \n",
       "72          19           2           3           0  ...                    8   \n",
       "\n",
       "    SouthEast  SouthWest  Qty_lag_1  Qty_lag_2  Qty_lag_3  Qty_lag_4  \\\n",
       "11          9          9      369.0      179.0        6.0       28.0   \n",
       "18          5          5      405.0      151.0       13.0       10.0   \n",
       "25          4          8      303.0      104.0        1.0        5.0   \n",
       "31          0          4      281.0      268.0        4.0       11.0   \n",
       "38         11          4      199.0      400.0        7.0        5.0   \n",
       "44          1          2      320.0       14.0        4.0       24.0   \n",
       "45         10          9       14.0      320.0       14.0        4.0   \n",
       "49          0          1      407.0        1.0       19.0      310.0   \n",
       "55          4          2      342.0        2.0        1.0       22.0   \n",
       "61          4          6      245.0        2.0        6.0       14.0   \n",
       "67          8         12      212.0        5.0       10.0        1.0   \n",
       "72          3          6      272.0        5.0       27.0      353.0   \n",
       "\n",
       "    Qty_lag_5  Qty_lag_6  Qty_lag_7  \n",
       "11      225.0       51.0      236.0  \n",
       "18        7.0      319.0      322.0  \n",
       "25        5.0      367.0      195.0  \n",
       "31      205.0      271.0      303.0  \n",
       "38       16.0      327.0       54.0  \n",
       "44      354.0      136.0      199.0  \n",
       "45       24.0      354.0      136.0  \n",
       "49       14.0      320.0       14.0  \n",
       "55      372.0       39.0      407.0  \n",
       "61      464.0       65.0      342.0  \n",
       "67      272.0      217.0      245.0  \n",
       "72      267.0      212.0        5.0  \n",
       "\n",
       "[12 rows x 34 columns]"
      ]
     },
     "execution_count": 4,
     "metadata": {},
     "output_type": "execute_result"
    }
   ],
   "source": [
    "y"
   ]
  },
  {
   "cell_type": "code",
   "execution_count": 5,
   "metadata": {},
   "outputs": [],
   "source": [
    "# train an mlp classifier\n",
    "\n",
    "# model = RandomForestRegressor(n_estimators=100, max_depth=5)\n",
    "# model.fit(train_data.iloc[:, 2:], train_data['Qty'])\n",
    "\n",
    "activation = ['identity', 'logistic', 'tanh', 'relu']\n",
    "solver = ['lbfgs', 'sgd', 'adam']\n",
    "\n",
    "random_grid_mlpr = {\n",
    "    'activation' : activation,\n",
    "    'solver' : solver\n",
    "}\n",
    "\n",
    "# mlpr = MLPRegressor()\n",
    "# mlpr_random = RandomizedSearchCV(\n",
    "#     estimator=mlpr,\n",
    "#     param_distributions=random_grid_mlpr,\n",
    "#     n_iter=10,\n",
    "#     cv=5,\n",
    "#     verbose=5,\n",
    "#     random_state=0\n",
    "# )\n",
    "mlpr = MLPRegressor()\n",
    "mlpr_random = GridSearchCV(\n",
    "    estimator=mlpr,\n",
    "    param_grid=random_grid_mlpr,\n",
    "    cv=5,\n",
    "    verbose=5\n",
    ")"
   ]
  },
  {
   "cell_type": "code",
   "execution_count": 6,
   "metadata": {},
   "outputs": [
    {
     "name": "stdout",
     "output_type": "stream",
     "text": [
      "Fitting 5 folds for each of 12 candidates, totalling 60 fits\n"
     ]
    },
    {
     "name": "stderr",
     "output_type": "stream",
     "text": [
      "c:\\Users\\galea\\anaconda3\\lib\\site-packages\\sklearn\\neural_network\\_multilayer_perceptron.py:541: ConvergenceWarning: lbfgs failed to converge (status=1):\n",
      "STOP: TOTAL NO. of ITERATIONS REACHED LIMIT.\n",
      "\n",
      "Increase the number of iterations (max_iter) or scale the data as shown in:\n",
      "    https://scikit-learn.org/stable/modules/preprocessing.html\n",
      "  self.n_iter_ = _check_optimize_result(\"lbfgs\", opt_res, self.max_iter)\n"
     ]
    },
    {
     "name": "stdout",
     "output_type": "stream",
     "text": [
      "[CV 1/5] END .activation=identity, solver=lbfgs;, score=0.858 total time=   0.3s\n"
     ]
    },
    {
     "name": "stderr",
     "output_type": "stream",
     "text": [
      "c:\\Users\\galea\\anaconda3\\lib\\site-packages\\sklearn\\neural_network\\_multilayer_perceptron.py:541: ConvergenceWarning: lbfgs failed to converge (status=1):\n",
      "STOP: TOTAL NO. of ITERATIONS REACHED LIMIT.\n",
      "\n",
      "Increase the number of iterations (max_iter) or scale the data as shown in:\n",
      "    https://scikit-learn.org/stable/modules/preprocessing.html\n",
      "  self.n_iter_ = _check_optimize_result(\"lbfgs\", opt_res, self.max_iter)\n"
     ]
    },
    {
     "name": "stdout",
     "output_type": "stream",
     "text": [
      "[CV 2/5] END .activation=identity, solver=lbfgs;, score=0.931 total time=   0.3s\n"
     ]
    },
    {
     "name": "stderr",
     "output_type": "stream",
     "text": [
      "c:\\Users\\galea\\anaconda3\\lib\\site-packages\\sklearn\\neural_network\\_multilayer_perceptron.py:541: ConvergenceWarning: lbfgs failed to converge (status=1):\n",
      "STOP: TOTAL NO. of ITERATIONS REACHED LIMIT.\n",
      "\n",
      "Increase the number of iterations (max_iter) or scale the data as shown in:\n",
      "    https://scikit-learn.org/stable/modules/preprocessing.html\n",
      "  self.n_iter_ = _check_optimize_result(\"lbfgs\", opt_res, self.max_iter)\n",
      "c:\\Users\\galea\\anaconda3\\lib\\site-packages\\sklearn\\neural_network\\_multilayer_perceptron.py:541: ConvergenceWarning: lbfgs failed to converge (status=1):\n",
      "STOP: TOTAL NO. of ITERATIONS REACHED LIMIT.\n",
      "\n",
      "Increase the number of iterations (max_iter) or scale the data as shown in:\n",
      "    https://scikit-learn.org/stable/modules/preprocessing.html\n",
      "  self.n_iter_ = _check_optimize_result(\"lbfgs\", opt_res, self.max_iter)\n"
     ]
    },
    {
     "name": "stdout",
     "output_type": "stream",
     "text": [
      "[CV 3/5] END .activation=identity, solver=lbfgs;, score=0.978 total time=   0.1s\n",
      "[CV 4/5] END .activation=identity, solver=lbfgs;, score=0.896 total time=   0.1s\n"
     ]
    },
    {
     "name": "stderr",
     "output_type": "stream",
     "text": [
      "c:\\Users\\galea\\anaconda3\\lib\\site-packages\\sklearn\\neural_network\\_multilayer_perceptron.py:541: ConvergenceWarning: lbfgs failed to converge (status=1):\n",
      "STOP: TOTAL NO. of ITERATIONS REACHED LIMIT.\n",
      "\n",
      "Increase the number of iterations (max_iter) or scale the data as shown in:\n",
      "    https://scikit-learn.org/stable/modules/preprocessing.html\n",
      "  self.n_iter_ = _check_optimize_result(\"lbfgs\", opt_res, self.max_iter)\n",
      "c:\\Users\\galea\\anaconda3\\lib\\site-packages\\sklearn\\neural_network\\_base.py:174: RuntimeWarning: overflow encountered in square\n",
      "  return ((y_true - y_pred) ** 2).mean() / 2\n",
      "c:\\Users\\galea\\anaconda3\\lib\\site-packages\\sklearn\\utils\\extmath.py:189: RuntimeWarning: overflow encountered in matmul\n",
      "  ret = a @ b\n",
      "c:\\Users\\galea\\anaconda3\\lib\\site-packages\\sklearn\\utils\\extmath.py:189: RuntimeWarning: invalid value encountered in matmul\n",
      "  ret = a @ b\n",
      "c:\\Users\\galea\\anaconda3\\lib\\site-packages\\sklearn\\neural_network\\_multilayer_perceptron.py:684: ConvergenceWarning: Stochastic Optimizer: Maximum iterations (200) reached and the optimization hasn't converged yet.\n",
      "  warnings.warn(\n",
      "c:\\Users\\galea\\anaconda3\\lib\\site-packages\\sklearn\\utils\\extmath.py:189: RuntimeWarning: overflow encountered in matmul\n",
      "  ret = a @ b\n",
      "c:\\Users\\galea\\anaconda3\\lib\\site-packages\\sklearn\\utils\\extmath.py:189: RuntimeWarning: invalid value encountered in matmul\n",
      "  ret = a @ b\n",
      "c:\\Users\\galea\\anaconda3\\lib\\site-packages\\sklearn\\neural_network\\_multilayer_perceptron.py:684: ConvergenceWarning: Stochastic Optimizer: Maximum iterations (200) reached and the optimization hasn't converged yet.\n",
      "  warnings.warn(\n",
      "c:\\Users\\galea\\anaconda3\\lib\\site-packages\\sklearn\\neural_network\\_base.py:174: RuntimeWarning: overflow encountered in square\n",
      "  return ((y_true - y_pred) ** 2).mean() / 2\n",
      "c:\\Users\\galea\\anaconda3\\lib\\site-packages\\numpy\\core\\_methods.py:180: RuntimeWarning: overflow encountered in reduce\n",
      "  ret = umr_sum(arr, axis, dtype, out, keepdims, where=where)\n",
      "c:\\Users\\galea\\anaconda3\\lib\\site-packages\\sklearn\\utils\\extmath.py:189: RuntimeWarning: overflow encountered in matmul\n",
      "  ret = a @ b\n",
      "c:\\Users\\galea\\anaconda3\\lib\\site-packages\\sklearn\\utils\\extmath.py:189: RuntimeWarning: invalid value encountered in matmul\n",
      "  ret = a @ b\n"
     ]
    },
    {
     "name": "stdout",
     "output_type": "stream",
     "text": [
      "[CV 5/5] END .activation=identity, solver=lbfgs;, score=0.828 total time=   0.1s\n",
      "[CV 1/5] END .....activation=identity, solver=sgd;, score=nan total time=   0.0s\n",
      "[CV 2/5] END .....activation=identity, solver=sgd;, score=nan total time=   0.0s\n"
     ]
    },
    {
     "name": "stderr",
     "output_type": "stream",
     "text": [
      "c:\\Users\\galea\\anaconda3\\lib\\site-packages\\sklearn\\neural_network\\_multilayer_perceptron.py:684: ConvergenceWarning: Stochastic Optimizer: Maximum iterations (200) reached and the optimization hasn't converged yet.\n",
      "  warnings.warn(\n",
      "c:\\Users\\galea\\anaconda3\\lib\\site-packages\\sklearn\\utils\\extmath.py:189: RuntimeWarning: overflow encountered in matmul\n",
      "  ret = a @ b\n",
      "c:\\Users\\galea\\anaconda3\\lib\\site-packages\\sklearn\\utils\\extmath.py:189: RuntimeWarning: invalid value encountered in matmul\n",
      "  ret = a @ b\n",
      "c:\\Users\\galea\\anaconda3\\lib\\site-packages\\sklearn\\neural_network\\_multilayer_perceptron.py:684: ConvergenceWarning: Stochastic Optimizer: Maximum iterations (200) reached and the optimization hasn't converged yet.\n",
      "  warnings.warn(\n",
      "c:\\Users\\galea\\anaconda3\\lib\\site-packages\\sklearn\\utils\\extmath.py:189: RuntimeWarning: overflow encountered in matmul\n",
      "  ret = a @ b\n",
      "c:\\Users\\galea\\anaconda3\\lib\\site-packages\\sklearn\\utils\\extmath.py:189: RuntimeWarning: invalid value encountered in matmul\n",
      "  ret = a @ b\n",
      "c:\\Users\\galea\\anaconda3\\lib\\site-packages\\sklearn\\neural_network\\_multilayer_perceptron.py:684: ConvergenceWarning: Stochastic Optimizer: Maximum iterations (200) reached and the optimization hasn't converged yet.\n",
      "  warnings.warn(\n"
     ]
    },
    {
     "name": "stdout",
     "output_type": "stream",
     "text": [
      "[CV 3/5] END .....activation=identity, solver=sgd;, score=nan total time=   0.0s\n",
      "[CV 4/5] END .....activation=identity, solver=sgd;, score=nan total time=   0.0s\n",
      "[CV 5/5] END .....activation=identity, solver=sgd;, score=nan total time=   0.0s\n"
     ]
    },
    {
     "name": "stderr",
     "output_type": "stream",
     "text": [
      "c:\\Users\\galea\\anaconda3\\lib\\site-packages\\sklearn\\neural_network\\_multilayer_perceptron.py:684: ConvergenceWarning: Stochastic Optimizer: Maximum iterations (200) reached and the optimization hasn't converged yet.\n",
      "  warnings.warn(\n",
      "c:\\Users\\galea\\anaconda3\\lib\\site-packages\\sklearn\\neural_network\\_multilayer_perceptron.py:684: ConvergenceWarning: Stochastic Optimizer: Maximum iterations (200) reached and the optimization hasn't converged yet.\n",
      "  warnings.warn(\n"
     ]
    },
    {
     "name": "stdout",
     "output_type": "stream",
     "text": [
      "[CV 1/5] END ..activation=identity, solver=adam;, score=0.940 total time=   0.0s\n",
      "[CV 2/5] END ..activation=identity, solver=adam;, score=0.987 total time=   0.0s\n"
     ]
    },
    {
     "name": "stderr",
     "output_type": "stream",
     "text": [
      "c:\\Users\\galea\\anaconda3\\lib\\site-packages\\sklearn\\neural_network\\_multilayer_perceptron.py:684: ConvergenceWarning: Stochastic Optimizer: Maximum iterations (200) reached and the optimization hasn't converged yet.\n",
      "  warnings.warn(\n",
      "c:\\Users\\galea\\anaconda3\\lib\\site-packages\\sklearn\\neural_network\\_multilayer_perceptron.py:684: ConvergenceWarning: Stochastic Optimizer: Maximum iterations (200) reached and the optimization hasn't converged yet.\n",
      "  warnings.warn(\n"
     ]
    },
    {
     "name": "stdout",
     "output_type": "stream",
     "text": [
      "[CV 3/5] END ..activation=identity, solver=adam;, score=0.945 total time=   0.1s\n",
      "[CV 4/5] END ..activation=identity, solver=adam;, score=0.928 total time=   0.1s\n",
      "[CV 5/5] END ..activation=identity, solver=adam;, score=0.873 total time=   0.1s\n"
     ]
    },
    {
     "name": "stderr",
     "output_type": "stream",
     "text": [
      "c:\\Users\\galea\\anaconda3\\lib\\site-packages\\sklearn\\neural_network\\_multilayer_perceptron.py:684: ConvergenceWarning: Stochastic Optimizer: Maximum iterations (200) reached and the optimization hasn't converged yet.\n",
      "  warnings.warn(\n",
      "c:\\Users\\galea\\anaconda3\\lib\\site-packages\\sklearn\\neural_network\\_multilayer_perceptron.py:541: ConvergenceWarning: lbfgs failed to converge (status=1):\n",
      "STOP: TOTAL NO. of ITERATIONS REACHED LIMIT.\n",
      "\n",
      "Increase the number of iterations (max_iter) or scale the data as shown in:\n",
      "    https://scikit-learn.org/stable/modules/preprocessing.html\n",
      "  self.n_iter_ = _check_optimize_result(\"lbfgs\", opt_res, self.max_iter)\n"
     ]
    },
    {
     "name": "stdout",
     "output_type": "stream",
     "text": [
      "[CV 1/5] END .activation=logistic, solver=lbfgs;, score=0.778 total time=   0.3s\n"
     ]
    },
    {
     "name": "stderr",
     "output_type": "stream",
     "text": [
      "c:\\Users\\galea\\anaconda3\\lib\\site-packages\\sklearn\\neural_network\\_multilayer_perceptron.py:541: ConvergenceWarning: lbfgs failed to converge (status=1):\n",
      "STOP: TOTAL NO. of ITERATIONS REACHED LIMIT.\n",
      "\n",
      "Increase the number of iterations (max_iter) or scale the data as shown in:\n",
      "    https://scikit-learn.org/stable/modules/preprocessing.html\n",
      "  self.n_iter_ = _check_optimize_result(\"lbfgs\", opt_res, self.max_iter)\n"
     ]
    },
    {
     "name": "stdout",
     "output_type": "stream",
     "text": [
      "[CV 2/5] END .activation=logistic, solver=lbfgs;, score=0.442 total time=   0.4s\n"
     ]
    },
    {
     "name": "stderr",
     "output_type": "stream",
     "text": [
      "c:\\Users\\galea\\anaconda3\\lib\\site-packages\\sklearn\\neural_network\\_multilayer_perceptron.py:541: ConvergenceWarning: lbfgs failed to converge (status=1):\n",
      "STOP: TOTAL NO. of ITERATIONS REACHED LIMIT.\n",
      "\n",
      "Increase the number of iterations (max_iter) or scale the data as shown in:\n",
      "    https://scikit-learn.org/stable/modules/preprocessing.html\n",
      "  self.n_iter_ = _check_optimize_result(\"lbfgs\", opt_res, self.max_iter)\n"
     ]
    },
    {
     "name": "stdout",
     "output_type": "stream",
     "text": [
      "[CV 3/5] END .activation=logistic, solver=lbfgs;, score=0.874 total time=   0.4s\n"
     ]
    },
    {
     "name": "stderr",
     "output_type": "stream",
     "text": [
      "c:\\Users\\galea\\anaconda3\\lib\\site-packages\\sklearn\\neural_network\\_multilayer_perceptron.py:541: ConvergenceWarning: lbfgs failed to converge (status=1):\n",
      "STOP: TOTAL NO. of ITERATIONS REACHED LIMIT.\n",
      "\n",
      "Increase the number of iterations (max_iter) or scale the data as shown in:\n",
      "    https://scikit-learn.org/stable/modules/preprocessing.html\n",
      "  self.n_iter_ = _check_optimize_result(\"lbfgs\", opt_res, self.max_iter)\n"
     ]
    },
    {
     "name": "stdout",
     "output_type": "stream",
     "text": [
      "[CV 4/5] END activation=logistic, solver=lbfgs;, score=-0.282 total time=   0.4s\n"
     ]
    },
    {
     "name": "stderr",
     "output_type": "stream",
     "text": [
      "c:\\Users\\galea\\anaconda3\\lib\\site-packages\\sklearn\\neural_network\\_multilayer_perceptron.py:541: ConvergenceWarning: lbfgs failed to converge (status=1):\n",
      "STOP: TOTAL NO. of ITERATIONS REACHED LIMIT.\n",
      "\n",
      "Increase the number of iterations (max_iter) or scale the data as shown in:\n",
      "    https://scikit-learn.org/stable/modules/preprocessing.html\n",
      "  self.n_iter_ = _check_optimize_result(\"lbfgs\", opt_res, self.max_iter)\n",
      "c:\\Users\\galea\\anaconda3\\lib\\site-packages\\sklearn\\neural_network\\_multilayer_perceptron.py:684: ConvergenceWarning: Stochastic Optimizer: Maximum iterations (200) reached and the optimization hasn't converged yet.\n",
      "  warnings.warn(\n"
     ]
    },
    {
     "name": "stdout",
     "output_type": "stream",
     "text": [
      "[CV 5/5] END .activation=logistic, solver=lbfgs;, score=0.748 total time=   0.3s\n",
      "[CV 1/5] END ...activation=logistic, solver=sgd;, score=0.660 total time=   0.1s\n"
     ]
    },
    {
     "name": "stderr",
     "output_type": "stream",
     "text": [
      "c:\\Users\\galea\\anaconda3\\lib\\site-packages\\sklearn\\neural_network\\_multilayer_perceptron.py:684: ConvergenceWarning: Stochastic Optimizer: Maximum iterations (200) reached and the optimization hasn't converged yet.\n",
      "  warnings.warn(\n"
     ]
    },
    {
     "name": "stdout",
     "output_type": "stream",
     "text": [
      "[CV 2/5] END ...activation=logistic, solver=sgd;, score=0.589 total time=   0.1s\n"
     ]
    },
    {
     "name": "stderr",
     "output_type": "stream",
     "text": [
      "c:\\Users\\galea\\anaconda3\\lib\\site-packages\\sklearn\\neural_network\\_multilayer_perceptron.py:684: ConvergenceWarning: Stochastic Optimizer: Maximum iterations (200) reached and the optimization hasn't converged yet.\n",
      "  warnings.warn(\n"
     ]
    },
    {
     "name": "stdout",
     "output_type": "stream",
     "text": [
      "[CV 3/5] END ...activation=logistic, solver=sgd;, score=0.325 total time=   0.2s\n",
      "[CV 4/5] END ...activation=logistic, solver=sgd;, score=0.290 total time=   0.0s\n"
     ]
    },
    {
     "name": "stderr",
     "output_type": "stream",
     "text": [
      "c:\\Users\\galea\\anaconda3\\lib\\site-packages\\sklearn\\neural_network\\_multilayer_perceptron.py:684: ConvergenceWarning: Stochastic Optimizer: Maximum iterations (200) reached and the optimization hasn't converged yet.\n",
      "  warnings.warn(\n"
     ]
    },
    {
     "name": "stdout",
     "output_type": "stream",
     "text": [
      "[CV 5/5] END ...activation=logistic, solver=sgd;, score=0.382 total time=   0.3s\n"
     ]
    },
    {
     "name": "stderr",
     "output_type": "stream",
     "text": [
      "c:\\Users\\galea\\anaconda3\\lib\\site-packages\\sklearn\\neural_network\\_multilayer_perceptron.py:684: ConvergenceWarning: Stochastic Optimizer: Maximum iterations (200) reached and the optimization hasn't converged yet.\n",
      "  warnings.warn(\n",
      "c:\\Users\\galea\\anaconda3\\lib\\site-packages\\sklearn\\neural_network\\_multilayer_perceptron.py:684: ConvergenceWarning: Stochastic Optimizer: Maximum iterations (200) reached and the optimization hasn't converged yet.\n",
      "  warnings.warn(\n"
     ]
    },
    {
     "name": "stdout",
     "output_type": "stream",
     "text": [
      "[CV 1/5] END .activation=logistic, solver=adam;, score=-0.572 total time=   0.3s\n",
      "[CV 2/5] END .activation=logistic, solver=adam;, score=-0.526 total time=   0.0s\n"
     ]
    },
    {
     "name": "stderr",
     "output_type": "stream",
     "text": [
      "c:\\Users\\galea\\anaconda3\\lib\\site-packages\\sklearn\\neural_network\\_multilayer_perceptron.py:684: ConvergenceWarning: Stochastic Optimizer: Maximum iterations (200) reached and the optimization hasn't converged yet.\n",
      "  warnings.warn(\n",
      "c:\\Users\\galea\\anaconda3\\lib\\site-packages\\sklearn\\neural_network\\_multilayer_perceptron.py:684: ConvergenceWarning: Stochastic Optimizer: Maximum iterations (200) reached and the optimization hasn't converged yet.\n",
      "  warnings.warn(\n"
     ]
    },
    {
     "name": "stdout",
     "output_type": "stream",
     "text": [
      "[CV 3/5] END .activation=logistic, solver=adam;, score=-0.419 total time=   0.2s\n",
      "[CV 4/5] END .activation=logistic, solver=adam;, score=-0.234 total time=   0.1s\n"
     ]
    },
    {
     "name": "stderr",
     "output_type": "stream",
     "text": [
      "c:\\Users\\galea\\anaconda3\\lib\\site-packages\\sklearn\\neural_network\\_multilayer_perceptron.py:684: ConvergenceWarning: Stochastic Optimizer: Maximum iterations (200) reached and the optimization hasn't converged yet.\n",
      "  warnings.warn(\n"
     ]
    },
    {
     "name": "stdout",
     "output_type": "stream",
     "text": [
      "[CV 5/5] END .activation=logistic, solver=adam;, score=-0.367 total time=   0.0s\n"
     ]
    },
    {
     "name": "stderr",
     "output_type": "stream",
     "text": [
      "c:\\Users\\galea\\anaconda3\\lib\\site-packages\\sklearn\\neural_network\\_multilayer_perceptron.py:541: ConvergenceWarning: lbfgs failed to converge (status=1):\n",
      "STOP: TOTAL NO. of ITERATIONS REACHED LIMIT.\n",
      "\n",
      "Increase the number of iterations (max_iter) or scale the data as shown in:\n",
      "    https://scikit-learn.org/stable/modules/preprocessing.html\n",
      "  self.n_iter_ = _check_optimize_result(\"lbfgs\", opt_res, self.max_iter)\n"
     ]
    },
    {
     "name": "stdout",
     "output_type": "stream",
     "text": [
      "[CV 1/5] END .....activation=tanh, solver=lbfgs;, score=0.759 total time=   0.3s\n"
     ]
    },
    {
     "name": "stderr",
     "output_type": "stream",
     "text": [
      "c:\\Users\\galea\\anaconda3\\lib\\site-packages\\sklearn\\neural_network\\_multilayer_perceptron.py:541: ConvergenceWarning: lbfgs failed to converge (status=1):\n",
      "STOP: TOTAL NO. of ITERATIONS REACHED LIMIT.\n",
      "\n",
      "Increase the number of iterations (max_iter) or scale the data as shown in:\n",
      "    https://scikit-learn.org/stable/modules/preprocessing.html\n",
      "  self.n_iter_ = _check_optimize_result(\"lbfgs\", opt_res, self.max_iter)\n"
     ]
    },
    {
     "name": "stdout",
     "output_type": "stream",
     "text": [
      "[CV 2/5] END .....activation=tanh, solver=lbfgs;, score=0.456 total time=   0.3s\n"
     ]
    },
    {
     "name": "stderr",
     "output_type": "stream",
     "text": [
      "c:\\Users\\galea\\anaconda3\\lib\\site-packages\\sklearn\\neural_network\\_multilayer_perceptron.py:541: ConvergenceWarning: lbfgs failed to converge (status=1):\n",
      "STOP: TOTAL NO. of ITERATIONS REACHED LIMIT.\n",
      "\n",
      "Increase the number of iterations (max_iter) or scale the data as shown in:\n",
      "    https://scikit-learn.org/stable/modules/preprocessing.html\n",
      "  self.n_iter_ = _check_optimize_result(\"lbfgs\", opt_res, self.max_iter)\n"
     ]
    },
    {
     "name": "stdout",
     "output_type": "stream",
     "text": [
      "[CV 3/5] END .....activation=tanh, solver=lbfgs;, score=0.712 total time=   0.2s\n"
     ]
    },
    {
     "name": "stderr",
     "output_type": "stream",
     "text": [
      "c:\\Users\\galea\\anaconda3\\lib\\site-packages\\sklearn\\neural_network\\_multilayer_perceptron.py:541: ConvergenceWarning: lbfgs failed to converge (status=1):\n",
      "STOP: TOTAL NO. of ITERATIONS REACHED LIMIT.\n",
      "\n",
      "Increase the number of iterations (max_iter) or scale the data as shown in:\n",
      "    https://scikit-learn.org/stable/modules/preprocessing.html\n",
      "  self.n_iter_ = _check_optimize_result(\"lbfgs\", opt_res, self.max_iter)\n"
     ]
    },
    {
     "name": "stdout",
     "output_type": "stream",
     "text": [
      "[CV 4/5] END .....activation=tanh, solver=lbfgs;, score=0.082 total time=   0.3s\n"
     ]
    },
    {
     "name": "stderr",
     "output_type": "stream",
     "text": [
      "c:\\Users\\galea\\anaconda3\\lib\\site-packages\\sklearn\\neural_network\\_multilayer_perceptron.py:541: ConvergenceWarning: lbfgs failed to converge (status=1):\n",
      "STOP: TOTAL NO. of ITERATIONS REACHED LIMIT.\n",
      "\n",
      "Increase the number of iterations (max_iter) or scale the data as shown in:\n",
      "    https://scikit-learn.org/stable/modules/preprocessing.html\n",
      "  self.n_iter_ = _check_optimize_result(\"lbfgs\", opt_res, self.max_iter)\n"
     ]
    },
    {
     "name": "stdout",
     "output_type": "stream",
     "text": [
      "[CV 5/5] END .....activation=tanh, solver=lbfgs;, score=0.357 total time=   0.3s\n"
     ]
    },
    {
     "name": "stderr",
     "output_type": "stream",
     "text": [
      "c:\\Users\\galea\\anaconda3\\lib\\site-packages\\sklearn\\neural_network\\_multilayer_perceptron.py:684: ConvergenceWarning: Stochastic Optimizer: Maximum iterations (200) reached and the optimization hasn't converged yet.\n",
      "  warnings.warn(\n"
     ]
    },
    {
     "name": "stdout",
     "output_type": "stream",
     "text": [
      "[CV 1/5] END .......activation=tanh, solver=sgd;, score=0.711 total time=   0.1s\n",
      "[CV 2/5] END .......activation=tanh, solver=sgd;, score=0.127 total time=   0.0s\n",
      "[CV 3/5] END .......activation=tanh, solver=sgd;, score=0.162 total time=   0.0s\n",
      "[CV 4/5] END .......activation=tanh, solver=sgd;, score=0.219 total time=   0.0s\n",
      "[CV 5/5] END .......activation=tanh, solver=sgd;, score=0.411 total time=   0.0s\n"
     ]
    },
    {
     "name": "stderr",
     "output_type": "stream",
     "text": [
      "c:\\Users\\galea\\anaconda3\\lib\\site-packages\\sklearn\\neural_network\\_multilayer_perceptron.py:684: ConvergenceWarning: Stochastic Optimizer: Maximum iterations (200) reached and the optimization hasn't converged yet.\n",
      "  warnings.warn(\n"
     ]
    },
    {
     "name": "stdout",
     "output_type": "stream",
     "text": [
      "[CV 1/5] END .....activation=tanh, solver=adam;, score=-0.545 total time=   0.2s\n"
     ]
    },
    {
     "name": "stderr",
     "output_type": "stream",
     "text": [
      "c:\\Users\\galea\\anaconda3\\lib\\site-packages\\sklearn\\neural_network\\_multilayer_perceptron.py:684: ConvergenceWarning: Stochastic Optimizer: Maximum iterations (200) reached and the optimization hasn't converged yet.\n",
      "  warnings.warn(\n"
     ]
    },
    {
     "name": "stdout",
     "output_type": "stream",
     "text": [
      "[CV 2/5] END .....activation=tanh, solver=adam;, score=-0.518 total time=   0.2s\n"
     ]
    },
    {
     "name": "stderr",
     "output_type": "stream",
     "text": [
      "c:\\Users\\galea\\anaconda3\\lib\\site-packages\\sklearn\\neural_network\\_multilayer_perceptron.py:684: ConvergenceWarning: Stochastic Optimizer: Maximum iterations (200) reached and the optimization hasn't converged yet.\n",
      "  warnings.warn(\n",
      "c:\\Users\\galea\\anaconda3\\lib\\site-packages\\sklearn\\neural_network\\_multilayer_perceptron.py:684: ConvergenceWarning: Stochastic Optimizer: Maximum iterations (200) reached and the optimization hasn't converged yet.\n",
      "  warnings.warn(\n"
     ]
    },
    {
     "name": "stdout",
     "output_type": "stream",
     "text": [
      "[CV 3/5] END .....activation=tanh, solver=adam;, score=-0.401 total time=   0.2s\n",
      "[CV 4/5] END .....activation=tanh, solver=adam;, score=-0.251 total time=   0.1s\n"
     ]
    },
    {
     "name": "stderr",
     "output_type": "stream",
     "text": [
      "c:\\Users\\galea\\anaconda3\\lib\\site-packages\\sklearn\\neural_network\\_multilayer_perceptron.py:684: ConvergenceWarning: Stochastic Optimizer: Maximum iterations (200) reached and the optimization hasn't converged yet.\n",
      "  warnings.warn(\n"
     ]
    },
    {
     "name": "stdout",
     "output_type": "stream",
     "text": [
      "[CV 5/5] END .....activation=tanh, solver=adam;, score=-0.421 total time=   0.1s\n"
     ]
    },
    {
     "name": "stderr",
     "output_type": "stream",
     "text": [
      "c:\\Users\\galea\\anaconda3\\lib\\site-packages\\sklearn\\neural_network\\_multilayer_perceptron.py:541: ConvergenceWarning: lbfgs failed to converge (status=1):\n",
      "STOP: TOTAL NO. of ITERATIONS REACHED LIMIT.\n",
      "\n",
      "Increase the number of iterations (max_iter) or scale the data as shown in:\n",
      "    https://scikit-learn.org/stable/modules/preprocessing.html\n",
      "  self.n_iter_ = _check_optimize_result(\"lbfgs\", opt_res, self.max_iter)\n"
     ]
    },
    {
     "name": "stdout",
     "output_type": "stream",
     "text": [
      "[CV 1/5] END .....activation=relu, solver=lbfgs;, score=0.968 total time=   0.3s\n"
     ]
    },
    {
     "name": "stderr",
     "output_type": "stream",
     "text": [
      "c:\\Users\\galea\\anaconda3\\lib\\site-packages\\sklearn\\neural_network\\_multilayer_perceptron.py:541: ConvergenceWarning: lbfgs failed to converge (status=1):\n",
      "STOP: TOTAL NO. of ITERATIONS REACHED LIMIT.\n",
      "\n",
      "Increase the number of iterations (max_iter) or scale the data as shown in:\n",
      "    https://scikit-learn.org/stable/modules/preprocessing.html\n",
      "  self.n_iter_ = _check_optimize_result(\"lbfgs\", opt_res, self.max_iter)\n"
     ]
    },
    {
     "name": "stdout",
     "output_type": "stream",
     "text": [
      "[CV 2/5] END .....activation=relu, solver=lbfgs;, score=0.954 total time=   0.2s\n"
     ]
    },
    {
     "name": "stderr",
     "output_type": "stream",
     "text": [
      "c:\\Users\\galea\\anaconda3\\lib\\site-packages\\sklearn\\neural_network\\_multilayer_perceptron.py:541: ConvergenceWarning: lbfgs failed to converge (status=1):\n",
      "STOP: TOTAL NO. of ITERATIONS REACHED LIMIT.\n",
      "\n",
      "Increase the number of iterations (max_iter) or scale the data as shown in:\n",
      "    https://scikit-learn.org/stable/modules/preprocessing.html\n",
      "  self.n_iter_ = _check_optimize_result(\"lbfgs\", opt_res, self.max_iter)\n"
     ]
    },
    {
     "name": "stdout",
     "output_type": "stream",
     "text": [
      "[CV 3/5] END .....activation=relu, solver=lbfgs;, score=0.961 total time=   0.2s\n"
     ]
    },
    {
     "name": "stderr",
     "output_type": "stream",
     "text": [
      "c:\\Users\\galea\\anaconda3\\lib\\site-packages\\sklearn\\neural_network\\_multilayer_perceptron.py:541: ConvergenceWarning: lbfgs failed to converge (status=1):\n",
      "STOP: TOTAL NO. of ITERATIONS REACHED LIMIT.\n",
      "\n",
      "Increase the number of iterations (max_iter) or scale the data as shown in:\n",
      "    https://scikit-learn.org/stable/modules/preprocessing.html\n",
      "  self.n_iter_ = _check_optimize_result(\"lbfgs\", opt_res, self.max_iter)\n",
      "c:\\Users\\galea\\anaconda3\\lib\\site-packages\\sklearn\\neural_network\\_multilayer_perceptron.py:541: ConvergenceWarning: lbfgs failed to converge (status=1):\n",
      "STOP: TOTAL NO. of ITERATIONS REACHED LIMIT.\n",
      "\n",
      "Increase the number of iterations (max_iter) or scale the data as shown in:\n",
      "    https://scikit-learn.org/stable/modules/preprocessing.html\n",
      "  self.n_iter_ = _check_optimize_result(\"lbfgs\", opt_res, self.max_iter)\n"
     ]
    },
    {
     "name": "stdout",
     "output_type": "stream",
     "text": [
      "[CV 4/5] END .....activation=relu, solver=lbfgs;, score=0.899 total time=   0.2s\n",
      "[CV 5/5] END .....activation=relu, solver=lbfgs;, score=0.896 total time=   0.1s\n",
      "[CV 1/5] END activation=relu, solver=sgd;, score=-3301497240526510.000 total time=   0.0s\n",
      "[CV 2/5] END activation=relu, solver=sgd;, score=-3117582340744357376.000 total time=   0.0s\n",
      "[CV 3/5] END activation=relu, solver=sgd;, score=-3284404043011283877553140436610384466862461531910569984.000 total time=   0.0s\n",
      "[CV 4/5] END activation=relu, solver=sgd;, score=-532672785911409205274962496061440.000 total time=   0.0s\n",
      "[CV 5/5] END activation=relu, solver=sgd;, score=-1092272759077714.000 total time=   0.0s\n"
     ]
    },
    {
     "name": "stderr",
     "output_type": "stream",
     "text": [
      "c:\\Users\\galea\\anaconda3\\lib\\site-packages\\sklearn\\neural_network\\_multilayer_perceptron.py:684: ConvergenceWarning: Stochastic Optimizer: Maximum iterations (200) reached and the optimization hasn't converged yet.\n",
      "  warnings.warn(\n"
     ]
    },
    {
     "name": "stdout",
     "output_type": "stream",
     "text": [
      "[CV 1/5] END ......activation=relu, solver=adam;, score=0.935 total time=   0.1s\n"
     ]
    },
    {
     "name": "stderr",
     "output_type": "stream",
     "text": [
      "c:\\Users\\galea\\anaconda3\\lib\\site-packages\\sklearn\\neural_network\\_multilayer_perceptron.py:684: ConvergenceWarning: Stochastic Optimizer: Maximum iterations (200) reached and the optimization hasn't converged yet.\n",
      "  warnings.warn(\n"
     ]
    },
    {
     "name": "stdout",
     "output_type": "stream",
     "text": [
      "[CV 2/5] END ......activation=relu, solver=adam;, score=0.958 total time=   0.2s\n"
     ]
    },
    {
     "name": "stderr",
     "output_type": "stream",
     "text": [
      "c:\\Users\\galea\\anaconda3\\lib\\site-packages\\sklearn\\neural_network\\_multilayer_perceptron.py:684: ConvergenceWarning: Stochastic Optimizer: Maximum iterations (200) reached and the optimization hasn't converged yet.\n",
      "  warnings.warn(\n",
      "c:\\Users\\galea\\anaconda3\\lib\\site-packages\\sklearn\\neural_network\\_multilayer_perceptron.py:684: ConvergenceWarning: Stochastic Optimizer: Maximum iterations (200) reached and the optimization hasn't converged yet.\n",
      "  warnings.warn(\n"
     ]
    },
    {
     "name": "stdout",
     "output_type": "stream",
     "text": [
      "[CV 3/5] END ......activation=relu, solver=adam;, score=0.868 total time=   0.1s\n",
      "[CV 4/5] END ......activation=relu, solver=adam;, score=0.852 total time=   0.1s\n"
     ]
    },
    {
     "name": "stderr",
     "output_type": "stream",
     "text": [
      "c:\\Users\\galea\\anaconda3\\lib\\site-packages\\sklearn\\neural_network\\_multilayer_perceptron.py:684: ConvergenceWarning: Stochastic Optimizer: Maximum iterations (200) reached and the optimization hasn't converged yet.\n",
      "  warnings.warn(\n",
      "c:\\Users\\galea\\anaconda3\\lib\\site-packages\\sklearn\\model_selection\\_validation.py:378: FitFailedWarning: \n",
      "5 fits failed out of a total of 60.\n",
      "The score on these train-test partitions for these parameters will be set to nan.\n",
      "If these failures are not expected, you can try to debug them by setting error_score='raise'.\n",
      "\n",
      "Below are more details about the failures:\n",
      "--------------------------------------------------------------------------------\n",
      "5 fits failed with the following error:\n",
      "Traceback (most recent call last):\n",
      "  File \"c:\\Users\\galea\\anaconda3\\lib\\site-packages\\sklearn\\model_selection\\_validation.py\", line 686, in _fit_and_score\n",
      "    estimator.fit(X_train, y_train, **fit_params)\n",
      "  File \"c:\\Users\\galea\\anaconda3\\lib\\site-packages\\sklearn\\neural_network\\_multilayer_perceptron.py\", line 747, in fit\n",
      "    return self._fit(X, y, incremental=False)\n",
      "  File \"c:\\Users\\galea\\anaconda3\\lib\\site-packages\\sklearn\\neural_network\\_multilayer_perceptron.py\", line 491, in _fit\n",
      "    raise ValueError(\n",
      "ValueError: Solver produced non-finite parameter weights. The input data may contain large values and need to be preprocessed.\n",
      "\n",
      "  warnings.warn(some_fits_failed_message, FitFailedWarning)\n",
      "c:\\Users\\galea\\anaconda3\\lib\\site-packages\\sklearn\\model_selection\\_search.py:952: UserWarning: One or more of the test scores are non-finite: [ 8.98209315e-01             nan  9.34642531e-01  5.11931476e-01\n",
      "  4.49429541e-01 -4.23464752e-01  4.73014994e-01  3.25855423e-01\n",
      " -4.27188606e-01  9.35539000e-01 -6.56880809e+53  9.05973515e-01]\n",
      "  warnings.warn(\n"
     ]
    },
    {
     "name": "stdout",
     "output_type": "stream",
     "text": [
      "[CV 5/5] END ......activation=relu, solver=adam;, score=0.918 total time=   0.0s\n"
     ]
    },
    {
     "name": "stderr",
     "output_type": "stream",
     "text": [
      "c:\\Users\\galea\\anaconda3\\lib\\site-packages\\sklearn\\neural_network\\_multilayer_perceptron.py:541: ConvergenceWarning: lbfgs failed to converge (status=1):\n",
      "STOP: TOTAL NO. of ITERATIONS REACHED LIMIT.\n",
      "\n",
      "Increase the number of iterations (max_iter) or scale the data as shown in:\n",
      "    https://scikit-learn.org/stable/modules/preprocessing.html\n",
      "  self.n_iter_ = _check_optimize_result(\"lbfgs\", opt_res, self.max_iter)\n"
     ]
    }
   ],
   "source": [
    "mlpr_random.fit(X_train.iloc[:, 2:], y_train['Qty'])\n",
    "\n",
    "\n",
    "# make predictions for the test data\n",
    "predictions = mlpr_random.predict(X_test.iloc[:, 2:])"
   ]
  },
  {
   "cell_type": "code",
   "execution_count": 7,
   "metadata": {},
   "outputs": [
    {
     "name": "stdout",
     "output_type": "stream",
     "text": [
      "RMSE: 110.94848435972742\n",
      "MSE: 12309.566181720678\n",
      "R^2 Score: -0.09705292803943233\n",
      "Explained Variance Score: 0.5024595029641941\n",
      "Max Error: 194.54304942918515\n",
      "[array(['2020-10-01T00:00:00.000000000', '2020-11-01T00:00:00.000000000',\n",
      "       '2020-12-01T00:00:00.000000000', '2021-02-01T00:00:00.000000000',\n",
      "       '2021-03-01T00:00:00.000000000', '2020-04-01T00:00:00.000000000',\n",
      "       '2021-04-01T00:00:00.000000000', '2020-05-01T00:00:00.000000000',\n",
      "       '2020-06-01T00:00:00.000000000', '2020-07-01T00:00:00.000000000',\n",
      "       '2020-08-01T00:00:00.000000000', '2020-09-01T00:00:00.000000000'],\n",
      "      dtype='datetime64[ns]'), array([322, 195, 271,  54, 136,  14, 310,  39,  65, 217, 267, 223],\n",
      "      dtype=int64), array([398.74023108, 367.60670627, 449.58435169, 156.09717649,\n",
      "       286.10086964,   1.54935994, 504.54304943,  92.10928702,\n",
      "        47.37826263, 210.44859826, 342.51537965, 240.53707334])]\n"
     ]
    }
   ],
   "source": [
    "# calculate the root mean squared error (RMSE) of the predictions\n",
    "rmse = ((predictions - y_test['Qty']) ** 2).mean() ** 0.5\n",
    "print('RMSE:', rmse)\n",
    "\n",
    "# calculate the mean squared error\n",
    "mse = mean_squared_error(y_test['Qty'], predictions)\n",
    "print('MSE:', mse)\n",
    "\n",
    "# calculate the r2 score\n",
    "r2_score = r2_score(y_test['Qty'], predictions)\n",
    "print('R^2 Score:', r2_score)\n",
    "\n",
    "# calculate explained variance score\n",
    "explained_variance_score = explained_variance_score(y_test['Qty'], predictions)\n",
    "print('Explained Variance Score:', explained_variance_score)\n",
    "\n",
    "# calculate max error\n",
    "max_error = max_error(y_test['Qty'], predictions)\n",
    "print('Max Error:', max_error)\n",
    "\n",
    "\n",
    "print([X_test['Date'].values, y_test['Qty'].values, predictions])"
   ]
  },
  {
   "cell_type": "code",
   "execution_count": 8,
   "metadata": {},
   "outputs": [
    {
     "data": {
      "image/png": "[encoded data removed]",
      "text/plain": [
       "<Figure size 640x480 with 1 Axes>"
      ]
     },
     "metadata": {},
     "output_type": "display_data"
    }
   ],
   "source": [
    "\n",
    "sales_data_lagged['predicted_quantity'] = pd.Series(predictions, index=y_test.index)\n",
    "sales_data_lagged= sales_data_lagged.sort_values(by=['Date'])\n",
    "\n",
    "# plot the actual and predicted quantities against date\n",
    "plt.plot(sales_data_lagged['Date'], sales_data_lagged['Qty'], label='Actual')\n",
    "plt.plot(sales_data_lagged['Date'], sales_data_lagged['predicted_quantity'], label='Predicted')\n",
    "plt.xlabel('Date')\n",
    "plt.ylabel('Qty')\n",
    "plt.title('Sales Data Forecasting')\n",
    "plt.legend()\n",
    "plt.show()"
   ]
  },
  {
   "cell_type": "code",
   "execution_count": 9,
   "metadata": {},
   "outputs": [
    {
     "data": {
      "text/plain": [
       "{'activation': 'relu', 'solver': 'lbfgs'}"
      ]
     },
     "execution_count": 9,
     "metadata": {},
     "output_type": "execute_result"
    }
   ],
   "source": [
    "mlpr_random.best_params_"
   ]
  },
  {
   "cell_type": "code",
   "execution_count": 10,
   "metadata": {},
   "outputs": [
    {
     "data": {
      "image/png": "[encoded data removed]",
      "text/plain": [
       "<Figure size 640x480 with 1 Axes>"
      ]
     },
     "metadata": {},
     "output_type": "display_data"
    }
   ],
   "source": [
    "matrix_data = np.column_stack((y_test['Qty'].values, predictions))\n",
    "\n",
    "# plot the matrix using seaborn's heatmap function\n",
    "sns.heatmap(matrix_data, annot=True, fmt='.1f', cmap='coolwarm', linewidths=.5, cbar=False)\n",
    "plt.xlabel('Actual')\n",
    "plt.ylabel('Predicted')\n",
    "plt.title(f'Actual vs. Predicted Sales Data (RMSE={rmse:.2f})')\n",
    "plt.show()"
   ]
  }
 ],
 "metadata": {
  "kernelspec": {
   "display_name": "base",
   "language": "python",
   "name": "python3"
  },
  "language_info": {
   "codemirror_mode": {
    "name": "ipython",
    "version": 3
   },
   "file_extension": ".py",
   "mimetype": "text/x-python",
   "name": "python",
   "nbconvert_exporter": "python",
   "pygments_lexer": "ipython3",
   "version": "3.10.9"
  },
  "orig_nbformat": 4
 },
 "nbformat": 4,
 "nbformat_minor": 2
}
