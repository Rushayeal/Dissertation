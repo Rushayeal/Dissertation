{
 "cells": [
  {
   "cell_type": "code",
   "execution_count": 98,
   "metadata": {},
   "outputs": [],
   "source": [
    "import pandas as pd"
   ]
  },
  {
   "cell_type": "code",
   "execution_count": 99,
   "metadata": {},
   "outputs": [],
   "source": [
    "df_sales = pd.read_csv('../Data/SalesData.csv', delimiter=',', header='infer', encoding='latin-1')"
   ]
  },
  {
   "cell_type": "code",
   "execution_count": 100,
   "metadata": {},
   "outputs": [
    {
     "data": {
      "text/html": [
       "<div>\n",
       "<style scoped>\n",
       "    .dataframe tbody tr th:only-of-type {\n",
       "        vertical-align: middle;\n",
       "    }\n",
       "\n",
       "    .dataframe tbody tr th {\n",
       "        vertical-align: top;\n",
       "    }\n",
       "\n",
       "    .dataframe thead th {\n",
       "        text-align: right;\n",
       "    }\n",
       "</style>\n",
       "<table border=\"1\" class=\"dataframe\">\n",
       "  <thead>\n",
       "    <tr style=\"text-align: right;\">\n",
       "      <th></th>\n",
       "      <th>Date</th>\n",
       "      <th>Month</th>\n",
       "      <th>Quarter</th>\n",
       "      <th>Year</th>\n",
       "      <th>Qty</th>\n",
       "      <th>Product</th>\n",
       "      <th>Category</th>\n",
       "      <th>Cust.Name</th>\n",
       "      <th>Comp.Name</th>\n",
       "      <th>Pharmacy</th>\n",
       "      <th>Area Code</th>\n",
       "      <th>Code</th>\n",
       "      <th>Location</th>\n",
       "    </tr>\n",
       "  </thead>\n",
       "  <tbody>\n",
       "    <tr>\n",
       "      <th>0</th>\n",
       "      <td>1-11-2015</td>\n",
       "      <td>11</td>\n",
       "      <td>Q4</td>\n",
       "      <td>2015</td>\n",
       "      <td>2</td>\n",
       "      <td>Injection 14</td>\n",
       "      <td>Skinbooster</td>\n",
       "      <td>Customer 1</td>\n",
       "      <td>Company 1</td>\n",
       "      <td>Pharmacy 1</td>\n",
       "      <td>NW3</td>\n",
       "      <td>NW</td>\n",
       "      <td>London</td>\n",
       "    </tr>\n",
       "    <tr>\n",
       "      <th>1</th>\n",
       "      <td>1-11-2015</td>\n",
       "      <td>11</td>\n",
       "      <td>Q4</td>\n",
       "      <td>2015</td>\n",
       "      <td>1</td>\n",
       "      <td>Injection 14</td>\n",
       "      <td>Skinbooster</td>\n",
       "      <td>Customer 1</td>\n",
       "      <td>Company 1</td>\n",
       "      <td>Pharmacy 1</td>\n",
       "      <td>NW3</td>\n",
       "      <td>NW</td>\n",
       "      <td>London</td>\n",
       "    </tr>\n",
       "    <tr>\n",
       "      <th>2</th>\n",
       "      <td>1-11-2015</td>\n",
       "      <td>11</td>\n",
       "      <td>Q4</td>\n",
       "      <td>2015</td>\n",
       "      <td>1</td>\n",
       "      <td>Injection 1</td>\n",
       "      <td>Dermafiller</td>\n",
       "      <td>NaN</td>\n",
       "      <td>NaN</td>\n",
       "      <td>Pharmacy 2</td>\n",
       "      <td>HA8</td>\n",
       "      <td>HA</td>\n",
       "      <td>Outside London M25</td>\n",
       "    </tr>\n",
       "    <tr>\n",
       "      <th>3</th>\n",
       "      <td>1-11-2015</td>\n",
       "      <td>11</td>\n",
       "      <td>Q4</td>\n",
       "      <td>2015</td>\n",
       "      <td>1</td>\n",
       "      <td>Injection 2</td>\n",
       "      <td>Dermafiller</td>\n",
       "      <td>NaN</td>\n",
       "      <td>NaN</td>\n",
       "      <td>Pharmacy 2</td>\n",
       "      <td>HA8</td>\n",
       "      <td>HA</td>\n",
       "      <td>Outside London M25</td>\n",
       "    </tr>\n",
       "    <tr>\n",
       "      <th>4</th>\n",
       "      <td>1-11-2015</td>\n",
       "      <td>11</td>\n",
       "      <td>Q4</td>\n",
       "      <td>2015</td>\n",
       "      <td>4</td>\n",
       "      <td>Injection 14</td>\n",
       "      <td>Skinbooster</td>\n",
       "      <td>NaN</td>\n",
       "      <td>NaN</td>\n",
       "      <td>Pharmacy 2</td>\n",
       "      <td>PE21</td>\n",
       "      <td>PE</td>\n",
       "      <td>NorthEast, Midlands</td>\n",
       "    </tr>\n",
       "  </tbody>\n",
       "</table>\n",
       "</div>"
      ],
      "text/plain": [
       "        Date  Month Quarter  Year  Qty       Product     Category   Cust.Name  \\\n",
       "0  1-11-2015     11      Q4  2015    2  Injection 14  Skinbooster  Customer 1   \n",
       "1  1-11-2015     11      Q4  2015    1  Injection 14  Skinbooster  Customer 1   \n",
       "2  1-11-2015     11      Q4  2015    1   Injection 1  Dermafiller         NaN   \n",
       "3  1-11-2015     11      Q4  2015    1   Injection 2  Dermafiller         NaN   \n",
       "4  1-11-2015     11      Q4  2015    4  Injection 14  Skinbooster         NaN   \n",
       "\n",
       "   Comp.Name    Pharmacy Area Code Code             Location  \n",
       "0  Company 1  Pharmacy 1       NW3   NW               London  \n",
       "1  Company 1  Pharmacy 1       NW3   NW               London  \n",
       "2        NaN  Pharmacy 2       HA8   HA   Outside London M25  \n",
       "3        NaN  Pharmacy 2       HA8   HA   Outside London M25  \n",
       "4        NaN  Pharmacy 2      PE21   PE  NorthEast, Midlands  "
      ]
     },
     "execution_count": 100,
     "metadata": {},
     "output_type": "execute_result"
    }
   ],
   "source": [
    "df_sales.head(5)"
   ]
  },
  {
   "attachments": {},
   "cell_type": "markdown",
   "metadata": {},
   "source": [
    "Changing the Quarter column from Q1 to 1, Q2 to 2, Q3 to 3 and Q4 to 4"
   ]
  },
  {
   "cell_type": "code",
   "execution_count": 101,
   "metadata": {},
   "outputs": [],
   "source": [
    "df_sales['Quarter'].replace(to_replace = \"Q1\", \n",
    "                 value = 1, \n",
    "                  inplace = True)\n",
    "df_sales['Quarter'].replace(to_replace = \"Q2\", \n",
    "                 value = 2, \n",
    "                  inplace = True)\n",
    "df_sales['Quarter'].replace(to_replace = \"Q3\", \n",
    "                 value = 3, \n",
    "                  inplace = True)\n",
    "df_sales['Quarter'].replace(to_replace = \"Q4\", \n",
    "                 value = 4, \n",
    "                  inplace = True)"
   ]
  },
  {
   "cell_type": "code",
   "execution_count": 102,
   "metadata": {},
   "outputs": [
    {
     "name": "stdout",
     "output_type": "stream",
     "text": [
      "[4 1 2 3]\n"
     ]
    }
   ],
   "source": [
    "print(df_sales['Quarter'].unique())"
   ]
  },
  {
   "attachments": {},
   "cell_type": "markdown",
   "metadata": {},
   "source": [
    "Drop columns: Cust.Name, Comp.Name, Area Code and Code"
   ]
  },
  {
   "cell_type": "code",
   "execution_count": 103,
   "metadata": {},
   "outputs": [],
   "source": [
    "df_sales.drop('Cust.Name', axis=1, inplace=True)\n",
    "df_sales.drop('Comp.Name', axis=1, inplace=True)\n",
    "df_sales.drop('Area Code', axis=1, inplace=True)\n",
    "df_sales.drop('Code', axis=1, inplace=True)"
   ]
  },
  {
   "cell_type": "code",
   "execution_count": 104,
   "metadata": {},
   "outputs": [
    {
     "data": {
      "text/html": [
       "<div>\n",
       "<style scoped>\n",
       "    .dataframe tbody tr th:only-of-type {\n",
       "        vertical-align: middle;\n",
       "    }\n",
       "\n",
       "    .dataframe tbody tr th {\n",
       "        vertical-align: top;\n",
       "    }\n",
       "\n",
       "    .dataframe thead th {\n",
       "        text-align: right;\n",
       "    }\n",
       "</style>\n",
       "<table border=\"1\" class=\"dataframe\">\n",
       "  <thead>\n",
       "    <tr style=\"text-align: right;\">\n",
       "      <th></th>\n",
       "      <th>Date</th>\n",
       "      <th>Month</th>\n",
       "      <th>Quarter</th>\n",
       "      <th>Year</th>\n",
       "      <th>Qty</th>\n",
       "      <th>Product</th>\n",
       "      <th>Category</th>\n",
       "      <th>Pharmacy</th>\n",
       "      <th>Location</th>\n",
       "    </tr>\n",
       "  </thead>\n",
       "  <tbody>\n",
       "    <tr>\n",
       "      <th>0</th>\n",
       "      <td>1-11-2015</td>\n",
       "      <td>11</td>\n",
       "      <td>4</td>\n",
       "      <td>2015</td>\n",
       "      <td>2</td>\n",
       "      <td>Injection 14</td>\n",
       "      <td>Skinbooster</td>\n",
       "      <td>Pharmacy 1</td>\n",
       "      <td>London</td>\n",
       "    </tr>\n",
       "    <tr>\n",
       "      <th>1</th>\n",
       "      <td>1-11-2015</td>\n",
       "      <td>11</td>\n",
       "      <td>4</td>\n",
       "      <td>2015</td>\n",
       "      <td>1</td>\n",
       "      <td>Injection 14</td>\n",
       "      <td>Skinbooster</td>\n",
       "      <td>Pharmacy 1</td>\n",
       "      <td>London</td>\n",
       "    </tr>\n",
       "    <tr>\n",
       "      <th>2</th>\n",
       "      <td>1-11-2015</td>\n",
       "      <td>11</td>\n",
       "      <td>4</td>\n",
       "      <td>2015</td>\n",
       "      <td>1</td>\n",
       "      <td>Injection 1</td>\n",
       "      <td>Dermafiller</td>\n",
       "      <td>Pharmacy 2</td>\n",
       "      <td>Outside London M25</td>\n",
       "    </tr>\n",
       "    <tr>\n",
       "      <th>3</th>\n",
       "      <td>1-11-2015</td>\n",
       "      <td>11</td>\n",
       "      <td>4</td>\n",
       "      <td>2015</td>\n",
       "      <td>1</td>\n",
       "      <td>Injection 2</td>\n",
       "      <td>Dermafiller</td>\n",
       "      <td>Pharmacy 2</td>\n",
       "      <td>Outside London M25</td>\n",
       "    </tr>\n",
       "    <tr>\n",
       "      <th>4</th>\n",
       "      <td>1-11-2015</td>\n",
       "      <td>11</td>\n",
       "      <td>4</td>\n",
       "      <td>2015</td>\n",
       "      <td>4</td>\n",
       "      <td>Injection 14</td>\n",
       "      <td>Skinbooster</td>\n",
       "      <td>Pharmacy 2</td>\n",
       "      <td>NorthEast, Midlands</td>\n",
       "    </tr>\n",
       "  </tbody>\n",
       "</table>\n",
       "</div>"
      ],
      "text/plain": [
       "        Date  Month  Quarter  Year  Qty       Product     Category  \\\n",
       "0  1-11-2015     11        4  2015    2  Injection 14  Skinbooster   \n",
       "1  1-11-2015     11        4  2015    1  Injection 14  Skinbooster   \n",
       "2  1-11-2015     11        4  2015    1   Injection 1  Dermafiller   \n",
       "3  1-11-2015     11        4  2015    1   Injection 2  Dermafiller   \n",
       "4  1-11-2015     11        4  2015    4  Injection 14  Skinbooster   \n",
       "\n",
       "     Pharmacy             Location  \n",
       "0  Pharmacy 1               London  \n",
       "1  Pharmacy 1               London  \n",
       "2  Pharmacy 2   Outside London M25  \n",
       "3  Pharmacy 2   Outside London M25  \n",
       "4  Pharmacy 2  NorthEast, Midlands  "
      ]
     },
     "execution_count": 104,
     "metadata": {},
     "output_type": "execute_result"
    }
   ],
   "source": [
    "df_sales.head()"
   ]
  },
  {
   "attachments": {},
   "cell_type": "markdown",
   "metadata": {},
   "source": [
    "Remove negative quantities"
   ]
  },
  {
   "cell_type": "code",
   "execution_count": 105,
   "metadata": {},
   "outputs": [
    {
     "data": {
      "text/html": [
       "<div>\n",
       "<style scoped>\n",
       "    .dataframe tbody tr th:only-of-type {\n",
       "        vertical-align: middle;\n",
       "    }\n",
       "\n",
       "    .dataframe tbody tr th {\n",
       "        vertical-align: top;\n",
       "    }\n",
       "\n",
       "    .dataframe thead th {\n",
       "        text-align: right;\n",
       "    }\n",
       "</style>\n",
       "<table border=\"1\" class=\"dataframe\">\n",
       "  <thead>\n",
       "    <tr style=\"text-align: right;\">\n",
       "      <th></th>\n",
       "      <th>Month</th>\n",
       "      <th>Quarter</th>\n",
       "      <th>Year</th>\n",
       "      <th>Qty</th>\n",
       "    </tr>\n",
       "  </thead>\n",
       "  <tbody>\n",
       "    <tr>\n",
       "      <th>count</th>\n",
       "      <td>68765.000000</td>\n",
       "      <td>68765.000000</td>\n",
       "      <td>68765.000000</td>\n",
       "      <td>68765.000000</td>\n",
       "    </tr>\n",
       "    <tr>\n",
       "      <th>mean</th>\n",
       "      <td>6.663099</td>\n",
       "      <td>2.540726</td>\n",
       "      <td>2019.926547</td>\n",
       "      <td>5.991696</td>\n",
       "    </tr>\n",
       "    <tr>\n",
       "      <th>std</th>\n",
       "      <td>3.508505</td>\n",
       "      <td>1.154372</td>\n",
       "      <td>1.441166</td>\n",
       "      <td>9.781164</td>\n",
       "    </tr>\n",
       "    <tr>\n",
       "      <th>min</th>\n",
       "      <td>1.000000</td>\n",
       "      <td>1.000000</td>\n",
       "      <td>2015.000000</td>\n",
       "      <td>-35.000000</td>\n",
       "    </tr>\n",
       "    <tr>\n",
       "      <th>25%</th>\n",
       "      <td>3.000000</td>\n",
       "      <td>1.000000</td>\n",
       "      <td>2019.000000</td>\n",
       "      <td>2.000000</td>\n",
       "    </tr>\n",
       "    <tr>\n",
       "      <th>50%</th>\n",
       "      <td>7.000000</td>\n",
       "      <td>3.000000</td>\n",
       "      <td>2020.000000</td>\n",
       "      <td>3.000000</td>\n",
       "    </tr>\n",
       "    <tr>\n",
       "      <th>75%</th>\n",
       "      <td>10.000000</td>\n",
       "      <td>4.000000</td>\n",
       "      <td>2021.000000</td>\n",
       "      <td>8.000000</td>\n",
       "    </tr>\n",
       "    <tr>\n",
       "      <th>max</th>\n",
       "      <td>12.000000</td>\n",
       "      <td>4.000000</td>\n",
       "      <td>2022.000000</td>\n",
       "      <td>750.000000</td>\n",
       "    </tr>\n",
       "  </tbody>\n",
       "</table>\n",
       "</div>"
      ],
      "text/plain": [
       "              Month       Quarter          Year           Qty\n",
       "count  68765.000000  68765.000000  68765.000000  68765.000000\n",
       "mean       6.663099      2.540726   2019.926547      5.991696\n",
       "std        3.508505      1.154372      1.441166      9.781164\n",
       "min        1.000000      1.000000   2015.000000    -35.000000\n",
       "25%        3.000000      1.000000   2019.000000      2.000000\n",
       "50%        7.000000      3.000000   2020.000000      3.000000\n",
       "75%       10.000000      4.000000   2021.000000      8.000000\n",
       "max       12.000000      4.000000   2022.000000    750.000000"
      ]
     },
     "execution_count": 105,
     "metadata": {},
     "output_type": "execute_result"
    }
   ],
   "source": [
    "df_sales.describe()"
   ]
  },
  {
   "cell_type": "code",
   "execution_count": 106,
   "metadata": {},
   "outputs": [
    {
     "data": {
      "text/plain": [
       "array([  2,   1,   4,   8,   3,  10,   5,   6,  15,   7,  18,  40,  16,\n",
       "        12,  13,   9,  30,  20,  24,  50,  60, 100,  17,  21,  -6,  11,\n",
       "        14,  -5,  28,  52,  26,  80,  19,  -3,  32,  -2,  38,   0,  25,\n",
       "        70,  64, 140,  56,  27,  33,  35,  31,  75,  36,  68,  -8,  65,\n",
       "        34,  92,  78,  -1,  83,  55, 110, -12,  22, -24,  41,  48,  84,\n",
       "        53,  49,  69,  23,  42,  47,  29,  39, 150,  72,  51,  37,  59,\n",
       "        45,  99,  -4,  58, -10,  44,  46, 136,  74,  61,  67,  73, 102,\n",
       "       227,  66,  54,  85, 120,  43,  63,  57, 144, 200,  76,  77, 210,\n",
       "       -17,  -9, 114,  82, -14,  81, -35,  96,  97, 105, -16,  90, 300,\n",
       "       157, 400, 245, 121,  86, 280, 750, 152,  87, 115], dtype=int64)"
      ]
     },
     "execution_count": 106,
     "metadata": {},
     "output_type": "execute_result"
    }
   ],
   "source": [
    "df_sales['Qty'].unique()"
   ]
  },
  {
   "cell_type": "code",
   "execution_count": 112,
   "metadata": {},
   "outputs": [],
   "source": [
    "df_sales = df_sales[df_sales['Qty'] != -35]\n",
    "df_sales = df_sales[df_sales['Qty'] != -24]\n",
    "df_sales = df_sales[df_sales['Qty'] != -17]\n",
    "df_sales = df_sales[df_sales['Qty'] != -16]\n",
    "df_sales = df_sales[df_sales['Qty'] != -14]\n",
    "df_sales = df_sales[df_sales['Qty'] != -12]\n",
    "df_sales = df_sales[df_sales['Qty'] != -10]\n",
    "df_sales = df_sales[df_sales['Qty'] != -9]\n",
    "df_sales = df_sales[df_sales['Qty'] != -8]\n",
    "df_sales = df_sales[df_sales['Qty'] != -6]\n",
    "df_sales = df_sales[df_sales['Qty'] != -5]\n",
    "df_sales = df_sales[df_sales['Qty'] != -4]\n",
    "df_sales = df_sales[df_sales['Qty'] != -3]\n",
    "df_sales = df_sales[df_sales['Qty'] != -2]\n",
    "df_sales = df_sales[df_sales['Qty'] != -1]\n",
    "df_sales = df_sales[df_sales['Qty'] != 0]"
   ]
  },
  {
   "cell_type": "code",
   "execution_count": 111,
   "metadata": {},
   "outputs": [
    {
     "data": {
      "text/plain": [
       "array([  2,   1,   4,   8,   3,  10,   5,   6,  15,   7,  18,  40,  16,\n",
       "        12,  13,   9,  30,  20,  24,  50,  60, 100,  17,  21,  11,  14,\n",
       "        28,  52,  26,  80,  19,  32,  38,   0,  25,  70,  64, 140,  56,\n",
       "        27,  33,  35,  31,  75,  36,  68,  65,  34,  92,  78,  83,  55,\n",
       "       110,  22,  41,  48,  84,  53,  49,  69,  23,  42,  47,  29,  39,\n",
       "       150,  72,  51,  37,  59,  45,  99,  58,  44,  46, 136,  74,  61,\n",
       "        67,  73, 102, 227,  66,  54,  85, 120,  43,  63,  57, 144, 200,\n",
       "        76,  77, 210, 114,  82,  81,  96,  97, 105,  90, 300, 157, 400,\n",
       "       245, 121,  86, 280, 750, 152,  87, 115], dtype=int64)"
      ]
     },
     "execution_count": 111,
     "metadata": {},
     "output_type": "execute_result"
    }
   ],
   "source": [
    "df_sales['Qty'].unique()"
   ]
  }
 ],
 "metadata": {
  "kernelspec": {
   "display_name": "base",
   "language": "python",
   "name": "python3"
  },
  "language_info": {
   "codemirror_mode": {
    "name": "ipython",
    "version": 3
   },
   "file_extension": ".py",
   "mimetype": "text/x-python",
   "name": "python",
   "nbconvert_exporter": "python",
   "pygments_lexer": "ipython3",
   "version": "3.9.7"
  },
  "orig_nbformat": 4,
  "vscode": {
   "interpreter": {
    "hash": "a46a32d985e4b1cac3fef3f6514d851ff6ec93452344112c2aee786e80a65b97"
   }
  }
 },
 "nbformat": 4,
 "nbformat_minor": 2
}
