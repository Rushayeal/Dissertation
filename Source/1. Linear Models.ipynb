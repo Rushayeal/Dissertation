{
 "cells": [
  {
   "attachments": {},
   "cell_type": "markdown",
   "metadata": {},
   "source": [
    "Linear Models"
   ]
  },
  {
   "cell_type": "code",
   "execution_count": 37,
   "metadata": {},
   "outputs": [
    {
     "data": {
      "text/html": [
       "<div>\n",
       "<style scoped>\n",
       "    .dataframe tbody tr th:only-of-type {\n",
       "        vertical-align: middle;\n",
       "    }\n",
       "\n",
       "    .dataframe tbody tr th {\n",
       "        vertical-align: top;\n",
       "    }\n",
       "\n",
       "    .dataframe thead th {\n",
       "        text-align: right;\n",
       "    }\n",
       "</style>\n",
       "<table border=\"1\" class=\"dataframe\">\n",
       "  <thead>\n",
       "    <tr style=\"text-align: right;\">\n",
       "      <th></th>\n",
       "      <th>Date</th>\n",
       "      <th>Month</th>\n",
       "      <th>Quarter</th>\n",
       "      <th>Year</th>\n",
       "      <th>Qty</th>\n",
       "      <th>Product</th>\n",
       "      <th>Category</th>\n",
       "      <th>Pharmacy</th>\n",
       "      <th>Location</th>\n",
       "    </tr>\n",
       "  </thead>\n",
       "  <tbody>\n",
       "    <tr>\n",
       "      <th>0</th>\n",
       "      <td>1-11-2015</td>\n",
       "      <td>11</td>\n",
       "      <td>4</td>\n",
       "      <td>2015</td>\n",
       "      <td>2</td>\n",
       "      <td>Injection 14</td>\n",
       "      <td>Skinbooster</td>\n",
       "      <td>Pharmacy 1</td>\n",
       "      <td>London</td>\n",
       "    </tr>\n",
       "    <tr>\n",
       "      <th>1</th>\n",
       "      <td>1-11-2015</td>\n",
       "      <td>11</td>\n",
       "      <td>4</td>\n",
       "      <td>2015</td>\n",
       "      <td>1</td>\n",
       "      <td>Injection 14</td>\n",
       "      <td>Skinbooster</td>\n",
       "      <td>Pharmacy 1</td>\n",
       "      <td>London</td>\n",
       "    </tr>\n",
       "    <tr>\n",
       "      <th>2</th>\n",
       "      <td>1-11-2015</td>\n",
       "      <td>11</td>\n",
       "      <td>4</td>\n",
       "      <td>2015</td>\n",
       "      <td>1</td>\n",
       "      <td>Injection 1</td>\n",
       "      <td>Dermafiller</td>\n",
       "      <td>Pharmacy 2</td>\n",
       "      <td>Outside London M25</td>\n",
       "    </tr>\n",
       "    <tr>\n",
       "      <th>3</th>\n",
       "      <td>1-11-2015</td>\n",
       "      <td>11</td>\n",
       "      <td>4</td>\n",
       "      <td>2015</td>\n",
       "      <td>1</td>\n",
       "      <td>Injection 2</td>\n",
       "      <td>Dermafiller</td>\n",
       "      <td>Pharmacy 2</td>\n",
       "      <td>Outside London M25</td>\n",
       "    </tr>\n",
       "    <tr>\n",
       "      <th>4</th>\n",
       "      <td>1-11-2015</td>\n",
       "      <td>11</td>\n",
       "      <td>4</td>\n",
       "      <td>2015</td>\n",
       "      <td>4</td>\n",
       "      <td>Injection 14</td>\n",
       "      <td>Skinbooster</td>\n",
       "      <td>Pharmacy 2</td>\n",
       "      <td>NorthEast, Midlands</td>\n",
       "    </tr>\n",
       "  </tbody>\n",
       "</table>\n",
       "</div>"
      ],
      "text/plain": [
       "        Date  Month  Quarter  Year  Qty       Product     Category  \\\n",
       "0  1-11-2015     11        4  2015    2  Injection 14  Skinbooster   \n",
       "1  1-11-2015     11        4  2015    1  Injection 14  Skinbooster   \n",
       "2  1-11-2015     11        4  2015    1   Injection 1  Dermafiller   \n",
       "3  1-11-2015     11        4  2015    1   Injection 2  Dermafiller   \n",
       "4  1-11-2015     11        4  2015    4  Injection 14  Skinbooster   \n",
       "\n",
       "     Pharmacy             Location  \n",
       "0  Pharmacy 1               London  \n",
       "1  Pharmacy 1               London  \n",
       "2  Pharmacy 2   Outside London M25  \n",
       "3  Pharmacy 2   Outside London M25  \n",
       "4  Pharmacy 2  NorthEast, Midlands  "
      ]
     },
     "execution_count": 37,
     "metadata": {},
     "output_type": "execute_result"
    }
   ],
   "source": [
    "import pandas as pd\n",
    "from sklearn.preprocessing import OneHotEncoder\n",
    "\n",
    "sales_data = pd.read_csv('../Data/SalesData.csv', delimiter=',', header='infer', encoding='latin-1')\n",
    "sales_data.head()"
   ]
  },
  {
   "cell_type": "code",
   "execution_count": 38,
   "metadata": {},
   "outputs": [
    {
     "data": {
      "text/plain": [
       "Date        object\n",
       "Month        int64\n",
       "Quarter      int64\n",
       "Year         int64\n",
       "Qty          int64\n",
       "Product     object\n",
       "Category    object\n",
       "Pharmacy    object\n",
       "Location    object\n",
       "dtype: object"
      ]
     },
     "execution_count": 38,
     "metadata": {},
     "output_type": "execute_result"
    }
   ],
   "source": [
    "sales_data.dtypes"
   ]
  },
  {
   "cell_type": "code",
   "execution_count": 39,
   "metadata": {},
   "outputs": [],
   "source": [
    "target = ['Qty']\n",
    "features = ['Category', 'Date', 'Location']"
   ]
  },
  {
   "cell_type": "code",
   "execution_count": 40,
   "metadata": {},
   "outputs": [],
   "source": [
    "y = sales_data[target].values\n",
    "X = sales_data[features].values"
   ]
  },
  {
   "cell_type": "code",
   "execution_count": 41,
   "metadata": {},
   "outputs": [
    {
     "name": "stdout",
     "output_type": "stream",
     "text": [
      "[[0. 0. 0. ... 0. 0. 0.]\n",
      " [0. 0. 0. ... 0. 0. 0.]\n",
      " [1. 0. 0. ... 0. 0. 0.]\n",
      " ...\n",
      " [0. 0. 0. ... 0. 0. 0.]\n",
      " [0. 0. 0. ... 0. 0. 0.]\n",
      " [0. 0. 0. ... 0. 0. 0.]]\n"
     ]
    }
   ],
   "source": [
    "# #one-hot encoding\n",
    "# enc = OneHotEncoder(handle_unknown='ignore')\n",
    "# enc.fit(X)\n",
    "# enc.categories_\n",
    "# enc.transform(X).toarray()\n",
    "\n",
    "# enc = pd.get_dummies(sales_data.Category, prefix='Category')\n",
    "# print(enc.head())\n",
    "\n",
    "\n",
    "X = OneHotEncoder().fit_transform(X).toarray()\n",
    "print(X)"
   ]
  },
  {
   "cell_type": "code",
   "execution_count": 42,
   "metadata": {},
   "outputs": [],
   "source": [
    "#sales_data.head()"
   ]
  },
  {
   "cell_type": "code",
   "execution_count": 43,
   "metadata": {},
   "outputs": [],
   "source": [
    "from sklearn.model_selection import train_test_split\n",
    "\n",
    "X_train, X_test, y_train, y_test = train_test_split(X, y, test_size=0.3, random_state=1)"
   ]
  },
  {
   "cell_type": "code",
   "execution_count": 44,
   "metadata": {},
   "outputs": [
    {
     "name": "stdout",
     "output_type": "stream",
     "text": [
      "(48045, 93)\n",
      "(20591, 93)\n"
     ]
    }
   ],
   "source": [
    "print (X_train.shape) # records will be used for testing\n",
    "print (X_test.shape) # records will be used for testing"
   ]
  },
  {
   "cell_type": "code",
   "execution_count": 45,
   "metadata": {},
   "outputs": [],
   "source": [
    "from sklearn.metrics import mean_squared_error, r2_score\n",
    "import numpy as np\n",
    "\n",
    "def display_metrics(test_data, predicted_data):\n",
    "    mse = mean_squared_error(test_data, predicted_data)\n",
    "    rmse = np.sqrt(mse)\n",
    "    r2 = r2_score(test_data, predicted_data)\n",
    "\n",
    "    print('RMSE : {:.2f}'.format(rmse))\n",
    "    print('R^2 : {:.2f}'.format(r2))"
   ]
  },
  {
   "cell_type": "code",
   "execution_count": null,
   "metadata": {},
   "outputs": [],
   "source": [
    "# import statsmodels.formula.api as smf\n",
    "# import statsmodels.api as sm\n",
    "# import numpy as np\n",
    "# from matplotlib import pyplot as plt\n",
    "\n",
    "# #Thickness vs sound Pressure\n",
    "# # Create formula\n",
    "# formula = \"Qty ~ thickness\"\n",
    "\n",
    "# # Perform linear regression\n",
    "# model = smf.ols(formula=formula, data=sales_data).fit()\n",
    "\n",
    "# # plot actual data, and fitted line\n",
    "# plt.plot(data.thickness, data.soundPressure, 'o', label='data')\n",
    "# plt.plot(data.thickness, model.fittedvalues, color='red', label=\"OLS\")\n",
    "# plt.legend(loc='best')\n",
    "\n",
    "# print(data['soundPressure'].corr(data['thickness']))\n",
    "\n",
    "# model.summary()"
   ]
  },
  {
   "cell_type": "code",
   "execution_count": 46,
   "metadata": {},
   "outputs": [
    {
     "name": "stdout",
     "output_type": "stream",
     "text": [
      "RMSE : 11.57\n",
      "R^2 : 0.00\n"
     ]
    }
   ],
   "source": [
    "from sklearn.linear_model import Lasso\n",
    "\n",
    "model = Lasso().fit(X_train, y_train)\n",
    "predictions = model.predict(X_test)\n",
    "display_metrics(y_test, predictions)"
   ]
  },
  {
   "cell_type": "code",
   "execution_count": 47,
   "metadata": {},
   "outputs": [
    {
     "name": "stdout",
     "output_type": "stream",
     "text": [
      "[6.11681124 6.11681124 6.11681124 ... 6.11681124 6.11681124 6.11681124]\n",
      "[[ 8]\n",
      " [17]\n",
      " [ 3]\n",
      " ...\n",
      " [ 1]\n",
      " [ 4]\n",
      " [ 2]]\n"
     ]
    }
   ],
   "source": [
    "print(predictions)\n",
    "print(y_test)"
   ]
  },
  {
   "cell_type": "code",
   "execution_count": 48,
   "metadata": {},
   "outputs": [
    {
     "name": "stdout",
     "output_type": "stream",
     "text": [
      "RMSE : 11.31\n",
      "R^2 : 0.05\n"
     ]
    }
   ],
   "source": [
    "from sklearn import tree \n",
    "\n",
    "model = tree.DecisionTreeRegressor().fit(X_train, y_train)\n",
    "predictions = model.predict(X_test)\n",
    "display_metrics(y_test, predictions)"
   ]
  },
  {
   "cell_type": "code",
   "execution_count": 49,
   "metadata": {},
   "outputs": [
    {
     "name": "stdout",
     "output_type": "stream",
     "text": [
      "[ 5.79710145 18.66666667  7.33846154 ...  8.0173913   7.4494382\n",
      " 10.44303797]\n",
      "[[ 8]\n",
      " [17]\n",
      " [ 3]\n",
      " ...\n",
      " [ 1]\n",
      " [ 4]\n",
      " [ 2]]\n"
     ]
    }
   ],
   "source": [
    "print(predictions)\n",
    "print(y_test)"
   ]
  },
  {
   "cell_type": "code",
   "execution_count": 50,
   "metadata": {},
   "outputs": [
    {
     "name": "stdout",
     "output_type": "stream",
     "text": [
      "RMSE : 11.28\n",
      "R^2 : 0.05\n"
     ]
    }
   ],
   "source": [
    "from sklearn import linear_model\n",
    "\n",
    "model = linear_model.LinearRegression().fit(X_train, y_train)\n",
    "predictions = model.predict(X_test)\n",
    "display_metrics(y_test, predictions)"
   ]
  },
  {
   "cell_type": "code",
   "execution_count": 51,
   "metadata": {},
   "outputs": [
    {
     "name": "stdout",
     "output_type": "stream",
     "text": [
      "RMSE : 11.28\n",
      "R^2 : 0.05\n"
     ]
    }
   ],
   "source": [
    "reg = linear_model.LinearRegression().fit(X_train, y_train)\n",
    "reg.score(X_train, y_train)\n",
    "\n",
    "reg.coef_\n",
    "\n",
    "reg.intercept_\n",
    "\n",
    "reg.predict(X_test)\n",
    "display_metrics(y_test, predictions)"
   ]
  },
  {
   "cell_type": "code",
   "execution_count": 52,
   "metadata": {},
   "outputs": [],
   "source": [
    "# import matplotlib.pyplot as plt\n",
    "\n",
    "# X_train=np.arange(0,len(X_train),1)\n",
    "\n",
    "# plt.scatter(X_train, y_train, color=\"black\")\n",
    "# plt.plot(X_test, predictions, color=\"blue\", linewidth=3)\n",
    "\n",
    "# plt.xticks(())\n",
    "# plt.yticks(())\n",
    "\n",
    "# plt.show()"
   ]
  },
  {
   "cell_type": "code",
   "execution_count": 53,
   "metadata": {},
   "outputs": [
    {
     "name": "stdout",
     "output_type": "stream",
     "text": [
      "[[ 5.96484375]\n",
      " [11.03515625]\n",
      " [ 7.3984375 ]\n",
      " ...\n",
      " [ 7.30078125]\n",
      " [ 6.9765625 ]\n",
      " [10.16796875]]\n",
      "[[ 8]\n",
      " [17]\n",
      " [ 3]\n",
      " ...\n",
      " [ 1]\n",
      " [ 4]\n",
      " [ 2]]\n"
     ]
    }
   ],
   "source": [
    "print(predictions)\n",
    "print(y_test)"
   ]
  },
  {
   "cell_type": "code",
   "execution_count": 54,
   "metadata": {},
   "outputs": [
    {
     "name": "stderr",
     "output_type": "stream",
     "text": [
      "c:\\Users\\galea\\anaconda3\\lib\\site-packages\\sklearn\\utils\\validation.py:63: DataConversionWarning: A column-vector y was passed when a 1d array was expected. Please change the shape of y to (n_samples, ), for example using ravel().\n",
      "  return f(*args, **kwargs)\n"
     ]
    },
    {
     "name": "stdout",
     "output_type": "stream",
     "text": [
      "RMSE : 11.28\n",
      "R^2 : 0.05\n"
     ]
    }
   ],
   "source": [
    "from sklearn import linear_model\n",
    "\n",
    "model = linear_model.BayesianRidge().fit(X_train, y_train)\n",
    "predictions = model.predict(X_test)\n",
    "display_metrics(y_test, predictions)"
   ]
  },
  {
   "cell_type": "code",
   "execution_count": 55,
   "metadata": {},
   "outputs": [
    {
     "name": "stdout",
     "output_type": "stream",
     "text": [
      "[ 6.05598583 11.00955646  7.42239086 ...  7.3132847   7.01700938\n",
      " 10.15273154]\n",
      "[[ 8]\n",
      " [17]\n",
      " [ 3]\n",
      " ...\n",
      " [ 1]\n",
      " [ 4]\n",
      " [ 2]]\n"
     ]
    }
   ],
   "source": [
    "print(predictions)\n",
    "print(y_test)"
   ]
  }
 ],
 "metadata": {
  "kernelspec": {
   "display_name": "base",
   "language": "python",
   "name": "python3"
  },
  "language_info": {
   "codemirror_mode": {
    "name": "ipython",
    "version": 3
   },
   "file_extension": ".py",
   "mimetype": "text/x-python",
   "name": "python",
   "nbconvert_exporter": "python",
   "pygments_lexer": "ipython3",
   "version": "3.9.7"
  },
  "orig_nbformat": 4
 },
 "nbformat": 4,
 "nbformat_minor": 2
}
