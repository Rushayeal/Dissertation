{
 "cells": [
  {
   "cell_type": "code",
   "execution_count": null,
   "metadata": {},
   "outputs": [],
   "source": [
    "from matplotlib import pyplot as plt\n",
    "\n",
    "plt.hist(df_sales.Location)\n",
    "plt.xlabel(\"Location\")\n",
    "plt.ylabel(\"Count\")\n",
    "plt.title(\"Location Count\")"
   ]
  },
  {
   "cell_type": "code",
   "execution_count": null,
   "metadata": {},
   "outputs": [],
   "source": [
    "features = ['Year', 'Product', 'Location', 'Month', 'Quarter', 'Category']\n",
    "\n",
    "fig, ax = plt.subplots(len(features), 1, figsize = (10, 50))\n",
    "\n",
    "for i in range(0, len(features)):\n",
    "#for idx, col in enumerate(features, 0):\n",
    "    ax[i].plot(df_sales['Qty'], df_sales[features[i]], 'o')\n",
    "    ax[i].set_xlabel('Qty')\n",
    "    ax[i].set_ylabel(features[i])\n",
    "    ax[i].set_title(features[i])\n",
    "\n",
    "plt.show()"
   ]
  },
  {
   "cell_type": "code",
   "execution_count": null,
   "metadata": {},
   "outputs": [],
   "source": [
    "import statsmodels.formula.api as smf\n",
    "\n",
    "features = ['Year', 'Product', 'Location', 'Month', 'Quarter', 'Category']\n",
    "\n",
    "fig, ax = plt.subplots(len(features), 1, figsize=(15, 50))\n",
    "\n",
    "for i in range(0, len(features)):\n",
    "    model = smf.ols('Qty~'+features[i], df_sales).fit()\n",
    "    print('The r^2 of {} is {:.2f}'.format(features[i], model.rsquared))\n",
    "    ax[i].scatter(df_sales[features[i]], df_sales.Qty, label='data')\n",
    "    ax[i].plot(df_sales[features[i]], model.fittedvalues, color='red', label='OLS')\n",
    "    ax[i].legend()\n",
    "    ax[i].set_title('Regression Qty~ '+features[i])"
   ]
  },
  {
   "cell_type": "code",
   "execution_count": null,
   "metadata": {},
   "outputs": [],
   "source": [
    "df_sales.dtypes"
   ]
  },
  {
   "cell_type": "code",
   "execution_count": null,
   "metadata": {},
   "outputs": [],
   "source": [
    "df_sales.Year.unique()"
   ]
  },
  {
   "cell_type": "code",
   "execution_count": null,
   "metadata": {},
   "outputs": [],
   "source": [
    "df_sales.Year = df_sales.Year.astype(float)"
   ]
  },
  {
   "cell_type": "code",
   "execution_count": null,
   "metadata": {},
   "outputs": [],
   "source": [
    "df_sales.Month.unique()\n",
    "df_sales.Month = df_sales.Month.astype(float)"
   ]
  },
  {
   "cell_type": "code",
   "execution_count": null,
   "metadata": {},
   "outputs": [],
   "source": [
    "df_sales.dtypes"
   ]
  },
  {
   "cell_type": "code",
   "execution_count": null,
   "metadata": {},
   "outputs": [],
   "source": [
    "formula = \"Qty~Year+Product+Location+Month+Quarter+Category\"\n",
    "model = smf.ols(formula, df_sales).fit()\n",
    "print(model.rsquared_adj)"
   ]
  },
  {
   "cell_type": "code",
   "execution_count": null,
   "metadata": {},
   "outputs": [],
   "source": [
    "model.summary()"
   ]
  }
 ],
 "metadata": {
  "kernelspec": {
   "display_name": "Python 3",
   "language": "python",
   "name": "python3"
  },
  "language_info": {
   "name": "python",
   "version": "3.10.8 (tags/v3.10.8:aaaf517, Oct 11 2022, 16:50:30) [MSC v.1933 64 bit (AMD64)]"
  },
  "orig_nbformat": 4,
  "vscode": {
   "interpreter": {
    "hash": "c929a5d7e4254d369f917ea855f3ecb21a4ea51eacaaa8f2cadbdfaf46fac78c"
   }
  }
 },
 "nbformat": 4,
 "nbformat_minor": 2
}
