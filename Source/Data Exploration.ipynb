{
 "cells": [
  {
   "cell_type": "code",
   "execution_count": 1,
   "metadata": {},
   "outputs": [],
   "source": [
    "import pandas as pd\n",
    "from matplotlib import pyplot as plt"
   ]
  },
  {
   "cell_type": "code",
   "execution_count": 2,
   "metadata": {},
   "outputs": [],
   "source": [
    "df_sales = pd.read_csv('../Data/SalesData.csv', delimiter=',', header='infer', encoding='latin-1')"
   ]
  },
  {
   "cell_type": "code",
   "execution_count": 3,
   "metadata": {},
   "outputs": [
    {
     "data": {
      "text/html": [
       "<div>\n",
       "<style scoped>\n",
       "    .dataframe tbody tr th:only-of-type {\n",
       "        vertical-align: middle;\n",
       "    }\n",
       "\n",
       "    .dataframe tbody tr th {\n",
       "        vertical-align: top;\n",
       "    }\n",
       "\n",
       "    .dataframe thead th {\n",
       "        text-align: right;\n",
       "    }\n",
       "</style>\n",
       "<table border=\"1\" class=\"dataframe\">\n",
       "  <thead>\n",
       "    <tr style=\"text-align: right;\">\n",
       "      <th></th>\n",
       "      <th>Date</th>\n",
       "      <th>Month</th>\n",
       "      <th>Quarter</th>\n",
       "      <th>Year</th>\n",
       "      <th>Qty</th>\n",
       "      <th>Product</th>\n",
       "      <th>Category</th>\n",
       "      <th>Pharmacy</th>\n",
       "      <th>Location</th>\n",
       "    </tr>\n",
       "  </thead>\n",
       "  <tbody>\n",
       "    <tr>\n",
       "      <th>0</th>\n",
       "      <td>1-11-2015</td>\n",
       "      <td>11</td>\n",
       "      <td>4</td>\n",
       "      <td>2015</td>\n",
       "      <td>2</td>\n",
       "      <td>Injection 14</td>\n",
       "      <td>Skinbooster</td>\n",
       "      <td>Pharmacy 1</td>\n",
       "      <td>London</td>\n",
       "    </tr>\n",
       "    <tr>\n",
       "      <th>1</th>\n",
       "      <td>1-11-2015</td>\n",
       "      <td>11</td>\n",
       "      <td>4</td>\n",
       "      <td>2015</td>\n",
       "      <td>1</td>\n",
       "      <td>Injection 14</td>\n",
       "      <td>Skinbooster</td>\n",
       "      <td>Pharmacy 1</td>\n",
       "      <td>London</td>\n",
       "    </tr>\n",
       "    <tr>\n",
       "      <th>2</th>\n",
       "      <td>1-11-2015</td>\n",
       "      <td>11</td>\n",
       "      <td>4</td>\n",
       "      <td>2015</td>\n",
       "      <td>1</td>\n",
       "      <td>Injection 1</td>\n",
       "      <td>Dermafiller</td>\n",
       "      <td>Pharmacy 2</td>\n",
       "      <td>Outside London M25</td>\n",
       "    </tr>\n",
       "    <tr>\n",
       "      <th>3</th>\n",
       "      <td>1-11-2015</td>\n",
       "      <td>11</td>\n",
       "      <td>4</td>\n",
       "      <td>2015</td>\n",
       "      <td>1</td>\n",
       "      <td>Injection 2</td>\n",
       "      <td>Dermafiller</td>\n",
       "      <td>Pharmacy 2</td>\n",
       "      <td>Outside London M25</td>\n",
       "    </tr>\n",
       "    <tr>\n",
       "      <th>4</th>\n",
       "      <td>1-11-2015</td>\n",
       "      <td>11</td>\n",
       "      <td>4</td>\n",
       "      <td>2015</td>\n",
       "      <td>4</td>\n",
       "      <td>Injection 14</td>\n",
       "      <td>Skinbooster</td>\n",
       "      <td>Pharmacy 2</td>\n",
       "      <td>NorthEast, Midlands</td>\n",
       "    </tr>\n",
       "  </tbody>\n",
       "</table>\n",
       "</div>"
      ],
      "text/plain": [
       "        Date  Month  Quarter  Year  Qty       Product     Category  \\\n",
       "0  1-11-2015     11        4  2015    2  Injection 14  Skinbooster   \n",
       "1  1-11-2015     11        4  2015    1  Injection 14  Skinbooster   \n",
       "2  1-11-2015     11        4  2015    1   Injection 1  Dermafiller   \n",
       "3  1-11-2015     11        4  2015    1   Injection 2  Dermafiller   \n",
       "4  1-11-2015     11        4  2015    4  Injection 14  Skinbooster   \n",
       "\n",
       "     Pharmacy             Location  \n",
       "0  Pharmacy 1               London  \n",
       "1  Pharmacy 1               London  \n",
       "2  Pharmacy 2   Outside London M25  \n",
       "3  Pharmacy 2   Outside London M25  \n",
       "4  Pharmacy 2  NorthEast, Midlands  "
      ]
     },
     "execution_count": 3,
     "metadata": {},
     "output_type": "execute_result"
    }
   ],
   "source": [
    "df_sales.head(5)"
   ]
  },
  {
   "cell_type": "code",
   "execution_count": 4,
   "metadata": {},
   "outputs": [
    {
     "data": {
      "text/plain": [
       "Text(0.5, 1.0, 'Location Count')"
      ]
     },
     "execution_count": 4,
     "metadata": {},
     "output_type": "execute_result"
    },
    {
     "data": {
      "image/png": "[encoded data removed]",
      "text/plain": [
       "<Figure size 432x288 with 1 Axes>"
      ]
     },
     "metadata": {
      "needs_background": "light"
     },
     "output_type": "display_data"
    }
   ],
   "source": [
    "plt.hist(df_sales.Location)\n",
    "plt.xlabel(\"Location\")\n",
    "plt.ylabel(\"Count\")\n",
    "plt.title(\"Location Count\")"
   ]
  },
  {
   "cell_type": "code",
   "execution_count": null,
   "metadata": {},
   "outputs": [],
   "source": [
    "features = ['Year', 'Product', 'Location', 'Month', 'Quarter', 'Category']\n",
    "\n",
    "fig, ax = plt.subplots(len(features), 1, figsize = (10, 50))\n",
    "\n",
    "for i in range(0, len(features)):\n",
    "#for idx, col in enumerate(features, 0):\n",
    "    ax[i].plot(df_sales['Qty'], df_sales[features[i]], 'o')\n",
    "    ax[i].set_xlabel('Qty')\n",
    "    ax[i].set_ylabel(features[i])\n",
    "    ax[i].set_title(features[i])\n",
    "\n",
    "plt.show()"
   ]
  },
  {
   "cell_type": "code",
   "execution_count": null,
   "metadata": {},
   "outputs": [],
   "source": [
    "import statsmodels.formula.api as smf\n",
    "\n",
    "features = ['Year', 'Product', 'Location', 'Month', 'Quarter', 'Category']\n",
    "\n",
    "fig, ax = plt.subplots(len(features), 1, figsize=(15, 50))\n",
    "\n",
    "for i in range(0, len(features)):\n",
    "    model = smf.ols('Qty~'+features[i], df_sales).fit()\n",
    "    print('The r^2 of {} is {:.2f}'.format(features[i], model.rsquared))\n",
    "    ax[i].scatter(df_sales[features[i]], df_sales.Qty, label='data')\n",
    "    ax[i].plot(df_sales[features[i]], model.fittedvalues, color='red', label='OLS')\n",
    "    ax[i].legend()\n",
    "    ax[i].set_title('Regression Qty~ '+features[i])"
   ]
  },
  {
   "cell_type": "code",
   "execution_count": null,
   "metadata": {},
   "outputs": [],
   "source": [
    "df_sales.dtypes"
   ]
  },
  {
   "cell_type": "code",
   "execution_count": null,
   "metadata": {},
   "outputs": [],
   "source": [
    "df_sales.Year.unique()"
   ]
  },
  {
   "cell_type": "code",
   "execution_count": null,
   "metadata": {},
   "outputs": [],
   "source": [
    "df_sales.Year = df_sales.Year.astype(float)"
   ]
  },
  {
   "cell_type": "code",
   "execution_count": null,
   "metadata": {},
   "outputs": [],
   "source": [
    "df_sales.Month.unique()\n",
    "df_sales.Month = df_sales.Month.astype(float)"
   ]
  },
  {
   "cell_type": "code",
   "execution_count": null,
   "metadata": {},
   "outputs": [],
   "source": [
    "df_sales.dtypes"
   ]
  },
  {
   "cell_type": "code",
   "execution_count": null,
   "metadata": {},
   "outputs": [],
   "source": [
    "formula = \"Qty~Year+Product+Location+Month+Quarter+Category\"\n",
    "model = smf.ols(formula, df_sales).fit()\n",
    "print(model.rsquared_adj)"
   ]
  },
  {
   "cell_type": "code",
   "execution_count": null,
   "metadata": {},
   "outputs": [],
   "source": [
    "model.summary()"
   ]
  }
 ],
 "metadata": {
  "kernelspec": {
   "display_name": "Python 3",
   "language": "python",
   "name": "python3"
  },
  "language_info": {
   "codemirror_mode": {
    "name": "ipython",
    "version": 3
   },
   "file_extension": ".py",
   "mimetype": "text/x-python",
   "name": "python",
   "nbconvert_exporter": "python",
   "pygments_lexer": "ipython3",
   "version": "3.9.7"
  },
  "orig_nbformat": 4,
  "vscode": {
   "interpreter": {
    "hash": "c929a5d7e4254d369f917ea855f3ecb21a4ea51eacaaa8f2cadbdfaf46fac78c"
   }
  }
 },
 "nbformat": 4,
 "nbformat_minor": 2
}
